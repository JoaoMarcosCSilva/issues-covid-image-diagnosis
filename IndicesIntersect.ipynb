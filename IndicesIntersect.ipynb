{
 "cells": [
  {
   "cell_type": "code",
   "execution_count": 1,
   "metadata": {},
   "outputs": [],
   "source": [
    "# Starts the autoreload extension, which allows editing the .py files with the notebook running and automatically imports the latest changes\n",
    "\n",
    "%load_ext autoreload\n",
    "%autoreload 2\n",
    "\n",
    "import trim_duplicates, model, network, gradcam, plots\n",
    "from dataset import Dataset\n",
    "import haiku as hk\n",
    "import jax.numpy as jnp\n",
    "import numpy as np\n",
    "import jax\n",
    "import sklearn\n",
    "import wandb\n",
    "from trim_duplicates import DuplicatesData\n",
    "import matplotlib.pyplot as plt\n",
    "\n",
    "assert jax.local_device_count() >= 8\n",
    "\n",
    "NUM_CLASSES = 4\n",
    "SEED = 14\n",
    "BATCH_SIZE = 128\n",
    "\n",
    "def basemodel_process(x): return x"
   ]
  },
  {
   "cell_type": "code",
   "execution_count": 2,
   "metadata": {},
   "outputs": [
    {
     "name": "stdout",
     "output_type": "stream",
     "text": [
      "Loaded mendeley ['Normal', 'Viral pneumonia', 'COVID-19', 'Bacterial pneumonia']\n",
      "Loaded tawsifur ['Normal', 'Viral pneumonia', 'COVID-19', 'Lung opacity']\n"
     ]
    }
   ],
   "source": [
    "rng = jax.random.PRNGKey(SEED)\n",
    "dataset_mendeley = Dataset.load(\"data/mendeley\", rng=rng, official_split=False)\n",
    "dataset_tawsifur = Dataset.load(\"data/tawsifur\", rng=rng, official_split=False)\n",
    "print(\"Loaded mendeley\", dataset_mendeley.classnames)\n",
    "print(\"Loaded tawsifur\", dataset_tawsifur.classnames)"
   ]
  },
  {
   "cell_type": "code",
   "execution_count": 15,
   "metadata": {},
   "outputs": [
    {
     "name": "stdout",
     "output_type": "stream",
     "text": [
      "CV-INT: 187 (0.9%)\n"
     ]
    }
   ],
   "source": [
    "def report_dups(title, count, ds):\n",
    "    print(title + \":\", count, \"(\" + str(round(count / ds.x_all.shape[0] * 1000)/10) + \"%)\")\n",
    "\n",
    "def is_dup(indices, i, dont_count):\n",
    "    for v in indices:\n",
    "        if len(v) > 1 and i not in dont_count and i in v:\n",
    "            for j in v:\n",
    "                if j != i:\n",
    "                    dont_count[j] = True\n",
    "            return True\n",
    "    return False\n",
    "\n",
    "def count_dups(groups, ds):\n",
    "    dont_count = {}\n",
    "    dups_count = 0\n",
    "\n",
    "    for i in range(ds.x_all.shape[0]):\n",
    "        if is_dup(groups, i, dont_count):\n",
    "            dups_count += 1\n",
    "    \n",
    "    return dups_count\n",
    "\n",
    "def show_diff(ds, global_set, max_rows=4):\n",
    "    actual_name = ds.name.split(\"/\")[-1]\n",
    "    dups = DuplicatesData.load(\"dup_data/cv_\" + actual_name + \"_0.pickle\")\n",
    "    dups_pix = DuplicatesData.load(\"dup_data/\" + actual_name + \"_pix.pickle\")\n",
    "\n",
    "    assert global_set == \"embed\" or global_set == \"pix\"\n",
    "\n",
    "    if global_set == \"embed\":\n",
    "        global_set = dups.indices\n",
    "        other_set = dups_pix.indices\n",
    "    else:\n",
    "        global_set = dups_pix.indices\n",
    "        other_set = dups.indices\n",
    "    \n",
    "    diff = global_set - dups.indices.intersection(dups_pix.indices)\n",
    "    \n",
    "    total_dups_two_sets = 0\n",
    "    dont_count = {}\n",
    "\n",
    "    for i in range(ds.x_all.shape[0]):       \n",
    "        if is_dup(dups, i, dont_count) and is_dup(dups_pix, i, dont_count):\n",
    "            total_dups_two_sets += 1\n",
    "\n",
    "    report_dups(\"Total pix dups\", count_dups(dups_pix.indices, ds), ds)\n",
    "    report_dups(\"Total embed dups\", count_dups(dups.indices, ds), ds)\n",
    "    # report_dups(\"Intersection\", total_dups_two_sets, ds)\n",
    "\n",
    "    #assert jnp.all(ds.rng == dups.rng) and jnp.all(ds.rng == dups_pix.rng)\n",
    "\n",
    "    other_dups_map = {}\n",
    "    for group in other_set:\n",
    "        if len(group) > 1:\n",
    "            for i in group:\n",
    "                other_dups_map[i] = True\n",
    "        \n",
    "    imgs = []\n",
    "    for v in diff:\n",
    "        imgs.append([])\n",
    "        if len(v) > 1:\n",
    "            for i in v:\n",
    "                print(i, ds.paths_all[i])\n",
    "                imgs[len(imgs)-1].append({ \"img\": ds.x_all[i,:,:,:], \"color\": \"red\" if i not in other_dups_map else \"black\" })\n",
    "    \n",
    "    plots.compare_n_images(imgs, rows=max_rows)\n",
    "\n",
    "show_diff(dataset_mendeley, \"embed\")\n",
    "\n",
    "### COUNTS DUPS INTERSECTION ACROSS CROSS VALIDATION SETS ###\n",
    "\n",
    "actual_name = \"tawsifur\"\n",
    "ds = dataset_tawsifur\n",
    "\n",
    "cvs = []\n",
    "for i in range(5):\n",
    "    cvs.append(DuplicatesData.load(\"dup_data/cv_\" + actual_name + \"_\" + str(i) + \".pickle\"))\n",
    "cvs.append(DuplicatesData.load(\"dup_data/\" + actual_name + \"_pix.pickle\"))\n",
    "\n",
    "dups_in_all = 0\n",
    "dont_count = {}\n",
    "\n",
    "for i in range(ds.x_all.shape[0]):   \n",
    "    in_all = True\n",
    "    for cv in range(len(cvs)):\n",
    "        if not is_dup(cvs[cv].indices, i, dont_count):\n",
    "            in_all = False\n",
    "            break\n",
    "    \n",
    "    if in_all:\n",
    "        dups_in_all += 1\n",
    "\n",
    "report_dups(\"INTERSECAO DE TODOS CV E DOS EMBEDDINGS\", dups_in_all, ds)"
   ]
  },
  {
   "cell_type": "code",
   "execution_count": 14,
   "metadata": {},
   "outputs": [
    {
     "name": "stdout",
     "output_type": "stream",
     "text": [
      "2174\n"
     ]
    }
   ],
   "source": [
    "print(dups_in_all)"
   ]
  },
  {
   "cell_type": "code",
   "execution_count": 7,
   "metadata": {},
   "outputs": [
    {
     "name": "stdout",
     "output_type": "stream",
     "text": [
      "Total embed dups: 6587\n",
      "Total pix dups: 6580\n",
      "Complement of difference: 23\n",
      "1227 data/mendeley/Bacterial pneumonia/Pneumonia-Bacterial (1504).jpg\n",
      "8107 data/mendeley/Bacterial pneumonia/Pneumonia-Bacterial (2533).jpg\n",
      "4856 data/mendeley/Bacterial pneumonia/Pneumonia-Bacterial (300).jpg\n",
      "9018 data/mendeley/Bacterial pneumonia/Pneumonia-Bacterial (1571).jpg\n"
     ]
    },
    {
     "data": {
      "image/png": "[encoded data removed]",
      "text/plain": [
       "<Figure size 1152x1152 with 4 Axes>"
      ]
     },
     "metadata": {
      "needs_background": "light"
     },
     "output_type": "display_data"
    }
   ],
   "source": [
    "def custom_show_diff(ds, global_set, max_rows=4):\n",
    "    actual_name = ds.name.split(\"/\")[-1]\n",
    "    dups = DuplicatesData.load(\"dup_data/\" + actual_name + \"_custom.pickle\")\n",
    "    dups_pix = DuplicatesData.load(\"dup_data/\" + actual_name + \"_pix.pickle\")\n",
    "\n",
    "    assert global_set == \"embed\" or global_set == \"pix\"\n",
    "\n",
    "    if global_set == \"embed\":\n",
    "        global_set = dups.indices\n",
    "        other_set = dups_pix.indices\n",
    "    else:\n",
    "        global_set = dups_pix.indices\n",
    "        other_set = dups.indices\n",
    "    \n",
    "    diff = global_set - dups.indices.intersection(dups_pix.indices)\n",
    "    \n",
    "    print(\"Total embed dups:\", len(dups.indices))\n",
    "    print(\"Total pix dups:\", len(dups_pix.indices))\n",
    "    print(\"Complement of difference:\", len(diff))\n",
    "    \n",
    "    #assert jnp.all(ds.rng == dups.rng) and jnp.all(ds.rng == dups_pix.rng)\n",
    "\n",
    "    other_dups_map = {}\n",
    "    for group in other_set:\n",
    "        if len(group) > 1:\n",
    "            for i in group:\n",
    "                other_dups_map[i] = True\n",
    "        \n",
    "    imgs = []\n",
    "    for v in diff:\n",
    "        imgs.append([])\n",
    "        if len(v) > 1:\n",
    "            for i in v:\n",
    "                print(i, ds.paths_all[i])\n",
    "                imgs[len(imgs)-1].append({ \"img\": ds.x_all[i,:,:,:], \"color\": \"red\" if i not in other_dups_map else \"black\" })\n",
    "    \n",
    "    plots.compare_n_images(imgs, rows=max_rows)\n",
    "\n",
    "custom_show_diff(dataset_mendeley, \"embed\")"
   ]
  },
  {
   "cell_type": "code",
   "execution_count": null,
   "metadata": {},
   "outputs": [],
   "source": []
  },
  {
   "cell_type": "code",
   "execution_count": null,
   "metadata": {},
   "outputs": [],
   "source": [
    "dataset_mendeley.x_all.shape"
   ]
  }
 ],
 "metadata": {
  "interpreter": {
   "hash": "916dbcbb3f70747c44a77c7bcd40155683ae19c65e1c03b4aa3499c5328201f1"
  },
  "kernelspec": {
   "display_name": "Python 3 (ipykernel)",
   "language": "python",
   "name": "python3"
  },
  "language_info": {
   "codemirror_mode": {
    "name": "ipython",
    "version": 3
   },
   "file_extension": ".py",
   "mimetype": "text/x-python",
   "name": "python",
   "nbconvert_exporter": "python",
   "pygments_lexer": "ipython3",
   "version": "3.8.10"
  }
 },
 "nbformat": 4,
 "nbformat_minor": 4
}
