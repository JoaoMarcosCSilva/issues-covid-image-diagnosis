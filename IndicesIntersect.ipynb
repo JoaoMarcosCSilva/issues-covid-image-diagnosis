{
 "cells": [
  {
   "cell_type": "code",
   "execution_count": 2,
   "metadata": {},
   "outputs": [
    {
     "name": "stderr",
     "output_type": "stream",
     "text": [
      "WARNING: Logging before InitGoogle() is written to STDERR\n",
      "I0000 00:00:1654026154.580405  696363 tpu_initializer_helper.cc:116] libtpu.so is already in use by process with pid 694704. Not attempting to load libtpu.so in this process.\n",
      "WARNING:absl:No GPU/TPU found, falling back to CPU. (Set TF_CPP_MIN_LOG_LEVEL=0 and rerun for more info.)\n",
      "/home/joao/.local/lib/python3.8/site-packages/tqdm/auto.py:22: TqdmWarning: IProgress not found. Please update jupyter and ipywidgets. See https://ipywidgets.readthedocs.io/en/stable/user_install.html\n",
      "  from .autonotebook import tqdm as notebook_tqdm\n"
     ]
    }
   ],
   "source": [
    "# Starts the autoreload extension, which allows editing the .py files with the notebook running and automatically imports the latest changes\n",
    "\n",
    "%load_ext autoreload\n",
    "%autoreload 2\n",
    "\n",
    "import trim_duplicates, model, network, gradcam, plots\n",
    "from dataset import Dataset\n",
    "import jax.numpy as jnp\n",
    "import numpy as np\n",
    "import jax\n",
    "import sklearn\n",
    "import wandb\n",
    "from trim_duplicates import DuplicatesData\n",
    "import matplotlib.pyplot as plt\n",
    "\n",
    "#assert jax.local_device_count() >= 8\n",
    "\n",
    "NUM_CLASSES = 4\n",
    "SEED = 14\n",
    "BATCH_SIZE = 128\n",
    "\n",
    "def basemodel_process(x): return x"
   ]
  },
  {
   "cell_type": "code",
   "execution_count": null,
   "metadata": {},
   "outputs": [],
   "source": [
    "#rng = jax.random.PRNGKey(SEED)\n",
    "#rng = jax.random.split(jax.random.PRNGKey(1))[0]\n",
    "#dataset_mendeley = Dataset.load(\"mendeley\", rng=rng, official_split=True)\n",
    "#dataset_tawsifur = Dataset.load(\"tawsifur\", rng=rng, official_split=True)\n",
    "#dataset_covidx = Dataset.load(\"covidx\", rng=rng, official_split=True)\n",
    "# dataset_merged = Dataset.load(\"mendeley_covidx\", rng=rng, official_split=True)"
   ]
  },
  {
   "cell_type": "code",
   "execution_count": null,
   "metadata": {},
   "outputs": [],
   "source": [
    "\"\"\"\n",
    "def report_dups(title, count, ds):\n",
    "    print(title + \":\", count, \"(\" + str(round(count / ds.x_all.shape[0] * 1000)/10) + \"%)\")\n",
    "\n",
    "def is_dup(indices, i, dont_count):\n",
    "    for v in indices:\n",
    "        if len(v) > 1 and i not in dont_count and i in v:\n",
    "            for j in v:\n",
    "                if j != i:\n",
    "                    dont_count[j] = True\n",
    "            return True\n",
    "    return False\n",
    "\n",
    "def count_dups(groups, ds):\n",
    "    dont_count = {}\n",
    "    dups_count = 0\n",
    "\n",
    "    for i in range(ds.x_all.shape[0]):\n",
    "        if is_dup(groups, i, dont_count):\n",
    "            dups_count += 1\n",
    "    \n",
    "    return dups_count\n",
    "\n",
    "def show_diff(ds, global_set, max_rows=4):\n",
    "    actual_name = ds.name.split(\"/\")[-1]\n",
    "    dups = DuplicatesData.load(\"dup_data/cv_\" + actual_name + \"_0.pickle\")\n",
    "    dups_pix = DuplicatesData.load(\"dup_data/\" + actual_name + \"_pix.pickle\")\n",
    "\n",
    "    assert global_set == \"embed\" or global_set == \"pix\"\n",
    "\n",
    "    if global_set == \"embed\":\n",
    "        global_set = dups.indices\n",
    "        other_set = dups_pix.indices\n",
    "    else:\n",
    "        global_set = dups_pix.indices\n",
    "        other_set = dups.indices\n",
    "    \n",
    "    diff = global_set - dups.indices.intersection(dups_pix.indices)\n",
    "    \n",
    "    total_dups_two_sets = 0\n",
    "    dont_count = {}\n",
    "\n",
    "    for i in range(ds.x_all.shape[0]):       \n",
    "        if is_dup(dups, i, dont_count) and is_dup(dups_pix, i, dont_count):\n",
    "            total_dups_two_sets += 1\n",
    "\n",
    "    report_dups(\"Total pix dups\", count_dups(dups_pix.indices, ds), ds)\n",
    "    report_dups(\"Total embed dups\", count_dups(dups.indices, ds), ds)\n",
    "    # report_dups(\"Intersection\", total_dups_two_sets, ds)\n",
    "\n",
    "    #assert jnp.all(ds.rng == dups.rng) and jnp.all(ds.rng == dups_pix.rng)\n",
    "\n",
    "    other_dups_map = {}\n",
    "    for group in other_set:\n",
    "        if len(group) > 1:\n",
    "            for i in group:\n",
    "                other_dups_map[i] = True\n",
    "        \n",
    "    imgs = []\n",
    "    for v in diff:\n",
    "        imgs.append([])\n",
    "        if len(v) > 1:\n",
    "            for i in v:\n",
    "                print(i, ds.paths_all[i])\n",
    "                imgs[len(imgs)-1].append({ \"img\": ds.x_all[i,:,:,:], \"color\": \"red\" if i not in other_dups_map else \"black\" })\n",
    "    \n",
    "    plots.compare_n_images(imgs, rows=max_rows)\n",
    "\n",
    "show_diff(dataset_mendeley, \"embed\")\n",
    "\n",
    "### COUNTS DUPS INTERSECTION ACROSS CROSS VALIDATION SETS ###\n",
    "\n",
    "actual_name = \"tawsifur\"\n",
    "ds = dataset_tawsifur\n",
    "\n",
    "cvs = []\n",
    "for i in range(5):\n",
    "    cvs.append(DuplicatesData.load(\"dup_data/cv_\" + actual_name + \"_\" + str(i) + \".pickle\"))\n",
    "cvs.append(DuplicatesData.load(\"dup_data/\" + actual_name + \"_pix.pickle\"))\n",
    "\n",
    "dups_in_all = 0\n",
    "dont_count = {}\n",
    "\n",
    "for i in range(ds.x_all.shape[0]):   \n",
    "    in_all = True\n",
    "    for cv in range(len(cvs)):\n",
    "        if not is_dup(cvs[cv].indices, i, dont_count):\n",
    "            in_all = False\n",
    "            break\n",
    "    \n",
    "    if in_all:\n",
    "        dups_in_all += 1\n",
    "\n",
    "report_dups(\"INTERSECAO DE TODOS CV E DOS EMBEDDINGS\", dups_in_all, ds)\"\"\""
   ]
  },
  {
   "cell_type": "code",
   "execution_count": null,
   "metadata": {},
   "outputs": [],
   "source": [
    "\"\"\"\n",
    "def custom_show_diff(ds, global_set, max_rows=4):\n",
    "    actual_name = ds.name.split(\"/\")[-1]\n",
    "    dups = DuplicatesData.load(\"dup_data/\" + actual_name + \"_custom.pickle\")\n",
    "    dups_pix = DuplicatesData.load(\"dup_data/\" + actual_name + \"_pix.pickle\")\n",
    "\n",
    "    assert global_set == \"embed\" or global_set == \"pix\"\n",
    "\n",
    "    if global_set == \"embed\":\n",
    "        global_set = dups.indices\n",
    "        other_set = dups_pix.indices\n",
    "    else:\n",
    "        global_set = dups_pix.indices\n",
    "        other_set = dups.indices\n",
    "    \n",
    "    diff = global_set - dups.indices.intersection(dups_pix.indices)\n",
    "    \n",
    "    print(\"Total embed dups:\", len(dups.indices))\n",
    "    print(\"Total pix dups:\", len(dups_pix.indices))\n",
    "    print(\"Complement of difference:\", len(diff))\n",
    "    \n",
    "    #assert jnp.all(ds.rng == dups.rng) and jnp.all(ds.rng == dups_pix.rng)\n",
    "\n",
    "    other_dups_map = {}\n",
    "    for group in other_set:\n",
    "        if len(group) > 1:\n",
    "            for i in group:\n",
    "                other_dups_map[i] = True\n",
    "        \n",
    "    imgs = []\n",
    "    for v in diff:\n",
    "        imgs.append([])\n",
    "        if len(v) > 1:\n",
    "            for i in v:\n",
    "                print(i, ds.paths_all[i])\n",
    "                imgs[len(imgs)-1].append({ \"img\": ds.x_all[i,:,:,:], \"color\": \"red\" if i not in other_dups_map else \"black\" })\n",
    "    \n",
    "    plots.compare_n_images(imgs, rows=max_rows)\n",
    "\n",
    "custom_show_diff(dataset_mendeley, \"embed\")\"\"\""
   ]
  },
  {
   "cell_type": "code",
   "execution_count": 6,
   "metadata": {},
   "outputs": [
    {
     "name": "stdout",
     "output_type": "stream",
     "text": [
      "Total pix dups: 20929\n"
     ]
    },
    {
     "name": "stderr",
     "output_type": "stream",
     "text": [
      "/home/joao/.local/lib/python3.8/site-packages/seaborn/_decorators.py:36: FutureWarning: Pass the following variables as keyword args: x, y. From version 0.12, the only valid positional argument will be `data`, and passing other arguments without an explicit keyword will result in an error or misinterpretation.\n",
      "  warnings.warn(\n"
     ]
    },
    {
     "data": {
      "image/png": "[encoded data removed]",
      "text/plain": [
       "<Figure size 576x288 with 1 Axes>"
      ]
     },
     "metadata": {
      "needs_background": "light"
     },
     "output_type": "display_data"
    }
   ],
   "source": [
    "import seaborn as sns\n",
    "import pickle\n",
    "import visuals\n",
    "\n",
    "# Duplicates per class\n",
    "# Mendeley and tawsifur\n",
    "\n",
    "ds_name = \"tawsifur\"\n",
    "rng = jax.random.PRNGKey(SEED)\n",
    "rng = jax.random.split(jax.random.PRNGKey(1))[0]\n",
    "\n",
    "with open(ds_name + \"/metadata.pickle\", \"rb\") as f:\n",
    "    meta = pickle.load(f)\n",
    "\n",
    "y_all = np.load(ds_name + \"/y.npy\")\n",
    "ids = jnp.arange(0, y_all.shape[0])\n",
    "ids = jax.random.permutation(rng, ids)\n",
    "y_all = y_all[ids]\n",
    "\n",
    "dups_pix = DuplicatesData.load(\"dup_data/\" + ds_name + \"_pix.pickle\")\n",
    "print(\"Total pix dups:\", len(dups_pix.indices))\n",
    "\n",
    "for d in dups_pix.indices:\n",
    "    x = np.asarray(d)\n",
    "    assert np.all(y_all[x] == y_all[x[0]])\n",
    "\n",
    "dups_per_class = [0] * np.unique(y_all).shape[0]\n",
    "\n",
    "for d in dups_pix.indices:\n",
    "    if len(d) > 1:\n",
    "        cls = int(y_all[d[0]])\n",
    "        dups_per_class[cls] += len(d) - 1\n",
    "\n",
    "plt.rcParams['figure.figsize'] = (8,4)\n",
    "dups_per_class = np.asarray(dups_per_class)\n",
    "splot = sns.barplot(meta['classnames'], dups_per_class)\n",
    "plt.xlabel(\"Class name\")\n",
    "plt.ylabel(\"Number of duplicates\")\n",
    "plt.title(\"Duplicates in the COVID-19 Radiography Database\", size=15)\n",
    "plt.bar_label(splot.containers[0], size=15, fontfamily=\"Linux Libertine Display\")\n",
    "plt.show()"
   ]
  },
  {
   "cell_type": "code",
   "execution_count": 8,
   "metadata": {},
   "outputs": [
    {
     "name": "stdout",
     "output_type": "stream",
     "text": [
      "Total pix dups: 30146\n"
     ]
    },
    {
     "name": "stderr",
     "output_type": "stream",
     "text": [
      "/home/joao/.local/lib/python3.8/site-packages/seaborn/_decorators.py:36: FutureWarning: Pass the following variables as keyword args: x, y. From version 0.12, the only valid positional argument will be `data`, and passing other arguments without an explicit keyword will result in an error or misinterpretation.\n",
      "  warnings.warn(\n"
     ]
    },
    {
     "data": {
      "image/png": "[encoded data removed]",
      "text/plain": [
       "<Figure size 576x288 with 1 Axes>"
      ]
     },
     "metadata": {
      "needs_background": "light"
     },
     "output_type": "display_data"
    }
   ],
   "source": [
    "import seaborn as sns\n",
    "import pickle\n",
    "import visuals\n",
    "\n",
    "# Duplicates per class\n",
    "# COVIDx\n",
    "\n",
    "ds_name = \"covidx\"\n",
    "rng = jax.random.PRNGKey(SEED)\n",
    "rng = jax.random.split(jax.random.PRNGKey(1))[0]\n",
    "\n",
    "with open(ds_name + \"/metadata.pickle\", \"rb\") as f:\n",
    "    meta = pickle.load(f)\n",
    "\n",
    "y_train = np.load(ds_name +'/y_train.npy')\n",
    "y_test = np.load(ds_name +'/y_test.npy')\n",
    "ids = jnp.arange(0, y_train.shape[0])\n",
    "ids = jax.random.permutation(rng, ids)\n",
    "y_train = y_train[ids]\n",
    "\n",
    "ids = jnp.arange(0, y_test.shape[0])\n",
    "ids = jax.random.permutation(rng, ids)\n",
    "y_test = y_test[ids]\n",
    "\n",
    "y_all = np.concatenate([y_test, y_train])\n",
    "\n",
    "dups_pix = DuplicatesData.load(\"dup_data/\" + ds_name + \"_pix.pickle\")\n",
    "print(\"Total pix dups:\", len(dups_pix.indices))\n",
    "\n",
    "for d in dups_pix.indices:\n",
    "    x = np.asarray(d)\n",
    "    assert np.all(y_all[x] == y_all[x[0]])\n",
    "    \n",
    "dups_per_class = [0] * np.unique(y_all).shape[0]\n",
    "\n",
    "for d in dups_pix.indices:\n",
    "    if len(d) > 1:\n",
    "        cls = int(y_all[d[0]])\n",
    "        dups_per_class[cls] += len(d) - 1\n",
    "\n",
    "plt.rcParams['figure.figsize'] = (8,4)\n",
    "dups_per_class = np.asarray(dups_per_class)\n",
    "splot = sns.barplot(meta['classnames'], dups_per_class)\n",
    "plt.xlabel(\"Class name\")\n",
    "plt.ylabel(\"Number of duplicates\")\n",
    "plt.title(\"Duplicates in the COVIDx Dataset\", size=15)\n",
    "plt.bar_label(splot.containers[0], size=15, fontfamily=\"Linux Libertine Display\")\n",
    "plt.show()"
   ]
  },
  {
   "cell_type": "code",
   "execution_count": null,
   "metadata": {},
   "outputs": [],
   "source": [
    "dups_per_class = np.asarray(dups_per_class)\n",
    "splot = sns.barplot(meta['classnames'], dups_per_class)\n",
    "plt.xlabel(\"Class name\", size=16)\n",
    "plt.ylabel(\"Number of duplicates\", size=16)\n",
    "plt.show()"
   ]
  },
  {
   "cell_type": "code",
   "execution_count": null,
   "metadata": {},
   "outputs": [],
   "source": []
  },
  {
   "cell_type": "code",
   "execution_count": null,
   "metadata": {},
   "outputs": [],
   "source": [
    "ds = dataset_merged"
   ]
  },
  {
   "cell_type": "code",
   "execution_count": null,
   "metadata": {},
   "outputs": [],
   "source": [
    "import pickle\n",
    "\n",
    "with open('dup_data/mendeley_covidx_pix.pickle', 'rb') as f:\n",
    "    dups = pickle.load(f)"
   ]
  },
  {
   "cell_type": "code",
   "execution_count": null,
   "metadata": {
    "tags": []
   },
   "outputs": [],
   "source": [
    "dups = list(dups.indices)"
   ]
  },
  {
   "cell_type": "code",
   "execution_count": null,
   "metadata": {},
   "outputs": [],
   "source": [
    "dups = list(filter(lambda l: len(l) > 1,dups))"
   ]
  },
  {
   "cell_type": "code",
   "execution_count": null,
   "metadata": {},
   "outputs": [],
   "source": [
    "def plot_dups(idxs):\n",
    "    \n",
    "    for i, idx in enumerate(idxs):\n",
    "        plt.subplot(1, len(idxs), i+1)\n",
    "        plt.imshow(ds.x_all[idx])\n",
    "        print(ds.paths_all[idx])\n",
    "    plt.title(ds.y_all[idxs[0]])\n",
    "    \n",
    "    plt.show()\n",
    "\n",
    "from tqdm import tqdm\n",
    "for group in dups:\n",
    "    labels = ds.y_all[np.array(group)].argmax(1)\n",
    "    if labels.std() != 0:\n",
    "        print('deu ruim')\n",
    "    #plot_dups(group)\n",
    "        "
   ]
  },
  {
   "cell_type": "code",
   "execution_count": null,
   "metadata": {},
   "outputs": [],
   "source": [
    "ds.y_all[np.concatenate(dups)].sum(0)"
   ]
  },
  {
   "cell_type": "code",
   "execution_count": null,
   "metadata": {},
   "outputs": [],
   "source": []
  }
 ],
 "metadata": {
  "interpreter": {
   "hash": "916dbcbb3f70747c44a77c7bcd40155683ae19c65e1c03b4aa3499c5328201f1"
  },
  "kernelspec": {
   "display_name": "Python 3 (ipykernel)",
   "language": "python",
   "name": "python3"
  },
  "language_info": {
   "codemirror_mode": {
    "name": "ipython",
    "version": 3
   },
   "file_extension": ".py",
   "mimetype": "text/x-python",
   "name": "python",
   "nbconvert_exporter": "python",
   "pygments_lexer": "ipython3",
   "version": "3.8.5"
  }
 },
 "nbformat": 4,
 "nbformat_minor": 4
}
