{
 "cells": [
  {
   "cell_type": "code",
   "execution_count": null,
   "metadata": {},
   "outputs": [],
   "source": [
    "# Starts the autoreload extension, which allows editing the .py files with the notebook running and automatically imports the latest changes\n",
    "\n",
    "%load_ext autoreload\n",
    "%autoreload 2\n",
    "\n",
    "import trim_duplicates, model, network, gradcam, plots\n",
    "from dataset import Dataset\n",
    "import haiku as hk\n",
    "import jax.numpy as jnp\n",
    "import numpy as np\n",
    "import jax\n",
    "import sklearn\n",
    "import wandb\n",
    "from trim_duplicates import DuplicatesData\n",
    "import matplotlib.pyplot as plt\n",
    "\n",
    "assert jax.local_device_count() >= 8\n",
    "\n",
    "NUM_CLASSES = 4\n",
    "SEED = 12\n",
    "BATCH_SIZE = 128\n",
    "\n",
    "def basemodel_process(x): return x"
   ]
  },
  {
   "cell_type": "code",
   "execution_count": null,
   "metadata": {},
   "outputs": [],
   "source": [
    "rng = jax.random.PRNGKey(SEED)\n",
    "dataset_mendeley = Dataset.load(\"mendeley\", rng=rng)\n",
    "dataset_tawsifur = Dataset.load(\"tawsifur\", rng=rng)\n",
    "print(\"Loaded mendeley\", dataset_mendeley.classnames)\n",
    "print(\"Loaded tawsifur\", dataset_tawsifur.classnames)"
   ]
  },
  {
   "cell_type": "code",
   "execution_count": null,
   "metadata": {},
   "outputs": [],
   "source": [
    "def show_diff(ds, global_set, max_rows=8):\n",
    "    dups = DuplicatesData.load(\"dup_data/duprem_base_\" + ds.name + \"_CV_0.pickle\")\n",
    "    dups_pix = DuplicatesData.load(\"dup_data/duprem_base_\" + ds.name + \"_CV_0pix_.pickle\")\n",
    "\n",
    "    assert global_set == \"embed\" or global_set == \"pix\"\n",
    "\n",
    "    if global_set == \"embed\":\n",
    "        global_set = dups.indices\n",
    "        other_set = dups_pix.indices\n",
    "    else:\n",
    "        global_set = dups_pix.indices\n",
    "        other_set = dups.indices\n",
    "    \n",
    "    diff = global_set - dups.indices.intersection(dups_pix.indices)\n",
    "\n",
    "    assert jnp.all(ds.rng == dups.rng) and jnp.all(ds.rng == dups_pix.rng)\n",
    "\n",
    "    other_dups_map = {}\n",
    "    for group in other_set:\n",
    "        if len(group) > 1:\n",
    "            for i in group:\n",
    "                other_dups_map[i] = True\n",
    "\n",
    "    imgs = []\n",
    "    for v in diff:\n",
    "        imgs.append([])\n",
    "        if len(v) > 1:\n",
    "            for i in v:\n",
    "                imgs[len(imgs)-1].append({ \"img\": ds.x_all[i,:,:,:], \"color\": \"red\" if i not in other_dups_map else \"black\" })\n",
    "    \n",
    "    plots.compare_n_images(imgs, rows=max_rows)\n",
    "\n",
    "show_diff(dataset_mendeley, \"embed\")"
   ]
  },
  {
   "cell_type": "code",
   "execution_count": null,
   "metadata": {},
   "outputs": [],
   "source": [
    "show_diff(dataset_mendeley, \"pix\")"
   ]
  },
  {
   "cell_type": "code",
   "execution_count": null,
   "metadata": {},
   "outputs": [],
   "source": []
  },
  {
   "cell_type": "code",
   "execution_count": null,
   "metadata": {},
   "outputs": [],
   "source": [
    "dataset_mendeley.x_all.shape"
   ]
  }
 ],
 "metadata": {
  "interpreter": {
   "hash": "916dbcbb3f70747c44a77c7bcd40155683ae19c65e1c03b4aa3499c5328201f1"
  },
  "kernelspec": {
   "display_name": "Python 3.8.10 64-bit",
   "language": "python",
   "name": "python3"
  },
  "language_info": {
   "codemirror_mode": {
    "name": "ipython",
    "version": 3
   },
   "file_extension": ".py",
   "mimetype": "text/x-python",
   "name": "python",
   "nbconvert_exporter": "python",
   "pygments_lexer": "ipython3",
   "version": "3.8.10"
  },
  "orig_nbformat": 4
 },
 "nbformat": 4,
 "nbformat_minor": 2
}
