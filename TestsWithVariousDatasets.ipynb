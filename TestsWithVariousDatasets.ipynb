{
 "cells": [
  {
   "cell_type": "code",
   "execution_count": 1,
   "metadata": {},
   "outputs": [],
   "source": [
    "# Starts the autoreload extension, which allows editing the .py files with the notebook running and automatically imports the latest changes\n",
    "\n",
    "%load_ext autoreload\n",
    "%autoreload 2\n",
    "\n",
    "import trim_duplicates, model, network, gradcam, plots\n",
    "from dataset import Dataset\n",
    "import haiku as hk\n",
    "import jax.numpy as jnp\n",
    "import numpy as np\n",
    "import jax\n",
    "import sklearn\n",
    "import wandb\n",
    "\n",
    "assert jax.local_device_count() >= 8\n",
    "\n",
    "NUM_CLASSES = 4\n",
    "SEED = 12\n",
    "BATCH_SIZE = 128\n",
    "\n",
    "def basemodel_process(x): return x"
   ]
  },
  {
   "cell_type": "code",
   "execution_count": 2,
   "metadata": {},
   "outputs": [
    {
     "name": "stderr",
     "output_type": "stream",
     "text": [
      "tcmalloc: large alloc 7241465856 bytes == 0x864ce000 @  0x7f24f935d680 0x7f24f937e824 0x7f24ef1a44ce 0x7f24ef1fa00e 0x7f24ef1fac4f 0x7f24ef29c924 0x5f5db9 0x5f698e 0x57195c 0x56a0ba 0x5f6343 0x56cf2a 0x56a0ba 0x5f6343 0x570e46 0x56a0ba 0x5f6343 0x56cf2a 0x56a0ba 0x68d5b7 0x600f54 0x5c5530 0x56bddd 0x5004f8 0x56d80c 0x5004f8 0x56d80c 0x5004f8 0x5042c6 0x56bf09 0x5f6166\n",
      "tcmalloc: large alloc 7241465856 bytes == 0x23fca0000 @  0x7f24f935d680 0x7f24f937e824 0x7f24f937eb8a 0x7f22d18696b7 0x7f22cc560790 0x7f22cc56f414 0x7f22cc572287 0x7f22cc4bdf0f 0x7f22cc22fbe8 0x7f22cc21c166 0x5f5db9 0x5f698e 0x50b4c7 0x570e46 0x56a0ba 0x5f70bb 0x66600d 0x5f574e 0x56d5f6 0x56a0ba 0x5f6343 0x5f70f7 0x66600d 0x5f574e 0x56d5f6 0x5f6166 0x56bf09 0x56a0ba 0x50adf0 0x56cf2a 0x56a0ba\n",
      "tcmalloc: large alloc 7241465856 bytes == 0x3f1d9a000 @  0x7f24f935d680 0x7f24f937e824 0x7f24f937eb8a 0x7f22d18696b7 0x7f22cc560790 0x7f22cc56f414 0x7f22cc572287 0x7f22cc4bdf0f 0x7f22cc22fbe8 0x7f22cc21c166 0x5f5db9 0x5f698e 0x50b4c7 0x570e46 0x56a0ba 0x5f70bb 0x66600d 0x5f574e 0x56d5f6 0x56a0ba 0x5f6343 0x5f70f7 0x66600d 0x5f574e 0x56d5f6 0x5f6166 0x56bf09 0x56a0ba 0x50adf0 0x56cf2a 0x5f6166\n",
      "tcmalloc: large alloc 5793644544 bytes == 0x23fca0000 @  0x7f24f935d680 0x7f24f937e824 0x7f24f937eb8a 0x7f22d18696b7 0x7f22cc560790 0x7f22cc56f414 0x7f22cc572287 0x7f22cc4bdf0f 0x7f22cc22fbe8 0x7f22cc21c166 0x5f5db9 0x5f698e 0x50b4c7 0x570e46 0x56a0ba 0x5f70bb 0x66600d 0x5f574e 0x56d5f6 0x56a0ba 0x5f6343 0x5f70f7 0x66600d 0x5f574e 0x56d5f6 0x5f6166 0x56bf09 0x56a0ba 0x50adf0 0x56cf2a 0x56a0ba\n",
      "tcmalloc: large alloc 5793644544 bytes == 0x5a1f9a000 @  0x7f24f935d680 0x7f24f937e824 0x7f24f937eb8a 0x7f22d18696b7 0x7f22cc560790 0x7f22cc56f414 0x7f22cc572287 0x7f22cc4bdf0f 0x7f22cc22fbe8 0x7f22cc21c166 0x5f5db9 0x5f698e 0x50b4c7 0x570e46 0x56a0ba 0x5f70bb 0x66600d 0x5f574e 0x56d5f6 0x56a0ba 0x5f6343 0x5f70f7 0x66600d 0x5f574e 0x56d5f6 0x5f6166 0x56bf09 0x56a0ba 0x50adf0 0x56cf2a 0x5f6166\n",
      "tcmalloc: large alloc 7241465856 bytes == 0x23fca0000 @  0x7f24f935d680 0x7f24f937e824 0x7f24f937eb8a 0x7f22d18696b7 0x7f22cc560790 0x7f22cc56f414 0x7f22cc572287 0x7f22cc4bdf0f 0x7f22cc22fbe8 0x7f22cc21c166 0x5f5db9 0x5f698e 0x50b4c7 0x570e46 0x56a0ba 0x5f70bb 0x66600d 0x5f574e 0x56d5f6 0x56a0ba 0x5f6343 0x5f70f7 0x66600d 0x5f574e 0x56d5f6 0x5f6166 0x56bf09 0x56a0ba 0x5f6343 0x50ad7c 0x5f56c7\n",
      "tcmalloc: large alloc 16644833280 bytes == 0x6fbcda000 @  0x7f24f935d680 0x7f24f937e824 0x7f24ef1a44ce 0x7f24ef1fa00e 0x7f24ef1fac4f 0x7f24ef29c924 0x5f5db9 0x5f698e 0x57195c 0x56a0ba 0x5f6343 0x56cf2a 0x56a0ba 0x5f6343 0x570e46 0x56a0ba 0x5f6343 0x56cf2a 0x56a0ba 0x68d5b7 0x600f54 0x5c5530 0x56bddd 0x5004f8 0x56d80c 0x5004f8 0x56d80c 0x5004f8 0x5042c6 0x56bf09 0x5f6166\n",
      "tcmalloc: large alloc 16644833280 bytes == 0xadce9a000 @  0x7f24f935d680 0x7f24f937e824 0x7f24f937eb8a 0x7f22d18696b7 0x7f22cc560790 0x7f22cc56f414 0x7f22cc572287 0x7f22cc4bdf0f 0x7f22cc22fbe8 0x7f22cc21c166 0x5f5db9 0x5f698e 0x50b4c7 0x570e46 0x56a0ba 0x5f70bb 0x66600d 0x5f574e 0x56d5f6 0x56a0ba 0x5f6343 0x5f70f7 0x66600d 0x5f574e 0x56d5f6 0x5f6166 0x56bf09 0x56a0ba 0x50adf0 0x56cf2a 0x56a0ba\n",
      "tcmalloc: large alloc 16644833280 bytes == 0xebe05a000 @  0x7f24f935d680 0x7f24f937e824 0x7f24f937eb8a 0x7f22d18696b7 0x7f22cc560790 0x7f22cc56f414 0x7f22cc572287 0x7f22cc4bdf0f 0x7f22cc22fbe8 0x7f22cc21c166 0x5f5db9 0x5f698e 0x50b4c7 0x570e46 0x56a0ba 0x5f70bb 0x66600d 0x5f574e 0x56d5f6 0x56a0ba 0x5f6343 0x5f70f7 0x66600d 0x5f574e 0x56d5f6 0x5f6166 0x56bf09 0x56a0ba 0x50adf0 0x56cf2a 0x5f6166\n",
      "tcmalloc: large alloc 3328966656 bytes == 0x132e44000 @  0x7f24f935d680 0x7f24f937e824 0x7f24f937eb8a 0x7f22d18696b7 0x7f22cc560790 0x7f22cc56f414 0x7f22cc572287 0x7f22cc4bdf0f 0x7f22cc22fbe8 0x7f22cc21c166 0x5f5db9 0x5f698e 0x50b4c7 0x570e46 0x56a0ba 0x5f70bb 0x66600d 0x5f574e 0x56d5f6 0x56a0ba 0x5f6343 0x5f70f7 0x66600d 0x5f574e 0x56d5f6 0x5f6166 0x56bf09 0x56a0ba 0x50adf0 0x56cf2a 0x56a0ba\n",
      "tcmalloc: large alloc 13315866624 bytes == 0x6fbcda000 @  0x7f24f935d680 0x7f24f937e824 0x7f24f937eb8a 0x7f22d18696b7 0x7f22cc560790 0x7f22cc56f414 0x7f22cc572287 0x7f22cc4bdf0f 0x7f22cc22fbe8 0x7f22cc21c166 0x5f5db9 0x5f698e 0x50b4c7 0x570e46 0x56a0ba 0x5f70bb 0x66600d 0x5f574e 0x56d5f6 0x56a0ba 0x5f6343 0x5f70f7 0x66600d 0x5f574e 0x56d5f6 0x5f6166 0x56bf09 0x56a0ba 0x50adf0 0x56cf2a 0x56a0ba\n",
      "tcmalloc: large alloc 13315866624 bytes == 0xadce9a000 @  0x7f24f935d680 0x7f24f937e824 0x7f24f937eb8a 0x7f22d18696b7 0x7f22cc560790 0x7f22cc56f414 0x7f22cc572287 0x7f22cc4bdf0f 0x7f22cc22fbe8 0x7f22cc21c166 0x5f5db9 0x5f698e 0x50b4c7 0x570e46 0x56a0ba 0x5f70bb 0x66600d 0x5f574e 0x56d5f6 0x56a0ba 0x5f6343 0x5f70f7 0x66600d 0x5f574e 0x56d5f6 0x5f6166 0x56bf09 0x56a0ba 0x50adf0 0x56cf2a 0x5f6166\n",
      "tcmalloc: large alloc 16644833280 bytes == 0x6fbcda000 @  0x7f24f935d680 0x7f24f937e824 0x7f24f937eb8a 0x7f22d18696b7 0x7f22cc560790 0x7f22cc56f414 0x7f22cc572287 0x7f22cc4bdf0f 0x7f22cc22fbe8 0x7f22cc21c166 0x5f5db9 0x5f698e 0x50b4c7 0x570e46 0x56a0ba 0x5f70bb 0x66600d 0x5f574e 0x56d5f6 0x56a0ba 0x5f6343 0x5f70f7 0x66600d 0x5f574e 0x56d5f6 0x5f6166 0x56bf09 0x56a0ba 0x5f6343 0x50ad7c 0x5f56c7\n"
     ]
    },
    {
     "name": "stdout",
     "output_type": "stream",
     "text": [
      "Loaded mendeley ['Normal', 'Viral pneumonia', 'COVID-19', 'Pneumonia bacterial']\n",
      "Loaded tawsifur ['Normal', 'Viral pneumonia', 'COVID-19', 'Lung opacity']\n"
     ]
    }
   ],
   "source": [
    "rng = jax.random.PRNGKey(SEED)\n",
    "dataset_mendeley = Dataset.load(\"mendeley\", rng=rng)\n",
    "dataset_tawsifur = Dataset.load(\"tawsifur\", rng=rng)\n",
    "print(\"Loaded mendeley\", dataset_mendeley.classnames)\n",
    "print(\"Loaded tawsifur\", dataset_tawsifur.classnames)"
   ]
  },
  {
   "cell_type": "code",
   "execution_count": 3,
   "metadata": {},
   "outputs": [],
   "source": [
    "net, optim = model.init_net_and_optim(dataset_mendeley.x_train, NUM_CLASSES, BATCH_SIZE)\n",
    "\n",
    "# Gets functions for the model\n",
    "net_container = network.create(net, optim, BATCH_SIZE, shape = (10, 256, 256, 3))"
   ]
  },
  {
   "cell_type": "code",
   "execution_count": 4,
   "metadata": {},
   "outputs": [],
   "source": [
    "def five_fold_cross_validation(model_name, original_dataset, process_fn, dup_thresh, seed=12, num_epochs=30):\n",
    "    config = { 'dataset' : original_dataset.name,\n",
    "               'random_seed' : seed,\n",
    "               'batch_size' : BATCH_SIZE,\n",
    "               'resolution' : 256 }\n",
    "\n",
    "    group = model_name + '_CV'\n",
    "\n",
    "    for i in range(5):\n",
    "        job_type = 'train_and_eval'\n",
    "        # RUN 1: Train and eval\n",
    "        run = wandb.init(project='xrays', entity='usp-covid-xrays',\n",
    "                         group=group,\n",
    "                         job_type=job_type,\n",
    "                         name=model_name + \"_CV_\" + str(i),\n",
    "                         reinit=True, config = config)\n",
    "\n",
    "        cv_dataset = original_dataset.five_fold(i)\n",
    "\n",
    "        trained = model.train_model(model_name + \"_CV\" + str(i),\n",
    "                          net_container, process_fn,\n",
    "                          cv_dataset, masks = None,\n",
    "                          num_epochs = num_epochs,\n",
    "                          wandb_run=run)\n",
    "\n",
    "        run.finish()\n",
    "\n",
    "        # RUN 2: Remove duplicates\n",
    "        run2 = wandb.init(project='xrays', entity='usp-covid-xrays',\n",
    "                         group=group,\n",
    "                         job_type='duplicate_removal',\n",
    "                         name='duprem_' + model_name + \"_CV_\" + str(i),\n",
    "                         reinit=True, config = config)\n",
    "        \n",
    "        sims = trim_duplicates.compute_similarities(cv_dataset, net_container, trained)\n",
    "        cv_dataset_curated = trim_duplicates.remove_duplicates(cv_dataset, sims, threshold=dup_thresh)\n",
    "\n",
    "        train_before = cv_dataset.x_train.shape[0]\n",
    "        test_before = cv_dataset.x_test.shape[0]\n",
    "        \n",
    "        train_after = cv_dataset_curated.x_train.shape[0]\n",
    "        test_after = cv_dataset_curated.x_test.shape[0]\n",
    "\n",
    "        run2.log({\n",
    "            \"train-before\": train_before,\n",
    "            \"test-before\": test_before,\n",
    "            \"train-duplicates\": train_before - train_after,\n",
    "            \"test-duplicates\": test_before - test_after,\n",
    "            \"train-after\": train_after,\n",
    "            \"test-after\": test_after\n",
    "        })\n",
    "\n",
    "        run2.finish()\n",
    "\n",
    "        # RUN 3: Re-train and re-eval\n",
    "        run3 = wandb.init(project='xrays', entity='usp-covid-xrays',\n",
    "                         group=group,\n",
    "                         job_type=job_type + '_nodups',\n",
    "                         name='nodups_' + model_name + \"_CV_\" + str(i),\n",
    "                         reinit=True, config = config)\n",
    "\n",
    "        model.train_model('nodups_' + model_name + \"_CV\" + str(i),\n",
    "                          net_container, process_fn,\n",
    "                          cv_dataset_curated, masks = None,\n",
    "                          num_epochs = num_epochs,\n",
    "                          wandb_run=run3)\n",
    "\n",
    "        run3.finish()"
   ]
  },
  {
   "cell_type": "code",
   "execution_count": 5,
   "metadata": {},
   "outputs": [
    {
     "name": "stderr",
     "output_type": "stream",
     "text": [
      "ERROR:wandb.jupyter:Failed to detect the name of this notebook, you can set it manually with the WANDB_NOTEBOOK_NAME environment variable to enable code saving.\n",
      "wandb: Currently logged in as: pedromartelleto (use `wandb login --relogin` to force relogin)\n"
     ]
    },
    {
     "data": {
      "text/html": [
       "\n",
       "                    Syncing run <strong><a href=\"https://wandb.ai/usp-covid-xrays/xrays/runs/2vz398ew\" target=\"_blank\">base_mendeley_CV_0</a></strong> to <a href=\"https://wandb.ai/usp-covid-xrays/xrays\" target=\"_blank\">Weights & Biases</a> (<a href=\"https://docs.wandb.com/integrations/jupyter.html\" target=\"_blank\">docs</a>).<br/>\n",
       "\n",
       "                "
      ],
      "text/plain": [
       "<IPython.core.display.HTML object>"
      ]
     },
     "metadata": {},
     "output_type": "display_data"
    },
    {
     "name": "stderr",
     "output_type": "stream",
     "text": [
      "tcmalloc: large alloc 5793644544 bytes == 0xebe05a000 @  0x7f24f935d680 0x7f24f937e824 0x7f24f937eb8a 0x7f22d18696b7 0x7f22cc560790 0x7f22cc56f414 0x7f22cc572287 0x7f22cc4bdf0f 0x7f22cc22fbe8 0x7f22cc21c166 0x5f5db9 0x5f698e 0x50b4c7 0x570e46 0x56a0ba 0x5f70bb 0x66600d 0x5f574e 0x56d5f6 0x56a0ba 0x5f6343 0x5f70f7 0x66600d 0x5f574e 0x56d5f6 0x5f6166 0x56bf09 0x56a0ba 0x50adf0 0x56cf2a 0x56a0ba\n",
      "tcmalloc: large alloc 5793644544 bytes == 0x101759a000 @  0x7f24f935d680 0x7f24f937e824 0x7f24f937eb8a 0x7f22d18696b7 0x7f22cc560790 0x7f22cc56f414 0x7f22cc572287 0x7f22cc4bdf0f 0x7f22cc22fbe8 0x7f22cc21c166 0x5f5db9 0x5f698e 0x50b4c7 0x570e46 0x56a0ba 0x5f70bb 0x66600d 0x5f574e 0x56d5f6 0x56a0ba 0x5f6343 0x5f70f7 0x66600d 0x5f574e 0x56d5f6 0x5f6166 0x56bf09 0x56a0ba 0x50adf0 0x56cf2a 0x5f6166\n",
      "tcmalloc: large alloc 7241465856 bytes == 0x129f21a000 @  0x7f24f935d680 0x7f24f937e824 0x7f24f937eb8a 0x7f22d18696b7 0x7f22cc560790 0x7f22cc56f414 0x7f22cc572287 0x7f22cc4bdf0f 0x7f22cc22fbe8 0x7f22cc21c166 0x5f5db9 0x5f698e 0x50b4c7 0x570e46 0x56a0ba 0x5f70bb 0x66600d 0x5f574e 0x56d5f6 0x56a0ba 0x5f6343 0x5f70f7 0x66600d 0x5f574e 0x56d5f6 0x5f6166 0x56bf09 0x56a0ba 0x5f6343 0x50ad7c 0x5f56c7\n",
      "100%|█████████████████████████████████| 57/57 [00:35<00:00,  1.60it/s, loss=2.01, acc=0.35, val_loss=1.32, val_acc=0.36]\n",
      "100%|█████████████████████████████████| 57/57 [00:07<00:00,  7.65it/s, loss=1.30, acc=0.38, val_loss=1.29, val_acc=0.37]\n",
      "100%|█████████████████████████████████| 57/57 [00:07<00:00,  7.85it/s, loss=1.23, acc=0.47, val_loss=1.11, val_acc=0.54]\n",
      "100%|█████████████████████████████████| 57/57 [00:06<00:00,  9.04it/s, loss=0.92, acc=0.63, val_loss=0.82, val_acc=0.67]\n",
      "100%|█████████████████████████████████| 57/57 [00:06<00:00,  8.80it/s, loss=0.70, acc=0.71, val_loss=0.65, val_acc=0.73]\n",
      "100%|█████████████████████████████████| 57/57 [00:06<00:00,  8.74it/s, loss=0.59, acc=0.75, val_loss=0.58, val_acc=0.75]\n",
      "100%|█████████████████████████████████| 57/57 [00:06<00:00,  8.53it/s, loss=0.53, acc=0.78, val_loss=0.52, val_acc=0.77]\n",
      "100%|█████████████████████████████████| 57/57 [00:07<00:00,  7.83it/s, loss=0.49, acc=0.79, val_loss=0.48, val_acc=0.79]\n",
      "100%|█████████████████████████████████| 57/57 [00:06<00:00,  8.74it/s, loss=0.46, acc=0.81, val_loss=0.48, val_acc=0.79]\n",
      "100%|█████████████████████████████████| 57/57 [00:07<00:00,  7.77it/s, loss=0.44, acc=0.81, val_loss=0.46, val_acc=0.79]\n",
      "100%|█████████████████████████████████| 57/57 [00:06<00:00,  8.67it/s, loss=0.42, acc=0.83, val_loss=0.46, val_acc=0.80]\n",
      "100%|█████████████████████████████████| 57/57 [00:06<00:00,  8.67it/s, loss=0.40, acc=0.83, val_loss=0.45, val_acc=0.80]\n",
      "100%|█████████████████████████████████| 57/57 [00:07<00:00,  8.03it/s, loss=0.38, acc=0.84, val_loss=0.44, val_acc=0.82]\n",
      "100%|█████████████████████████████████| 57/57 [00:06<00:00,  8.54it/s, loss=0.36, acc=0.85, val_loss=0.42, val_acc=0.82]\n",
      "100%|█████████████████████████████████| 57/57 [00:07<00:00,  7.69it/s, loss=0.35, acc=0.85, val_loss=0.41, val_acc=0.82]\n",
      "100%|█████████████████████████████████| 57/57 [00:06<00:00,  8.72it/s, loss=0.31, acc=0.87, val_loss=0.40, val_acc=0.83]\n",
      "100%|█████████████████████████████████| 57/57 [00:06<00:00,  8.89it/s, loss=0.28, acc=0.88, val_loss=0.42, val_acc=0.83]\n",
      "100%|█████████████████████████████████| 57/57 [00:08<00:00,  6.72it/s, loss=0.25, acc=0.89, val_loss=0.44, val_acc=0.83]\n",
      "100%|█████████████████████████████████| 57/57 [00:06<00:00,  8.85it/s, loss=0.23, acc=0.90, val_loss=0.47, val_acc=0.83]\n",
      "100%|█████████████████████████████████| 57/57 [00:06<00:00,  8.98it/s, loss=0.22, acc=0.91, val_loss=0.46, val_acc=0.83]\n",
      "100%|█████████████████████████████████| 57/57 [00:06<00:00,  8.17it/s, loss=0.20, acc=0.92, val_loss=0.47, val_acc=0.84]\n",
      "100%|█████████████████████████████████| 57/57 [00:06<00:00,  9.20it/s, loss=0.16, acc=0.94, val_loss=0.45, val_acc=0.85]\n",
      "100%|█████████████████████████████████| 57/57 [00:06<00:00,  9.02it/s, loss=0.11, acc=0.96, val_loss=0.49, val_acc=0.86]\n",
      "100%|█████████████████████████████████| 57/57 [00:06<00:00,  8.62it/s, loss=0.08, acc=0.97, val_loss=0.47, val_acc=0.87]\n",
      "100%|█████████████████████████████████| 57/57 [00:06<00:00,  9.03it/s, loss=0.05, acc=0.99, val_loss=0.45, val_acc=0.87]\n",
      "100%|█████████████████████████████████| 57/57 [00:06<00:00,  9.00it/s, loss=0.03, acc=0.99, val_loss=0.47, val_acc=0.88]\n",
      "100%|█████████████████████████████████| 57/57 [00:06<00:00,  9.02it/s, loss=0.02, acc=1.00, val_loss=0.47, val_acc=0.88]\n",
      "100%|█████████████████████████████████| 57/57 [00:06<00:00,  8.80it/s, loss=0.01, acc=1.00, val_loss=0.48, val_acc=0.88]\n",
      "100%|█████████████████████████████████| 57/57 [00:06<00:00,  9.01it/s, loss=0.01, acc=1.00, val_loss=0.48, val_acc=0.88]\n",
      "100%|█████████████████████████████████| 57/57 [00:06<00:00,  9.36it/s, loss=0.01, acc=1.00, val_loss=0.48, val_acc=0.88]\n"
     ]
    },
    {
     "name": "stdout",
     "output_type": "stream",
     "text": [
      "Model saved to models/base_mendeley_CV0.pickle\n"
     ]
    },
    {
     "data": {
      "text/html": [
       "<br/>Waiting for W&B process to finish, PID 2096293... <strong style=\"color:green\">(success).</strong>"
      ],
      "text/plain": [
       "<IPython.core.display.HTML object>"
      ]
     },
     "metadata": {},
     "output_type": "display_data"
    },
    {
     "data": {
      "application/vnd.jupyter.widget-view+json": {
       "model_id": "a0ddd4192bfe4a7196ff6b3ef59b0473",
       "version_major": 2,
       "version_minor": 0
      },
      "text/plain": [
       "VBox(children=(Label(value=' 0.04MB of 0.04MB uploaded (0.00MB deduped)\\r'), FloatProgress(value=1.0, max=1.0)…"
      ]
     },
     "metadata": {},
     "output_type": "display_data"
    },
    {
     "data": {
      "text/html": [
       "<style>\n",
       "    table.wandb td:nth-child(1) { padding: 0 10px; text-align: right }\n",
       "    .wandb-row { display: flex; flex-direction: row; flex-wrap: wrap; width: 100% }\n",
       "    .wandb-col { display: flex; flex-direction: column; flex-basis: 100%; flex: 1; padding: 10px; }\n",
       "    </style>\n",
       "<div class=\"wandb-row\"><div class=\"wandb-col\">\n",
       "<h3>Run history:</h3><br/><table class=\"wandb\"><tr><td>acc</td><td>▁▂▂▃▄▅▅▆▆▆▆▆▇▇▇▇▇▆▆▇▇▆▇▇█▇▇██▇██████████</td></tr><tr><td>loss</td><td>█▇▇█▆▅▄▄▄▄▄▃▃▃▃▃▃▃▃▃▂▃▂▂▂▂▂▂▁▂▁▁▁▁▁▁▁▁▁▁</td></tr><tr><td>val_acc</td><td>▁▁▃▅▆▆▆▇▇▇▇▇▇▇▇▇▇▇▇▇▇█████████</td></tr><tr><td>val_loss</td><td>██▆▄▃▂▂▂▂▁▁▁▁▁▁▁▁▁▂▁▂▁▂▂▁▂▂▂▂▂</td></tr></table><br/></div><div class=\"wandb-col\">\n",
       "<h3>Run summary:</h3><br/><table class=\"wandb\"><tr><td>acc</td><td>1.0</td></tr><tr><td>loss</td><td>0.01312</td></tr><tr><td>val_acc</td><td>0.88281</td></tr><tr><td>val_loss</td><td>0.47781</td></tr></table>\n",
       "</div></div>\n",
       "Synced 5 W&B file(s), 30 media file(s), 30 artifact file(s) and 1 other file(s)\n",
       "<br/>Synced <strong style=\"color:#cdcd00\">base_mendeley_CV_0</strong>: <a href=\"https://wandb.ai/usp-covid-xrays/xrays/runs/2vz398ew\" target=\"_blank\">https://wandb.ai/usp-covid-xrays/xrays/runs/2vz398ew</a><br/>\n",
       "Find logs at: <code>./wandb/run-20211019_134559-2vz398ew/logs</code><br/>\n"
      ],
      "text/plain": [
       "<IPython.core.display.HTML object>"
      ]
     },
     "metadata": {},
     "output_type": "display_data"
    },
    {
     "data": {
      "text/html": [
       "\n",
       "                    Syncing run <strong><a href=\"https://wandb.ai/usp-covid-xrays/xrays/runs/3spk2yqg\" target=\"_blank\">duprem_base_mendeley_CV_0</a></strong> to <a href=\"https://wandb.ai/usp-covid-xrays/xrays\" target=\"_blank\">Weights & Biases</a> (<a href=\"https://docs.wandb.com/integrations/jupyter.html\" target=\"_blank\">docs</a>).<br/>\n",
       "\n",
       "                "
      ],
      "text/plain": [
       "<IPython.core.display.HTML object>"
      ]
     },
     "metadata": {},
     "output_type": "display_data"
    },
    {
     "name": "stdout",
     "output_type": "stream",
     "text": [
      "Calculating embeddings...\n"
     ]
    },
    {
     "name": "stderr",
     "output_type": "stream",
     "text": [
      "100%|███████████████████████████████████████████████████████████████████████████████████| 71/71 [00:28<00:00,  2.49it/s]\n",
      "tcmalloc: large alloc 9529458688 bytes == 0x154fc1a000 @  0x7f24f935d680 0x7f24f937e824 0x7f24f937eb8a 0x7f22d18696b7 0x7f22cc560790 0x7f22cc56f414 0x7f22cc572287 0x7f22cc4bdf0f 0x7f22cc22fbe8 0x7f22cc21c166 0x5f5db9 0x5f698e 0x50b4c7 0x570e46 0x56a0ba 0x5f70bb 0x66600d 0x5f574e 0x56d5f6 0x56a0ba 0x5f6343 0x5f70f7 0x66600d 0x5f574e 0x56d5f6 0x5f6166 0x56bf09 0x56a0ba 0x5f6343 0x50b291 0x5f56c7\n",
      "tcmalloc: large alloc 9529458688 bytes == 0x178841a000 @  0x7f24f935d680 0x7f24f937e824 0x7f24f937eb8a 0x7f22d18696b7 0x7f22cc560790 0x7f22cc56f414 0x7f22cc572287 0x7f22cc4bdf0f 0x7f22cc22fbe8 0x7f22cc21c166 0x5f5db9 0x5f698e 0x50b4c7 0x570e46 0x56a0ba 0x5f70bb 0x66600d 0x5f574e 0x56d5f6 0x56a0ba 0x5f6343 0x5f70f7 0x66600d 0x5f574e 0x56d5f6 0x5f6166 0x56bf09 0x56a0ba 0x50adf0 0x56cf2a 0x56a0ba\n"
     ]
    },
    {
     "name": "stdout",
     "output_type": "stream",
     "text": [
      "Computing cosine similarities...\n"
     ]
    },
    {
     "name": "stderr",
     "output_type": "stream",
     "text": [
      "100%|██████████| 9208/9208 [00:36<00:00, 251.61it/s]\n"
     ]
    },
    {
     "name": "stdout",
     "output_type": "stream",
     "text": [
      "trim_duplicates.remove_duplicates - Removed images: 3373 (36.6%)\n"
     ]
    },
    {
     "data": {
      "text/html": [
       "<br/>Waiting for W&B process to finish, PID 2098138... <strong style=\"color:green\">(success).</strong>"
      ],
      "text/plain": [
       "<IPython.core.display.HTML object>"
      ]
     },
     "metadata": {},
     "output_type": "display_data"
    },
    {
     "data": {
      "application/vnd.jupyter.widget-view+json": {
       "model_id": "5bfb73a80e974c90a0865cc9e00fe886",
       "version_major": 2,
       "version_minor": 0
      },
      "text/plain": [
       "VBox(children=(Label(value=' 0.00MB of 0.00MB uploaded (0.00MB deduped)\\r'), FloatProgress(value=1.0, max=1.0)…"
      ]
     },
     "metadata": {},
     "output_type": "display_data"
    },
    {
     "data": {
      "text/html": [
       "<style>\n",
       "    table.wandb td:nth-child(1) { padding: 0 10px; text-align: right }\n",
       "    .wandb-row { display: flex; flex-direction: row; flex-wrap: wrap; width: 100% }\n",
       "    .wandb-col { display: flex; flex-direction: column; flex-basis: 100%; flex: 1; padding: 10px; }\n",
       "    </style>\n",
       "<div class=\"wandb-row\"><div class=\"wandb-col\">\n",
       "<h3>Run history:</h3><br/><table class=\"wandb\"><tr><td>test-after</td><td>▁</td></tr><tr><td>test-before</td><td>▁</td></tr><tr><td>test-duplicates</td><td>▁</td></tr><tr><td>train-after</td><td>▁</td></tr><tr><td>train-before</td><td>▁</td></tr><tr><td>train-duplicates</td><td>▁</td></tr></table><br/></div><div class=\"wandb-col\">\n",
       "<h3>Run summary:</h3><br/><table class=\"wandb\"><tr><td>test-after</td><td>1630</td></tr><tr><td>test-before</td><td>1841</td></tr><tr><td>test-duplicates</td><td>211</td></tr><tr><td>train-after</td><td>4205</td></tr><tr><td>train-before</td><td>7367</td></tr><tr><td>train-duplicates</td><td>3162</td></tr></table>\n",
       "</div></div>\n",
       "Synced 5 W&B file(s), 0 media file(s), 0 artifact file(s) and 0 other file(s)\n",
       "<br/>Synced <strong style=\"color:#cdcd00\">duprem_base_mendeley_CV_0</strong>: <a href=\"https://wandb.ai/usp-covid-xrays/xrays/runs/3spk2yqg\" target=\"_blank\">https://wandb.ai/usp-covid-xrays/xrays/runs/3spk2yqg</a><br/>\n",
       "Find logs at: <code>./wandb/run-20211019_135042-3spk2yqg/logs</code><br/>\n"
      ],
      "text/plain": [
       "<IPython.core.display.HTML object>"
      ]
     },
     "metadata": {},
     "output_type": "display_data"
    },
    {
     "data": {
      "text/html": [
       "\n",
       "                    Syncing run <strong><a href=\"https://wandb.ai/usp-covid-xrays/xrays/runs/2o3972p5\" target=\"_blank\">nodups_base_mendeley_CV_0</a></strong> to <a href=\"https://wandb.ai/usp-covid-xrays/xrays\" target=\"_blank\">Weights & Biases</a> (<a href=\"https://docs.wandb.com/integrations/jupyter.html\" target=\"_blank\">docs</a>).<br/>\n",
       "\n",
       "                "
      ],
      "text/plain": [
       "<IPython.core.display.HTML object>"
      ]
     },
     "metadata": {},
     "output_type": "display_data"
    },
    {
     "name": "stderr",
     "output_type": "stream",
     "text": [
      "100%|█████████████████████████████████| 32/32 [00:04<00:00,  7.55it/s, loss=3.00, acc=0.35, val_loss=1.31, val_acc=0.37]\n",
      "100%|█████████████████████████████████| 32/32 [00:03<00:00,  8.69it/s, loss=1.31, acc=0.35, val_loss=1.30, val_acc=0.37]\n",
      "100%|█████████████████████████████████| 32/32 [00:04<00:00,  7.89it/s, loss=1.31, acc=0.36, val_loss=1.31, val_acc=0.37]\n",
      "100%|█████████████████████████████████| 32/32 [00:05<00:00,  5.91it/s, loss=1.31, acc=0.36, val_loss=1.30, val_acc=0.37]\n",
      "100%|█████████████████████████████████| 32/32 [00:03<00:00,  8.32it/s, loss=1.30, acc=0.36, val_loss=1.30, val_acc=0.37]\n",
      "100%|█████████████████████████████████| 32/32 [00:04<00:00,  7.77it/s, loss=1.30, acc=0.36, val_loss=1.30, val_acc=0.37]\n",
      "100%|█████████████████████████████████| 32/32 [00:04<00:00,  7.91it/s, loss=1.30, acc=0.36, val_loss=1.30, val_acc=0.37]\n",
      "100%|█████████████████████████████████| 32/32 [00:04<00:00,  7.98it/s, loss=1.29, acc=0.39, val_loss=1.28, val_acc=0.37]\n",
      "100%|█████████████████████████████████| 32/32 [00:04<00:00,  7.97it/s, loss=1.27, acc=0.41, val_loss=1.27, val_acc=0.44]\n",
      "100%|█████████████████████████████████| 32/32 [00:03<00:00,  8.01it/s, loss=1.22, acc=0.49, val_loss=1.19, val_acc=0.51]\n",
      "100%|█████████████████████████████████| 32/32 [00:04<00:00,  6.95it/s, loss=1.11, acc=0.56, val_loss=1.17, val_acc=0.57]\n",
      "100%|█████████████████████████████████| 32/32 [00:04<00:00,  7.80it/s, loss=1.04, acc=0.59, val_loss=1.03, val_acc=0.60]\n",
      "100%|█████████████████████████████████| 32/32 [00:03<00:00,  8.04it/s, loss=0.97, acc=0.61, val_loss=0.94, val_acc=0.62]\n",
      "100%|█████████████████████████████████| 32/32 [00:04<00:00,  7.89it/s, loss=0.93, acc=0.62, val_loss=0.92, val_acc=0.62]\n",
      "100%|█████████████████████████████████| 32/32 [00:04<00:00,  7.96it/s, loss=0.89, acc=0.63, val_loss=0.89, val_acc=0.63]\n",
      "100%|█████████████████████████████████| 32/32 [00:04<00:00,  7.89it/s, loss=0.86, acc=0.63, val_loss=0.83, val_acc=0.63]\n",
      "100%|█████████████████████████████████| 32/32 [00:04<00:00,  6.75it/s, loss=0.80, acc=0.64, val_loss=0.80, val_acc=0.64]\n",
      "100%|█████████████████████████████████| 32/32 [00:04<00:00,  6.95it/s, loss=0.77, acc=0.66, val_loss=0.78, val_acc=0.65]\n",
      "100%|█████████████████████████████████| 32/32 [00:04<00:00,  7.78it/s, loss=0.74, acc=0.67, val_loss=0.77, val_acc=0.65]\n",
      "100%|█████████████████████████████████| 32/32 [00:03<00:00,  8.01it/s, loss=0.73, acc=0.68, val_loss=0.76, val_acc=0.66]\n",
      "100%|█████████████████████████████████| 32/32 [00:04<00:00,  7.92it/s, loss=0.68, acc=0.71, val_loss=0.58, val_acc=0.76]\n",
      "100%|█████████████████████████████████| 32/32 [00:04<00:00,  7.97it/s, loss=0.55, acc=0.76, val_loss=0.55, val_acc=0.76]\n",
      "100%|█████████████████████████████████| 32/32 [00:04<00:00,  7.93it/s, loss=0.49, acc=0.79, val_loss=0.50, val_acc=0.78]\n",
      "100%|█████████████████████████████████| 32/32 [00:04<00:00,  6.48it/s, loss=0.46, acc=0.80, val_loss=0.52, val_acc=0.77]\n",
      "100%|█████████████████████████████████| 32/32 [00:04<00:00,  7.82it/s, loss=0.45, acc=0.80, val_loss=0.49, val_acc=0.79]\n",
      "100%|█████████████████████████████████| 32/32 [00:04<00:00,  7.99it/s, loss=0.43, acc=0.81, val_loss=0.48, val_acc=0.81]\n",
      "100%|█████████████████████████████████| 32/32 [00:03<00:00,  8.09it/s, loss=0.42, acc=0.82, val_loss=0.48, val_acc=0.81]\n",
      "100%|█████████████████████████████████| 32/32 [00:03<00:00,  8.12it/s, loss=0.41, acc=0.82, val_loss=0.47, val_acc=0.80]\n",
      "100%|█████████████████████████████████| 32/32 [00:03<00:00,  8.04it/s, loss=0.38, acc=0.84, val_loss=0.46, val_acc=0.80]\n",
      "100%|█████████████████████████████████| 32/32 [00:03<00:00,  8.03it/s, loss=0.37, acc=0.85, val_loss=0.46, val_acc=0.80]\n"
     ]
    },
    {
     "name": "stdout",
     "output_type": "stream",
     "text": [
      "Model saved to models/nodups_base_mendeley_CV0.pickle\n"
     ]
    },
    {
     "data": {
      "text/html": [
       "<br/>Waiting for W&B process to finish, PID 2110813... <strong style=\"color:green\">(success).</strong>"
      ],
      "text/plain": [
       "<IPython.core.display.HTML object>"
      ]
     },
     "metadata": {},
     "output_type": "display_data"
    },
    {
     "data": {
      "application/vnd.jupyter.widget-view+json": {
       "model_id": "90994d9c6a4842609ee281054cdaa8bb",
       "version_major": 2,
       "version_minor": 0
      },
      "text/plain": [
       "VBox(children=(Label(value=' 0.03MB of 1023.79MB uploaded (0.00MB deduped)\\r'), FloatProgress(value=2.93454877…"
      ]
     },
     "metadata": {},
     "output_type": "display_data"
    },
    {
     "data": {
      "text/html": [
       "<style>\n",
       "    table.wandb td:nth-child(1) { padding: 0 10px; text-align: right }\n",
       "    .wandb-row { display: flex; flex-direction: row; flex-wrap: wrap; width: 100% }\n",
       "    .wandb-col { display: flex; flex-direction: column; flex-basis: 100%; flex: 1; padding: 10px; }\n",
       "    </style>\n",
       "<div class=\"wandb-row\"><div class=\"wandb-col\">\n",
       "<h3>Run history:</h3><br/><table class=\"wandb\"><tr><td>acc</td><td>▂▁▂▃▂▃▂▃▂▃▃▄▃▄▅▆▅▆▆▆▆▅▆▆▆▆▆▇▇▇▇█▇█▇█████</td></tr><tr><td>loss</td><td>█▃▃▃▃▃▃▃▃▃▃▃▃▃▃▂▃▂▂▂▂▂▂▂▂▂▂▂▂▁▁▁▁▁▁▁▁▁▁▁</td></tr><tr><td>val_acc</td><td>▁▁▁▁▁▁▁▁▂▃▄▅▅▅▅▅▅▅▆▆▇▇█▇██████</td></tr><tr><td>val_loss</td><td>█████████▇▇▆▅▅▅▄▄▄▄▃▂▂▁▂▁▁▁▁▁▁</td></tr></table><br/></div><div class=\"wandb-col\">\n",
       "<h3>Run summary:</h3><br/><table class=\"wandb\"><tr><td>acc</td><td>0.83594</td></tr><tr><td>loss</td><td>0.39412</td></tr><tr><td>val_acc</td><td>0.79883</td></tr><tr><td>val_loss</td><td>0.46025</td></tr></table>\n",
       "</div></div>\n",
       "Synced 5 W&B file(s), 30 media file(s), 23 artifact file(s) and 1 other file(s)\n",
       "<br/>Synced <strong style=\"color:#cdcd00\">nodups_base_mendeley_CV_0</strong>: <a href=\"https://wandb.ai/usp-covid-xrays/xrays/runs/2o3972p5\" target=\"_blank\">https://wandb.ai/usp-covid-xrays/xrays/runs/2o3972p5</a><br/>\n",
       "Find logs at: <code>./wandb/run-20211019_135232-2o3972p5/logs</code><br/>\n"
      ],
      "text/plain": [
       "<IPython.core.display.HTML object>"
      ]
     },
     "metadata": {},
     "output_type": "display_data"
    },
    {
     "data": {
      "text/html": [
       "\n",
       "                    Syncing run <strong><a href=\"https://wandb.ai/usp-covid-xrays/xrays/runs/1qyuzl7q\" target=\"_blank\">base_mendeley_CV_1</a></strong> to <a href=\"https://wandb.ai/usp-covid-xrays/xrays\" target=\"_blank\">Weights & Biases</a> (<a href=\"https://docs.wandb.com/integrations/jupyter.html\" target=\"_blank\">docs</a>).<br/>\n",
       "\n",
       "                "
      ],
      "text/plain": [
       "<IPython.core.display.HTML object>"
      ]
     },
     "metadata": {},
     "output_type": "display_data"
    },
    {
     "name": "stderr",
     "output_type": "stream",
     "text": [
      "100%|█████████████████████████████████| 57/57 [00:06<00:00,  8.84it/s, loss=2.10, acc=0.35, val_loss=1.30, val_acc=0.35]\n",
      "100%|█████████████████████████████████| 57/57 [00:06<00:00,  9.20it/s, loss=1.30, acc=0.36, val_loss=1.30, val_acc=0.35]\n",
      "100%|█████████████████████████████████| 57/57 [00:06<00:00,  9.19it/s, loss=1.30, acc=0.37, val_loss=1.31, val_acc=0.34]\n",
      "100%|█████████████████████████████████| 57/57 [00:06<00:00,  9.20it/s, loss=1.26, acc=0.44, val_loss=1.23, val_acc=0.48]\n",
      "100%|█████████████████████████████████| 57/57 [00:06<00:00,  9.13it/s, loss=1.15, acc=0.54, val_loss=1.13, val_acc=0.57]\n",
      "100%|█████████████████████████████████| 57/57 [00:06<00:00,  9.11it/s, loss=0.93, acc=0.63, val_loss=0.82, val_acc=0.66]\n",
      "100%|█████████████████████████████████| 57/57 [00:06<00:00,  9.03it/s, loss=0.76, acc=0.69, val_loss=0.74, val_acc=0.70]\n",
      "100%|█████████████████████████████████| 57/57 [00:06<00:00,  9.08it/s, loss=0.64, acc=0.73, val_loss=0.65, val_acc=0.72]\n",
      "100%|█████████████████████████████████| 57/57 [00:06<00:00,  8.86it/s, loss=0.55, acc=0.77, val_loss=0.56, val_acc=0.76]\n",
      "100%|█████████████████████████████████| 57/57 [00:07<00:00,  7.57it/s, loss=0.52, acc=0.78, val_loss=0.54, val_acc=0.77]\n",
      "100%|█████████████████████████████████| 57/57 [00:06<00:00,  8.80it/s, loss=0.49, acc=0.79, val_loss=0.51, val_acc=0.78]\n",
      "100%|█████████████████████████████████| 57/57 [00:06<00:00,  9.11it/s, loss=0.46, acc=0.80, val_loss=0.48, val_acc=0.81]\n",
      "100%|█████████████████████████████████| 57/57 [00:06<00:00,  9.08it/s, loss=0.44, acc=0.81, val_loss=0.48, val_acc=0.81]\n",
      "100%|█████████████████████████████████| 57/57 [00:06<00:00,  8.71it/s, loss=0.42, acc=0.82, val_loss=0.50, val_acc=0.80]\n",
      "100%|█████████████████████████████████| 57/57 [00:06<00:00,  8.30it/s, loss=0.41, acc=0.82, val_loss=0.47, val_acc=0.82]\n",
      "100%|█████████████████████████████████| 57/57 [00:06<00:00,  9.09it/s, loss=0.40, acc=0.83, val_loss=0.45, val_acc=0.82]\n",
      "100%|█████████████████████████████████| 57/57 [00:06<00:00,  8.92it/s, loss=0.38, acc=0.83, val_loss=0.47, val_acc=0.82]\n",
      "100%|█████████████████████████████████| 57/57 [00:06<00:00,  9.08it/s, loss=0.37, acc=0.84, val_loss=0.46, val_acc=0.82]\n",
      "100%|█████████████████████████████████| 57/57 [00:06<00:00,  9.22it/s, loss=0.35, acc=0.85, val_loss=0.46, val_acc=0.82]\n",
      "100%|█████████████████████████████████| 57/57 [00:06<00:00,  9.08it/s, loss=0.33, acc=0.86, val_loss=0.44, val_acc=0.83]\n",
      "100%|█████████████████████████████████| 57/57 [00:06<00:00,  9.03it/s, loss=0.32, acc=0.86, val_loss=0.45, val_acc=0.82]\n",
      "100%|█████████████████████████████████| 57/57 [00:07<00:00,  7.79it/s, loss=0.30, acc=0.87, val_loss=0.44, val_acc=0.83]\n",
      "100%|█████████████████████████████████| 57/57 [00:06<00:00,  8.98it/s, loss=0.28, acc=0.88, val_loss=0.45, val_acc=0.83]\n",
      "100%|█████████████████████████████████| 57/57 [00:06<00:00,  9.11it/s, loss=0.26, acc=0.89, val_loss=0.47, val_acc=0.82]\n",
      "100%|█████████████████████████████████| 57/57 [00:06<00:00,  9.02it/s, loss=0.25, acc=0.90, val_loss=0.47, val_acc=0.82]\n",
      "100%|█████████████████████████████████| 57/57 [00:06<00:00,  8.38it/s, loss=0.23, acc=0.90, val_loss=0.45, val_acc=0.83]\n",
      "100%|█████████████████████████████████| 57/57 [00:06<00:00,  8.17it/s, loss=0.22, acc=0.91, val_loss=0.45, val_acc=0.83]\n",
      "100%|█████████████████████████████████| 57/57 [00:06<00:00,  8.98it/s, loss=0.20, acc=0.92, val_loss=0.44, val_acc=0.84]\n",
      "100%|█████████████████████████████████| 57/57 [00:06<00:00,  8.80it/s, loss=0.19, acc=0.92, val_loss=0.44, val_acc=0.83]\n",
      "100%|█████████████████████████████████| 57/57 [00:06<00:00,  8.92it/s, loss=0.19, acc=0.93, val_loss=0.44, val_acc=0.83]\n"
     ]
    },
    {
     "name": "stdout",
     "output_type": "stream",
     "text": [
      "Model saved to models/base_mendeley_CV1.pickle\n"
     ]
    },
    {
     "data": {
      "text/html": [
       "<br/>Waiting for W&B process to finish, PID 2112019... <strong style=\"color:green\">(success).</strong>"
      ],
      "text/plain": [
       "<IPython.core.display.HTML object>"
      ]
     },
     "metadata": {},
     "output_type": "display_data"
    },
    {
     "data": {
      "application/vnd.jupyter.widget-view+json": {
       "model_id": "55bfc11071a14f49b7c66136761140c8",
       "version_major": 2,
       "version_minor": 0
      },
      "text/plain": [
       "VBox(children=(Label(value=' 0.04MB of 0.04MB uploaded (0.00MB deduped)\\r'), FloatProgress(value=1.0, max=1.0)…"
      ]
     },
     "metadata": {},
     "output_type": "display_data"
    },
    {
     "data": {
      "text/html": [
       "<style>\n",
       "    table.wandb td:nth-child(1) { padding: 0 10px; text-align: right }\n",
       "    .wandb-row { display: flex; flex-direction: row; flex-wrap: wrap; width: 100% }\n",
       "    .wandb-col { display: flex; flex-direction: column; flex-basis: 100%; flex: 1; padding: 10px; }\n",
       "    </style>\n",
       "<div class=\"wandb-row\"><div class=\"wandb-col\">\n",
       "<h3>Run history:</h3><br/><table class=\"wandb\"><tr><td>acc</td><td>▁▂▂▂▂▃▄▅▆▇▅▆▇▇▇▇▇▆▇▆▇▇▇▇▇▇▇█▇▇█▇████████</td></tr><tr><td>loss</td><td>█▇▇██▇▆▅▄▄▄▃▂▂▃▃▃▃▂▃▂▃▂▂▂▂▂▂▂▂▂▂▁▂▂▁▁▂▁▁</td></tr><tr><td>val_acc</td><td>▁▁▁▃▄▆▆▆▇▇▇███████████████████</td></tr><tr><td>val_loss</td><td>███▇▆▄▃▃▂▂▂▁▁▂▁▁▁▁▁▁▁▁▁▁▁▁▁▁▁▁</td></tr></table><br/></div><div class=\"wandb-col\">\n",
       "<h3>Run summary:</h3><br/><table class=\"wandb\"><tr><td>acc</td><td>0.90625</td></tr><tr><td>loss</td><td>0.18189</td></tr><tr><td>val_acc</td><td>0.83036</td></tr><tr><td>val_loss</td><td>0.43905</td></tr></table>\n",
       "</div></div>\n",
       "Synced 5 W&B file(s), 30 media file(s), 30 artifact file(s) and 1 other file(s)\n",
       "<br/>Synced <strong style=\"color:#cdcd00\">base_mendeley_CV_1</strong>: <a href=\"https://wandb.ai/usp-covid-xrays/xrays/runs/1qyuzl7q\" target=\"_blank\">https://wandb.ai/usp-covid-xrays/xrays/runs/1qyuzl7q</a><br/>\n",
       "Find logs at: <code>./wandb/run-20211019_135509-1qyuzl7q/logs</code><br/>\n"
      ],
      "text/plain": [
       "<IPython.core.display.HTML object>"
      ]
     },
     "metadata": {},
     "output_type": "display_data"
    },
    {
     "data": {
      "text/html": [
       "\n",
       "                    Syncing run <strong><a href=\"https://wandb.ai/usp-covid-xrays/xrays/runs/l6scelix\" target=\"_blank\">duprem_base_mendeley_CV_1</a></strong> to <a href=\"https://wandb.ai/usp-covid-xrays/xrays\" target=\"_blank\">Weights & Biases</a> (<a href=\"https://docs.wandb.com/integrations/jupyter.html\" target=\"_blank\">docs</a>).<br/>\n",
       "\n",
       "                "
      ],
      "text/plain": [
       "<IPython.core.display.HTML object>"
      ]
     },
     "metadata": {},
     "output_type": "display_data"
    },
    {
     "name": "stdout",
     "output_type": "stream",
     "text": [
      "Calculating embeddings...\n"
     ]
    },
    {
     "name": "stderr",
     "output_type": "stream",
     "text": [
      "100%|███████████████████████████████████████████████████████████████████████████████████| 71/71 [00:24<00:00,  2.95it/s]\n",
      "tcmalloc: large alloc 9529458688 bytes == 0x178841a000 @  0x7f24f935d680 0x7f24f937e824 0x7f24f937eb8a 0x7f22d18696b7 0x7f22cc560790 0x7f22cc56f414 0x7f22cc572287 0x7f22cc4bdf0f 0x7f22cc22fbe8 0x7f22cc21c166 0x5f5db9 0x5f698e 0x50b4c7 0x570e46 0x56a0ba 0x5f70bb 0x66600d 0x5f574e 0x56d5f6 0x56a0ba 0x5f6343 0x5f70f7 0x66600d 0x5f574e 0x56d5f6 0x5f6166 0x56bf09 0x56a0ba 0x5f6343 0x50b291 0x5f56c7\n",
      "tcmalloc: large alloc 9529458688 bytes == 0x1b70e1a000 @  0x7f24f935d680 0x7f24f937e824 0x7f24f937eb8a 0x7f22d18696b7 0x7f22cc560790 0x7f22cc56f414 0x7f22cc572287 0x7f22cc4bdf0f 0x7f22cc22fbe8 0x7f22cc21c166 0x5f5db9 0x5f698e 0x50b4c7 0x570e46 0x56a0ba 0x5f70bb 0x66600d 0x5f574e 0x56d5f6 0x56a0ba 0x5f6343 0x5f70f7 0x66600d 0x5f574e 0x56d5f6 0x5f6166 0x56bf09 0x56a0ba 0x50adf0 0x56cf2a 0x56a0ba\n"
     ]
    },
    {
     "name": "stdout",
     "output_type": "stream",
     "text": [
      "Computing cosine similarities...\n"
     ]
    },
    {
     "name": "stderr",
     "output_type": "stream",
     "text": [
      "100%|██████████| 9208/9208 [00:32<00:00, 285.56it/s]\n"
     ]
    },
    {
     "name": "stdout",
     "output_type": "stream",
     "text": [
      "trim_duplicates.remove_duplicates - Removed images: 3097 (33.6%)\n"
     ]
    },
    {
     "data": {
      "text/html": [
       "<br/>Waiting for W&B process to finish, PID 2113613... <strong style=\"color:green\">(success).</strong>"
      ],
      "text/plain": [
       "<IPython.core.display.HTML object>"
      ]
     },
     "metadata": {},
     "output_type": "display_data"
    },
    {
     "data": {
      "application/vnd.jupyter.widget-view+json": {
       "model_id": "bb0c9f87cdc74c39bc0cb814251aa0d5",
       "version_major": 2,
       "version_minor": 0
      },
      "text/plain": [
       "VBox(children=(Label(value=' 0.00MB of 0.00MB uploaded (0.00MB deduped)\\r'), FloatProgress(value=1.0, max=1.0)…"
      ]
     },
     "metadata": {},
     "output_type": "display_data"
    },
    {
     "data": {
      "text/html": [
       "<style>\n",
       "    table.wandb td:nth-child(1) { padding: 0 10px; text-align: right }\n",
       "    .wandb-row { display: flex; flex-direction: row; flex-wrap: wrap; width: 100% }\n",
       "    .wandb-col { display: flex; flex-direction: column; flex-basis: 100%; flex: 1; padding: 10px; }\n",
       "    </style>\n",
       "<div class=\"wandb-row\"><div class=\"wandb-col\">\n",
       "<h3>Run history:</h3><br/><table class=\"wandb\"><tr><td>test-after</td><td>▁</td></tr><tr><td>test-before</td><td>▁</td></tr><tr><td>test-duplicates</td><td>▁</td></tr><tr><td>train-after</td><td>▁</td></tr><tr><td>train-before</td><td>▁</td></tr><tr><td>train-duplicates</td><td>▁</td></tr></table><br/></div><div class=\"wandb-col\">\n",
       "<h3>Run summary:</h3><br/><table class=\"wandb\"><tr><td>test-after</td><td>1669</td></tr><tr><td>test-before</td><td>1841</td></tr><tr><td>test-duplicates</td><td>172</td></tr><tr><td>train-after</td><td>4442</td></tr><tr><td>train-before</td><td>7367</td></tr><tr><td>train-duplicates</td><td>2925</td></tr></table>\n",
       "</div></div>\n",
       "Synced 5 W&B file(s), 0 media file(s), 0 artifact file(s) and 0 other file(s)\n",
       "<br/>Synced <strong style=\"color:#cdcd00\">duprem_base_mendeley_CV_1</strong>: <a href=\"https://wandb.ai/usp-covid-xrays/xrays/runs/l6scelix\" target=\"_blank\">https://wandb.ai/usp-covid-xrays/xrays/runs/l6scelix</a><br/>\n",
       "Find logs at: <code>./wandb/run-20211019_135906-l6scelix/logs</code><br/>\n"
      ],
      "text/plain": [
       "<IPython.core.display.HTML object>"
      ]
     },
     "metadata": {},
     "output_type": "display_data"
    },
    {
     "data": {
      "text/html": [
       "\n",
       "                    Syncing run <strong><a href=\"https://wandb.ai/usp-covid-xrays/xrays/runs/3adjoek0\" target=\"_blank\">nodups_base_mendeley_CV_1</a></strong> to <a href=\"https://wandb.ai/usp-covid-xrays/xrays\" target=\"_blank\">Weights & Biases</a> (<a href=\"https://docs.wandb.com/integrations/jupyter.html\" target=\"_blank\">docs</a>).<br/>\n",
       "\n",
       "                "
      ],
      "text/plain": [
       "<IPython.core.display.HTML object>"
      ]
     },
     "metadata": {},
     "output_type": "display_data"
    },
    {
     "name": "stderr",
     "output_type": "stream",
     "text": [
      "100%|█████████████████████████████████| 34/34 [00:04<00:00,  7.96it/s, loss=2.67, acc=0.35, val_loss=1.31, val_acc=0.33]\n",
      "100%|█████████████████████████████████| 34/34 [00:04<00:00,  8.40it/s, loss=1.31, acc=0.36, val_loss=1.32, val_acc=0.36]\n",
      "100%|█████████████████████████████████| 34/34 [00:03<00:00,  8.64it/s, loss=1.30, acc=0.37, val_loss=1.31, val_acc=0.34]\n",
      "100%|█████████████████████████████████| 34/34 [00:04<00:00,  8.45it/s, loss=1.29, acc=0.39, val_loss=1.30, val_acc=0.40]\n",
      "100%|█████████████████████████████████| 34/34 [00:06<00:00,  5.44it/s, loss=1.24, acc=0.48, val_loss=1.17, val_acc=0.52]\n",
      "100%|█████████████████████████████████| 34/34 [00:03<00:00,  8.81it/s, loss=1.05, acc=0.59, val_loss=0.95, val_acc=0.61]\n",
      "100%|█████████████████████████████████| 34/34 [00:03<00:00,  8.75it/s, loss=0.93, acc=0.62, val_loss=0.91, val_acc=0.62]\n",
      "100%|█████████████████████████████████| 34/34 [00:03<00:00,  8.84it/s, loss=0.89, acc=0.62, val_loss=0.89, val_acc=0.62]\n",
      "100%|█████████████████████████████████| 34/34 [00:03<00:00,  8.68it/s, loss=0.86, acc=0.63, val_loss=0.85, val_acc=0.62]\n",
      "100%|█████████████████████████████████| 34/34 [00:03<00:00,  8.84it/s, loss=0.79, acc=0.67, val_loss=0.76, val_acc=0.67]\n",
      "100%|█████████████████████████████████| 34/34 [00:03<00:00,  8.83it/s, loss=0.67, acc=0.73, val_loss=0.63, val_acc=0.74]\n",
      "100%|█████████████████████████████████| 34/34 [00:03<00:00,  8.77it/s, loss=0.62, acc=0.74, val_loss=0.67, val_acc=0.73]\n",
      "100%|█████████████████████████████████| 34/34 [00:03<00:00,  8.67it/s, loss=0.58, acc=0.75, val_loss=0.61, val_acc=0.75]\n",
      "100%|█████████████████████████████████| 34/34 [00:03<00:00,  8.63it/s, loss=0.53, acc=0.77, val_loss=0.59, val_acc=0.74]\n",
      "100%|█████████████████████████████████| 34/34 [00:03<00:00,  8.63it/s, loss=0.52, acc=0.78, val_loss=0.57, val_acc=0.75]\n",
      "100%|█████████████████████████████████| 34/34 [00:03<00:00,  8.68it/s, loss=0.50, acc=0.78, val_loss=0.52, val_acc=0.77]\n",
      "100%|█████████████████████████████████| 34/34 [00:04<00:00,  8.42it/s, loss=0.48, acc=0.79, val_loss=0.53, val_acc=0.77]\n",
      "100%|█████████████████████████████████| 34/34 [00:03<00:00,  8.79it/s, loss=0.46, acc=0.80, val_loss=0.52, val_acc=0.77]\n",
      "100%|█████████████████████████████████| 34/34 [00:03<00:00,  8.84it/s, loss=0.44, acc=0.81, val_loss=0.50, val_acc=0.78]\n",
      "100%|█████████████████████████████████| 34/34 [00:04<00:00,  8.44it/s, loss=0.44, acc=0.81, val_loss=0.51, val_acc=0.78]\n",
      "100%|█████████████████████████████████| 34/34 [00:04<00:00,  8.20it/s, loss=0.42, acc=0.82, val_loss=0.49, val_acc=0.80]\n",
      "100%|█████████████████████████████████| 34/34 [00:03<00:00,  8.56it/s, loss=0.41, acc=0.82, val_loss=0.47, val_acc=0.81]\n",
      "100%|█████████████████████████████████| 34/34 [00:03<00:00,  8.51it/s, loss=0.40, acc=0.83, val_loss=0.47, val_acc=0.81]\n",
      "100%|█████████████████████████████████| 34/34 [00:03<00:00,  8.85it/s, loss=0.39, acc=0.83, val_loss=0.47, val_acc=0.81]\n",
      "100%|█████████████████████████████████| 34/34 [00:03<00:00,  8.76it/s, loss=0.38, acc=0.84, val_loss=0.47, val_acc=0.81]\n",
      "100%|█████████████████████████████████| 34/34 [00:04<00:00,  8.19it/s, loss=0.38, acc=0.84, val_loss=0.46, val_acc=0.81]\n",
      "100%|█████████████████████████████████| 34/34 [00:04<00:00,  7.89it/s, loss=0.36, acc=0.85, val_loss=0.45, val_acc=0.83]\n",
      "100%|█████████████████████████████████| 34/34 [00:04<00:00,  7.99it/s, loss=0.35, acc=0.85, val_loss=0.48, val_acc=0.82]\n",
      "100%|█████████████████████████████████| 34/34 [00:03<00:00,  8.58it/s, loss=0.35, acc=0.85, val_loss=0.48, val_acc=0.82]\n",
      "100%|█████████████████████████████████| 34/34 [00:05<00:00,  6.73it/s, loss=0.33, acc=0.85, val_loss=0.50, val_acc=0.81]\n"
     ]
    },
    {
     "name": "stdout",
     "output_type": "stream",
     "text": [
      "Model saved to models/nodups_base_mendeley_CV1.pickle\n"
     ]
    },
    {
     "data": {
      "text/html": [
       "<br/>Waiting for W&B process to finish, PID 2115629... <strong style=\"color:green\">(success).</strong>"
      ],
      "text/plain": [
       "<IPython.core.display.HTML object>"
      ]
     },
     "metadata": {},
     "output_type": "display_data"
    },
    {
     "data": {
      "application/vnd.jupyter.widget-view+json": {
       "model_id": "3ba8025cd461405abe7797681a5182e4",
       "version_major": 2,
       "version_minor": 0
      },
      "text/plain": [
       "VBox(children=(Label(value=' 0.04MB of 0.04MB uploaded (0.00MB deduped)\\r'), FloatProgress(value=1.0, max=1.0)…"
      ]
     },
     "metadata": {},
     "output_type": "display_data"
    },
    {
     "data": {
      "text/html": [
       "<style>\n",
       "    table.wandb td:nth-child(1) { padding: 0 10px; text-align: right }\n",
       "    .wandb-row { display: flex; flex-direction: row; flex-wrap: wrap; width: 100% }\n",
       "    .wandb-col { display: flex; flex-direction: column; flex-basis: 100%; flex: 1; padding: 10px; }\n",
       "    </style>\n",
       "<div class=\"wandb-row\"><div class=\"wandb-col\">\n",
       "<h3>Run history:</h3><br/><table class=\"wandb\"><tr><td>acc</td><td>▁▁▂▂▁▂▄▄▄▄▅▅▃▆▆▇▆▆▇▆▆▆▇▆▇▆▆▇▇██▆▇▆████▇█</td></tr><tr><td>loss</td><td>█▃▄▄▄▄▃▃▃▃▂▃▃▂▂▂▂▂▂▂▂▂▁▂▁▂▁▁▁▁▁▁▂▂▁▁▁▁▁▁</td></tr><tr><td>val_acc</td><td>▁▁▁▂▄▅▅▅▅▆▇▇▇▇▇▇▇▇▇▇██████████</td></tr><tr><td>val_loss</td><td>████▇▅▅▅▄▄▂▃▂▂▂▂▂▂▁▂▁▁▁▁▁▁▁▁▁▁</td></tr></table><br/></div><div class=\"wandb-col\">\n",
       "<h3>Run summary:</h3><br/><table class=\"wandb\"><tr><td>acc</td><td>0.82031</td></tr><tr><td>loss</td><td>0.41252</td></tr><tr><td>val_acc</td><td>0.8095</td></tr><tr><td>val_loss</td><td>0.50125</td></tr></table>\n",
       "</div></div>\n",
       "Synced 5 W&B file(s), 30 media file(s), 30 artifact file(s) and 1 other file(s)\n",
       "<br/>Synced <strong style=\"color:#cdcd00\">nodups_base_mendeley_CV_1</strong>: <a href=\"https://wandb.ai/usp-covid-xrays/xrays/runs/3adjoek0\" target=\"_blank\">https://wandb.ai/usp-covid-xrays/xrays/runs/3adjoek0</a><br/>\n",
       "Find logs at: <code>./wandb/run-20211019_140050-3adjoek0/logs</code><br/>\n"
      ],
      "text/plain": [
       "<IPython.core.display.HTML object>"
      ]
     },
     "metadata": {},
     "output_type": "display_data"
    },
    {
     "data": {
      "text/html": [
       "\n",
       "                    Syncing run <strong><a href=\"https://wandb.ai/usp-covid-xrays/xrays/runs/297q9z72\" target=\"_blank\">base_mendeley_CV_2</a></strong> to <a href=\"https://wandb.ai/usp-covid-xrays/xrays\" target=\"_blank\">Weights & Biases</a> (<a href=\"https://docs.wandb.com/integrations/jupyter.html\" target=\"_blank\">docs</a>).<br/>\n",
       "\n",
       "                "
      ],
      "text/plain": [
       "<IPython.core.display.HTML object>"
      ]
     },
     "metadata": {},
     "output_type": "display_data"
    },
    {
     "name": "stderr",
     "output_type": "stream",
     "text": [
      "100%|█████████████████████████████████| 57/57 [00:06<00:00,  8.48it/s, loss=2.10, acc=0.36, val_loss=1.31, val_acc=0.36]\n",
      "100%|█████████████████████████████████| 57/57 [00:05<00:00, 10.20it/s, loss=1.30, acc=0.36, val_loss=1.31, val_acc=0.36]\n",
      "100%|█████████████████████████████████| 57/57 [00:05<00:00, 10.39it/s, loss=1.29, acc=0.39, val_loss=1.26, val_acc=0.50]\n",
      "100%|█████████████████████████████████| 57/57 [00:05<00:00, 10.16it/s, loss=1.21, acc=0.50, val_loss=1.17, val_acc=0.50]\n",
      "100%|█████████████████████████████████| 57/57 [00:05<00:00, 10.19it/s, loss=1.12, acc=0.56, val_loss=1.21, val_acc=0.50]\n",
      "100%|█████████████████████████████████| 57/57 [00:05<00:00, 10.45it/s, loss=1.04, acc=0.60, val_loss=0.94, val_acc=0.62]\n",
      "100%|█████████████████████████████████| 57/57 [00:05<00:00, 10.29it/s, loss=0.85, acc=0.66, val_loss=0.64, val_acc=0.74]\n",
      "100%|█████████████████████████████████| 57/57 [00:06<00:00,  8.78it/s, loss=0.60, acc=0.74, val_loss=0.62, val_acc=0.74]\n",
      "100%|█████████████████████████████████| 57/57 [00:05<00:00,  9.75it/s, loss=0.55, acc=0.76, val_loss=0.56, val_acc=0.76]\n",
      "100%|█████████████████████████████████| 57/57 [00:05<00:00, 10.44it/s, loss=0.52, acc=0.78, val_loss=0.51, val_acc=0.77]\n",
      "100%|█████████████████████████████████| 57/57 [00:05<00:00, 10.59it/s, loss=0.49, acc=0.79, val_loss=0.52, val_acc=0.77]\n",
      "100%|█████████████████████████████████| 57/57 [00:05<00:00, 10.10it/s, loss=0.48, acc=0.80, val_loss=0.51, val_acc=0.78]\n",
      "100%|█████████████████████████████████| 57/57 [00:05<00:00, 10.34it/s, loss=0.46, acc=0.81, val_loss=0.51, val_acc=0.77]\n",
      "100%|█████████████████████████████████| 57/57 [00:06<00:00,  9.50it/s, loss=0.44, acc=0.82, val_loss=0.48, val_acc=0.79]\n",
      "100%|█████████████████████████████████| 57/57 [00:05<00:00, 10.00it/s, loss=0.42, acc=0.82, val_loss=0.48, val_acc=0.79]\n",
      "100%|█████████████████████████████████| 57/57 [00:05<00:00, 10.53it/s, loss=0.40, acc=0.83, val_loss=0.47, val_acc=0.80]\n",
      "100%|█████████████████████████████████| 57/57 [00:05<00:00,  9.84it/s, loss=0.39, acc=0.84, val_loss=0.46, val_acc=0.81]\n",
      "100%|█████████████████████████████████| 57/57 [00:06<00:00,  8.27it/s, loss=0.38, acc=0.84, val_loss=0.45, val_acc=0.82]\n",
      "100%|█████████████████████████████████| 57/57 [00:05<00:00, 10.32it/s, loss=0.38, acc=0.84, val_loss=0.45, val_acc=0.82]\n",
      "100%|█████████████████████████████████| 57/57 [00:05<00:00,  9.72it/s, loss=0.35, acc=0.85, val_loss=0.45, val_acc=0.81]\n",
      "100%|█████████████████████████████████| 57/57 [00:06<00:00,  9.03it/s, loss=0.33, acc=0.86, val_loss=0.44, val_acc=0.83]\n",
      "100%|█████████████████████████████████| 57/57 [00:05<00:00, 10.18it/s, loss=0.31, acc=0.87, val_loss=0.44, val_acc=0.82]\n",
      "100%|█████████████████████████████████| 57/57 [00:06<00:00,  9.30it/s, loss=0.29, acc=0.88, val_loss=0.43, val_acc=0.83]\n",
      "100%|█████████████████████████████████| 57/57 [00:06<00:00,  9.10it/s, loss=0.28, acc=0.88, val_loss=0.44, val_acc=0.82]\n",
      "100%|█████████████████████████████████| 57/57 [00:06<00:00,  9.09it/s, loss=0.26, acc=0.89, val_loss=0.43, val_acc=0.83]\n",
      "100%|█████████████████████████████████| 57/57 [00:06<00:00,  8.38it/s, loss=0.24, acc=0.90, val_loss=0.43, val_acc=0.83]\n",
      "100%|█████████████████████████████████| 57/57 [00:06<00:00,  8.97it/s, loss=0.22, acc=0.91, val_loss=0.43, val_acc=0.84]\n",
      "100%|█████████████████████████████████| 57/57 [00:06<00:00,  9.16it/s, loss=0.21, acc=0.92, val_loss=0.42, val_acc=0.84]\n",
      "100%|█████████████████████████████████| 57/57 [00:06<00:00,  9.35it/s, loss=0.20, acc=0.93, val_loss=0.42, val_acc=0.84]\n",
      "100%|█████████████████████████████████| 57/57 [00:06<00:00,  9.18it/s, loss=0.19, acc=0.93, val_loss=0.42, val_acc=0.84]\n"
     ]
    },
    {
     "name": "stdout",
     "output_type": "stream",
     "text": [
      "Model saved to models/base_mendeley_CV2.pickle\n"
     ]
    },
    {
     "data": {
      "text/html": [
       "<br/>Waiting for W&B process to finish, PID 2116854... <strong style=\"color:green\">(success).</strong>"
      ],
      "text/plain": [
       "<IPython.core.display.HTML object>"
      ]
     },
     "metadata": {},
     "output_type": "display_data"
    },
    {
     "data": {
      "application/vnd.jupyter.widget-view+json": {
       "model_id": "72e51680c4444224b41efffad253c082",
       "version_major": 2,
       "version_minor": 0
      },
      "text/plain": [
       "VBox(children=(Label(value=' 0.04MB of 0.04MB uploaded (0.00MB deduped)\\r'), FloatProgress(value=1.0, max=1.0)…"
      ]
     },
     "metadata": {},
     "output_type": "display_data"
    },
    {
     "data": {
      "text/html": [
       "<style>\n",
       "    table.wandb td:nth-child(1) { padding: 0 10px; text-align: right }\n",
       "    .wandb-row { display: flex; flex-direction: row; flex-wrap: wrap; width: 100% }\n",
       "    .wandb-col { display: flex; flex-direction: column; flex-basis: 100%; flex: 1; padding: 10px; }\n",
       "    </style>\n",
       "<div class=\"wandb-row\"><div class=\"wandb-col\">\n",
       "<h3>Run history:</h3><br/><table class=\"wandb\"><tr><td>acc</td><td>▁▂▁▂▂▃▃▃▄▆▅▆▆▇▇▆▇▆▆▆▇▆▇▇▆▇▇█▇▇▇▆▇▇▇██▇██</td></tr><tr><td>loss</td><td>█▇▇██▇▆▇▆▄▄▃▃▃▂▃▃▃▃▃▂▃▂▂▂▂▂▂▂▂▂▂▂▂▂▁▁▂▁▁</td></tr><tr><td>val_acc</td><td>▁▁▃▃▃▅▆▇▇▇▇▇▇▇▇▇██████████████</td></tr><tr><td>val_loss</td><td>███▇▇▅▃▃▂▂▂▂▂▁▂▁▁▁▁▁▁▁▁▁▁▁▁▁▁▁</td></tr></table><br/></div><div class=\"wandb-col\">\n",
       "<h3>Run summary:</h3><br/><table class=\"wandb\"><tr><td>acc</td><td>0.94531</td></tr><tr><td>loss</td><td>0.19463</td></tr><tr><td>val_acc</td><td>0.83929</td></tr><tr><td>val_loss</td><td>0.41881</td></tr></table>\n",
       "</div></div>\n",
       "Synced 5 W&B file(s), 30 media file(s), 30 artifact file(s) and 1 other file(s)\n",
       "<br/>Synced <strong style=\"color:#cdcd00\">base_mendeley_CV_2</strong>: <a href=\"https://wandb.ai/usp-covid-xrays/xrays/runs/297q9z72\" target=\"_blank\">https://wandb.ai/usp-covid-xrays/xrays/runs/297q9z72</a><br/>\n",
       "Find logs at: <code>./wandb/run-20211019_140323-297q9z72/logs</code><br/>\n"
      ],
      "text/plain": [
       "<IPython.core.display.HTML object>"
      ]
     },
     "metadata": {},
     "output_type": "display_data"
    },
    {
     "data": {
      "text/html": [
       "\n",
       "                    Syncing run <strong><a href=\"https://wandb.ai/usp-covid-xrays/xrays/runs/3lqqv8d8\" target=\"_blank\">duprem_base_mendeley_CV_2</a></strong> to <a href=\"https://wandb.ai/usp-covid-xrays/xrays\" target=\"_blank\">Weights & Biases</a> (<a href=\"https://docs.wandb.com/integrations/jupyter.html\" target=\"_blank\">docs</a>).<br/>\n",
       "\n",
       "                "
      ],
      "text/plain": [
       "<IPython.core.display.HTML object>"
      ]
     },
     "metadata": {},
     "output_type": "display_data"
    },
    {
     "name": "stdout",
     "output_type": "stream",
     "text": [
      "Calculating embeddings...\n"
     ]
    },
    {
     "name": "stderr",
     "output_type": "stream",
     "text": [
      "100%|███████████████████████████████████████████████████████████████████████████████████| 71/71 [00:26<00:00,  2.69it/s]\n",
      "tcmalloc: large alloc 9529458688 bytes == 0x1b70e1a000 @  0x7f24f935d680 0x7f24f937e824 0x7f24f937eb8a 0x7f22d18696b7 0x7f22cc560790 0x7f22cc56f414 0x7f22cc572287 0x7f22cc4bdf0f 0x7f22cc22fbe8 0x7f22cc21c166 0x5f5db9 0x5f698e 0x50b4c7 0x570e46 0x56a0ba 0x5f70bb 0x66600d 0x5f574e 0x56d5f6 0x56a0ba 0x5f6343 0x5f70f7 0x66600d 0x5f574e 0x56d5f6 0x5f6166 0x56bf09 0x56a0ba 0x5f6343 0x50b291 0x5f56c7\n",
      "tcmalloc: large alloc 9529458688 bytes == 0x1da961a000 @  0x7f24f935d680 0x7f24f937e824 0x7f24f937eb8a 0x7f22d18696b7 0x7f22cc560790 0x7f22cc56f414 0x7f22cc572287 0x7f22cc4bdf0f 0x7f22cc22fbe8 0x7f22cc21c166 0x5f5db9 0x5f698e 0x50b4c7 0x570e46 0x56a0ba 0x5f70bb 0x66600d 0x5f574e 0x56d5f6 0x56a0ba 0x5f6343 0x5f70f7 0x66600d 0x5f574e 0x56d5f6 0x5f6166 0x56bf09 0x56a0ba 0x50adf0 0x56cf2a 0x56a0ba\n"
     ]
    },
    {
     "name": "stdout",
     "output_type": "stream",
     "text": [
      "Computing cosine similarities...\n"
     ]
    },
    {
     "name": "stderr",
     "output_type": "stream",
     "text": [
      "100%|██████████| 9208/9208 [00:34<00:00, 269.84it/s]\n"
     ]
    },
    {
     "name": "stdout",
     "output_type": "stream",
     "text": [
      "trim_duplicates.remove_duplicates - Removed images: 3102 (33.7%)\n"
     ]
    },
    {
     "data": {
      "text/html": [
       "<br/>Waiting for W&B process to finish, PID 2118296... <strong style=\"color:green\">(success).</strong>"
      ],
      "text/plain": [
       "<IPython.core.display.HTML object>"
      ]
     },
     "metadata": {},
     "output_type": "display_data"
    },
    {
     "data": {
      "application/vnd.jupyter.widget-view+json": {
       "model_id": "e6d2482c31f34f5d86ae0c106502bbd6",
       "version_major": 2,
       "version_minor": 0
      },
      "text/plain": [
       "VBox(children=(Label(value=' 0.00MB of 0.00MB uploaded (0.00MB deduped)\\r'), FloatProgress(value=1.0, max=1.0)…"
      ]
     },
     "metadata": {},
     "output_type": "display_data"
    },
    {
     "data": {
      "text/html": [
       "<style>\n",
       "    table.wandb td:nth-child(1) { padding: 0 10px; text-align: right }\n",
       "    .wandb-row { display: flex; flex-direction: row; flex-wrap: wrap; width: 100% }\n",
       "    .wandb-col { display: flex; flex-direction: column; flex-basis: 100%; flex: 1; padding: 10px; }\n",
       "    </style>\n",
       "<div class=\"wandb-row\"><div class=\"wandb-col\">\n",
       "<h3>Run history:</h3><br/><table class=\"wandb\"><tr><td>test-after</td><td>▁</td></tr><tr><td>test-before</td><td>▁</td></tr><tr><td>test-duplicates</td><td>▁</td></tr><tr><td>train-after</td><td>▁</td></tr><tr><td>train-before</td><td>▁</td></tr><tr><td>train-duplicates</td><td>▁</td></tr></table><br/></div><div class=\"wandb-col\">\n",
       "<h3>Run summary:</h3><br/><table class=\"wandb\"><tr><td>test-after</td><td>1672</td></tr><tr><td>test-before</td><td>1841</td></tr><tr><td>test-duplicates</td><td>169</td></tr><tr><td>train-after</td><td>4434</td></tr><tr><td>train-before</td><td>7367</td></tr><tr><td>train-duplicates</td><td>2933</td></tr></table>\n",
       "</div></div>\n",
       "Synced 5 W&B file(s), 0 media file(s), 0 artifact file(s) and 0 other file(s)\n",
       "<br/>Synced <strong style=\"color:#cdcd00\">duprem_base_mendeley_CV_2</strong>: <a href=\"https://wandb.ai/usp-covid-xrays/xrays/runs/3lqqv8d8\" target=\"_blank\">https://wandb.ai/usp-covid-xrays/xrays/runs/3lqqv8d8</a><br/>\n",
       "Find logs at: <code>./wandb/run-20211019_140705-3lqqv8d8/logs</code><br/>\n"
      ],
      "text/plain": [
       "<IPython.core.display.HTML object>"
      ]
     },
     "metadata": {},
     "output_type": "display_data"
    },
    {
     "data": {
      "text/html": [
       "\n",
       "                    Syncing run <strong><a href=\"https://wandb.ai/usp-covid-xrays/xrays/runs/22b035xx\" target=\"_blank\">nodups_base_mendeley_CV_2</a></strong> to <a href=\"https://wandb.ai/usp-covid-xrays/xrays\" target=\"_blank\">Weights & Biases</a> (<a href=\"https://docs.wandb.com/integrations/jupyter.html\" target=\"_blank\">docs</a>).<br/>\n",
       "\n",
       "                "
      ],
      "text/plain": [
       "<IPython.core.display.HTML object>"
      ]
     },
     "metadata": {},
     "output_type": "display_data"
    },
    {
     "name": "stderr",
     "output_type": "stream",
     "text": [
      "100%|█████████████████████████████████| 34/34 [00:04<00:00,  7.35it/s, loss=2.59, acc=0.36, val_loss=1.35, val_acc=0.34]\n",
      "100%|█████████████████████████████████| 34/34 [00:04<00:00,  7.82it/s, loss=1.30, acc=0.36, val_loss=1.33, val_acc=0.35]\n",
      "100%|█████████████████████████████████| 34/34 [00:04<00:00,  7.79it/s, loss=1.30, acc=0.37, val_loss=1.32, val_acc=0.35]\n",
      "100%|█████████████████████████████████| 34/34 [00:04<00:00,  7.89it/s, loss=1.29, acc=0.38, val_loss=1.32, val_acc=0.35]\n",
      "100%|█████████████████████████████████| 34/34 [00:04<00:00,  7.83it/s, loss=1.28, acc=0.40, val_loss=1.28, val_acc=0.46]\n",
      "100%|█████████████████████████████████| 34/34 [00:04<00:00,  7.57it/s, loss=1.23, acc=0.50, val_loss=1.23, val_acc=0.49]\n",
      "100%|█████████████████████████████████| 34/34 [00:03<00:00,  8.66it/s, loss=1.15, acc=0.55, val_loss=1.07, val_acc=0.56]\n",
      "100%|█████████████████████████████████| 34/34 [00:04<00:00,  7.26it/s, loss=0.96, acc=0.62, val_loss=0.92, val_acc=0.62]\n",
      "100%|█████████████████████████████████| 34/34 [00:04<00:00,  7.76it/s, loss=0.91, acc=0.63, val_loss=0.89, val_acc=0.64]\n",
      "100%|█████████████████████████████████| 34/34 [00:04<00:00,  7.87it/s, loss=0.87, acc=0.65, val_loss=0.87, val_acc=0.65]\n",
      "100%|█████████████████████████████████| 34/34 [00:04<00:00,  8.30it/s, loss=0.82, acc=0.67, val_loss=0.80, val_acc=0.68]\n",
      "100%|█████████████████████████████████| 34/34 [00:04<00:00,  8.01it/s, loss=0.76, acc=0.70, val_loss=0.74, val_acc=0.69]\n",
      "100%|█████████████████████████████████| 34/34 [00:04<00:00,  7.77it/s, loss=0.66, acc=0.73, val_loss=0.61, val_acc=0.76]\n",
      "100%|█████████████████████████████████| 34/34 [00:04<00:00,  7.98it/s, loss=0.60, acc=0.74, val_loss=0.57, val_acc=0.76]\n",
      "100%|█████████████████████████████████| 34/34 [00:04<00:00,  8.36it/s, loss=0.56, acc=0.77, val_loss=0.56, val_acc=0.78]\n",
      "100%|█████████████████████████████████| 34/34 [00:04<00:00,  7.84it/s, loss=0.52, acc=0.78, val_loss=0.55, val_acc=0.79]\n",
      "100%|█████████████████████████████████| 34/34 [00:04<00:00,  7.98it/s, loss=0.51, acc=0.79, val_loss=0.54, val_acc=0.78]\n",
      "100%|█████████████████████████████████| 34/34 [00:04<00:00,  8.36it/s, loss=0.50, acc=0.80, val_loss=0.52, val_acc=0.80]\n",
      "100%|█████████████████████████████████| 34/34 [00:04<00:00,  7.84it/s, loss=0.49, acc=0.80, val_loss=0.51, val_acc=0.80]\n",
      "100%|█████████████████████████████████| 34/34 [00:04<00:00,  7.42it/s, loss=0.48, acc=0.80, val_loss=0.51, val_acc=0.79]\n",
      "100%|█████████████████████████████████| 34/34 [00:04<00:00,  8.05it/s, loss=0.48, acc=0.80, val_loss=0.49, val_acc=0.81]\n",
      "100%|█████████████████████████████████| 34/34 [00:04<00:00,  7.41it/s, loss=0.46, acc=0.81, val_loss=0.47, val_acc=0.81]\n",
      "100%|█████████████████████████████████| 34/34 [00:04<00:00,  7.83it/s, loss=0.44, acc=0.81, val_loss=0.44, val_acc=0.81]\n",
      "100%|█████████████████████████████████| 34/34 [00:03<00:00,  9.06it/s, loss=0.41, acc=0.82, val_loss=0.45, val_acc=0.82]\n",
      "100%|█████████████████████████████████| 34/34 [00:04<00:00,  7.91it/s, loss=0.39, acc=0.83, val_loss=0.44, val_acc=0.82]\n",
      "100%|█████████████████████████████████| 34/34 [00:04<00:00,  7.93it/s, loss=0.38, acc=0.84, val_loss=0.44, val_acc=0.83]\n",
      "100%|█████████████████████████████████| 34/34 [00:04<00:00,  8.10it/s, loss=0.38, acc=0.84, val_loss=0.42, val_acc=0.82]\n",
      "100%|█████████████████████████████████| 34/34 [00:04<00:00,  8.03it/s, loss=0.36, acc=0.85, val_loss=0.44, val_acc=0.83]\n",
      "100%|█████████████████████████████████| 34/34 [00:04<00:00,  7.86it/s, loss=0.34, acc=0.86, val_loss=0.46, val_acc=0.81]\n",
      "100%|█████████████████████████████████| 34/34 [00:03<00:00,  8.94it/s, loss=0.32, acc=0.86, val_loss=0.50, val_acc=0.81]\n"
     ]
    },
    {
     "name": "stdout",
     "output_type": "stream",
     "text": [
      "Model saved to models/nodups_base_mendeley_CV2.pickle\n"
     ]
    },
    {
     "data": {
      "text/html": [
       "<br/>Waiting for W&B process to finish, PID 2119534... <strong style=\"color:green\">(success).</strong>"
      ],
      "text/plain": [
       "<IPython.core.display.HTML object>"
      ]
     },
     "metadata": {},
     "output_type": "display_data"
    },
    {
     "data": {
      "application/vnd.jupyter.widget-view+json": {
       "model_id": "7dad26a6780d48a9b30617be98b9f58f",
       "version_major": 2,
       "version_minor": 0
      },
      "text/plain": [
       "VBox(children=(Label(value=' 0.04MB of 0.04MB uploaded (0.00MB deduped)\\r'), FloatProgress(value=1.0, max=1.0)…"
      ]
     },
     "metadata": {},
     "output_type": "display_data"
    },
    {
     "data": {
      "text/html": [
       "<style>\n",
       "    table.wandb td:nth-child(1) { padding: 0 10px; text-align: right }\n",
       "    .wandb-row { display: flex; flex-direction: row; flex-wrap: wrap; width: 100% }\n",
       "    .wandb-col { display: flex; flex-direction: column; flex-basis: 100%; flex: 1; padding: 10px; }\n",
       "    </style>\n",
       "<div class=\"wandb-row\"><div class=\"wandb-col\">\n",
       "<h3>Run history:</h3><br/><table class=\"wandb\"><tr><td>acc</td><td>▃▁▁▁▁▂▃▃▂▅▅▅▅▅▆▅▇▅▆▇▇▆▆▆▇▇▆▇█▇▇▇▇▇▇████▇</td></tr><tr><td>loss</td><td>█▄▄▄▄▄▄▄▄▃▃▃▃▃▂▂▂▂▂▂▂▂▁▂▁▁▂▁▁▁▁▁▂▁▁▁▁▁▁▁</td></tr><tr><td>val_acc</td><td>▁▁▁▁▃▃▄▅▅▅▆▆▇▇▇▇▇█████████████</td></tr><tr><td>val_loss</td><td>████▇▇▆▅▅▄▄▃▂▂▂▂▂▂▂▂▂▁▁▁▁▁▁▁▁▂</td></tr></table><br/></div><div class=\"wandb-col\">\n",
       "<h3>Run summary:</h3><br/><table class=\"wandb\"><tr><td>acc</td><td>0.82812</td></tr><tr><td>loss</td><td>0.33808</td></tr><tr><td>val_acc</td><td>0.80649</td></tr><tr><td>val_loss</td><td>0.49594</td></tr></table>\n",
       "</div></div>\n",
       "Synced 5 W&B file(s), 30 media file(s), 30 artifact file(s) and 1 other file(s)\n",
       "<br/>Synced <strong style=\"color:#cdcd00\">nodups_base_mendeley_CV_2</strong>: <a href=\"https://wandb.ai/usp-covid-xrays/xrays/runs/22b035xx\" target=\"_blank\">https://wandb.ai/usp-covid-xrays/xrays/runs/22b035xx</a><br/>\n",
       "Find logs at: <code>./wandb/run-20211019_140851-22b035xx/logs</code><br/>\n"
      ],
      "text/plain": [
       "<IPython.core.display.HTML object>"
      ]
     },
     "metadata": {},
     "output_type": "display_data"
    },
    {
     "data": {
      "text/html": [
       "\n",
       "                    Syncing run <strong><a href=\"https://wandb.ai/usp-covid-xrays/xrays/runs/11itqc4o\" target=\"_blank\">base_mendeley_CV_3</a></strong> to <a href=\"https://wandb.ai/usp-covid-xrays/xrays\" target=\"_blank\">Weights & Biases</a> (<a href=\"https://docs.wandb.com/integrations/jupyter.html\" target=\"_blank\">docs</a>).<br/>\n",
       "\n",
       "                "
      ],
      "text/plain": [
       "<IPython.core.display.HTML object>"
      ]
     },
     "metadata": {},
     "output_type": "display_data"
    },
    {
     "name": "stderr",
     "output_type": "stream",
     "text": [
      "100%|█████████████████████████████████| 57/57 [00:06<00:00,  8.86it/s, loss=2.11, acc=0.36, val_loss=1.30, val_acc=0.35]\n",
      "100%|█████████████████████████████████| 57/57 [00:06<00:00,  8.96it/s, loss=1.30, acc=0.36, val_loss=1.29, val_acc=0.36]\n",
      "100%|█████████████████████████████████| 57/57 [00:06<00:00,  9.19it/s, loss=1.30, acc=0.36, val_loss=1.30, val_acc=0.36]\n",
      "100%|█████████████████████████████████| 57/57 [00:06<00:00,  8.74it/s, loss=1.29, acc=0.41, val_loss=1.21, val_acc=0.51]\n",
      "100%|█████████████████████████████████| 57/57 [00:06<00:00,  9.18it/s, loss=1.21, acc=0.51, val_loss=1.17, val_acc=0.52]\n",
      "100%|█████████████████████████████████| 57/57 [00:06<00:00,  8.75it/s, loss=1.02, acc=0.60, val_loss=0.89, val_acc=0.65]\n",
      "100%|█████████████████████████████████| 57/57 [00:06<00:00,  8.59it/s, loss=0.79, acc=0.68, val_loss=0.76, val_acc=0.70]\n",
      "100%|█████████████████████████████████| 57/57 [00:06<00:00,  8.81it/s, loss=0.66, acc=0.73, val_loss=0.65, val_acc=0.72]\n",
      "100%|█████████████████████████████████| 57/57 [00:07<00:00,  7.29it/s, loss=0.59, acc=0.75, val_loss=0.61, val_acc=0.76]\n",
      "100%|█████████████████████████████████| 57/57 [00:06<00:00,  9.38it/s, loss=0.53, acc=0.78, val_loss=0.56, val_acc=0.77]\n",
      "100%|█████████████████████████████████| 57/57 [00:05<00:00, 10.10it/s, loss=0.49, acc=0.79, val_loss=0.55, val_acc=0.76]\n",
      "100%|█████████████████████████████████| 57/57 [00:06<00:00,  8.65it/s, loss=0.46, acc=0.81, val_loss=0.49, val_acc=0.80]\n",
      "100%|█████████████████████████████████| 57/57 [00:06<00:00,  8.88it/s, loss=0.42, acc=0.82, val_loss=0.48, val_acc=0.81]\n",
      "100%|█████████████████████████████████| 57/57 [00:05<00:00,  9.57it/s, loss=0.40, acc=0.83, val_loss=0.46, val_acc=0.81]\n",
      "100%|█████████████████████████████████| 57/57 [00:06<00:00,  8.95it/s, loss=0.39, acc=0.83, val_loss=0.46, val_acc=0.80]\n",
      "100%|█████████████████████████████████| 57/57 [00:05<00:00,  9.88it/s, loss=0.38, acc=0.83, val_loss=0.46, val_acc=0.81]\n",
      "100%|█████████████████████████████████| 57/57 [00:06<00:00,  8.95it/s, loss=0.37, acc=0.84, val_loss=0.46, val_acc=0.80]\n",
      "100%|█████████████████████████████████| 57/57 [00:06<00:00,  8.47it/s, loss=0.35, acc=0.85, val_loss=0.46, val_acc=0.81]\n",
      "100%|█████████████████████████████████| 57/57 [00:06<00:00,  8.81it/s, loss=0.33, acc=0.86, val_loss=0.46, val_acc=0.80]\n",
      "100%|█████████████████████████████████| 57/57 [00:06<00:00,  8.88it/s, loss=0.31, acc=0.87, val_loss=0.48, val_acc=0.80]\n",
      "100%|█████████████████████████████████| 57/57 [00:06<00:00,  8.82it/s, loss=0.30, acc=0.87, val_loss=0.47, val_acc=0.81]\n",
      "100%|█████████████████████████████████| 57/57 [00:06<00:00,  8.75it/s, loss=0.29, acc=0.88, val_loss=0.44, val_acc=0.82]\n",
      "100%|█████████████████████████████████| 57/57 [00:06<00:00,  8.89it/s, loss=0.27, acc=0.89, val_loss=0.43, val_acc=0.83]\n",
      "100%|█████████████████████████████████| 57/57 [00:06<00:00,  8.83it/s, loss=0.26, acc=0.89, val_loss=0.43, val_acc=0.83]\n",
      "100%|█████████████████████████████████| 57/57 [00:06<00:00,  8.76it/s, loss=0.23, acc=0.90, val_loss=0.42, val_acc=0.84]\n",
      "100%|█████████████████████████████████| 57/57 [00:06<00:00,  8.69it/s, loss=0.22, acc=0.91, val_loss=0.43, val_acc=0.84]\n",
      "100%|█████████████████████████████████| 57/57 [00:06<00:00,  8.85it/s, loss=0.20, acc=0.92, val_loss=0.42, val_acc=0.85]\n",
      "100%|█████████████████████████████████| 57/57 [00:06<00:00,  8.62it/s, loss=0.19, acc=0.93, val_loss=0.42, val_acc=0.85]\n",
      "100%|█████████████████████████████████| 57/57 [00:07<00:00,  7.76it/s, loss=0.18, acc=0.93, val_loss=0.41, val_acc=0.85]\n",
      "100%|█████████████████████████████████| 57/57 [00:06<00:00,  8.70it/s, loss=0.17, acc=0.93, val_loss=0.41, val_acc=0.85]\n"
     ]
    },
    {
     "name": "stdout",
     "output_type": "stream",
     "text": [
      "Model saved to models/base_mendeley_CV3.pickle\n"
     ]
    },
    {
     "data": {
      "text/html": [
       "<br/>Waiting for W&B process to finish, PID 2120466... <strong style=\"color:green\">(success).</strong>"
      ],
      "text/plain": [
       "<IPython.core.display.HTML object>"
      ]
     },
     "metadata": {},
     "output_type": "display_data"
    },
    {
     "data": {
      "application/vnd.jupyter.widget-view+json": {
       "model_id": "362b94d3694843a2924364d6eb222432",
       "version_major": 2,
       "version_minor": 0
      },
      "text/plain": [
       "VBox(children=(Label(value=' 0.04MB of 0.04MB uploaded (0.00MB deduped)\\r'), FloatProgress(value=1.0, max=1.0)…"
      ]
     },
     "metadata": {},
     "output_type": "display_data"
    },
    {
     "data": {
      "text/html": [
       "<style>\n",
       "    table.wandb td:nth-child(1) { padding: 0 10px; text-align: right }\n",
       "    .wandb-row { display: flex; flex-direction: row; flex-wrap: wrap; width: 100% }\n",
       "    .wandb-col { display: flex; flex-direction: column; flex-basis: 100%; flex: 1; padding: 10px; }\n",
       "    </style>\n",
       "<div class=\"wandb-row\"><div class=\"wandb-col\">\n",
       "<h3>Run history:</h3><br/><table class=\"wandb\"><tr><td>acc</td><td>▁▂▂▁▂▃▃▃▅▆▆▆▇▇▆▇▆▆▇▇▇▇▇▇▇▇▇█▇▇▇███▇█▇███</td></tr><tr><td>loss</td><td>█▇███▇▇▇▅▄▄▃▃▃▂▂▃▃▃▂▂▂▂▂▂▂▂▁▂▂▁▁▁▁▁▁▁▁▁▁</td></tr><tr><td>val_acc</td><td>▁▁▁▃▃▅▆▆▇▇▇▇▇▇▇▇▇▇▇▇▇▇████████</td></tr><tr><td>val_loss</td><td>███▇▇▅▄▃▃▂▂▂▂▁▁▁▁▁▁▂▂▁▁▁▁▁▁▁▁▁</td></tr></table><br/></div><div class=\"wandb-col\">\n",
       "<h3>Run summary:</h3><br/><table class=\"wandb\"><tr><td>acc</td><td>0.9375</td></tr><tr><td>loss</td><td>0.16354</td></tr><tr><td>val_acc</td><td>0.85491</td></tr><tr><td>val_loss</td><td>0.40848</td></tr></table>\n",
       "</div></div>\n",
       "Synced 5 W&B file(s), 30 media file(s), 30 artifact file(s) and 1 other file(s)\n",
       "<br/>Synced <strong style=\"color:#cdcd00\">base_mendeley_CV_3</strong>: <a href=\"https://wandb.ai/usp-covid-xrays/xrays/runs/11itqc4o\" target=\"_blank\">https://wandb.ai/usp-covid-xrays/xrays/runs/11itqc4o</a><br/>\n",
       "Find logs at: <code>./wandb/run-20211019_141135-11itqc4o/logs</code><br/>\n"
      ],
      "text/plain": [
       "<IPython.core.display.HTML object>"
      ]
     },
     "metadata": {},
     "output_type": "display_data"
    },
    {
     "data": {
      "text/html": [
       "\n",
       "                    Syncing run <strong><a href=\"https://wandb.ai/usp-covid-xrays/xrays/runs/3r05jtdd\" target=\"_blank\">duprem_base_mendeley_CV_3</a></strong> to <a href=\"https://wandb.ai/usp-covid-xrays/xrays\" target=\"_blank\">Weights & Biases</a> (<a href=\"https://docs.wandb.com/integrations/jupyter.html\" target=\"_blank\">docs</a>).<br/>\n",
       "\n",
       "                "
      ],
      "text/plain": [
       "<IPython.core.display.HTML object>"
      ]
     },
     "metadata": {},
     "output_type": "display_data"
    },
    {
     "name": "stdout",
     "output_type": "stream",
     "text": [
      "Calculating embeddings...\n"
     ]
    },
    {
     "name": "stderr",
     "output_type": "stream",
     "text": [
      "100%|███████████████████████████████████████████████████████████████████████████████████| 71/71 [00:30<00:00,  2.34it/s]\n",
      "tcmalloc: large alloc 9529458688 bytes == 0x1b70e1a000 @  0x7f24f935d680 0x7f24f937e824 0x7f24f937eb8a 0x7f22d18696b7 0x7f22cc560790 0x7f22cc56f414 0x7f22cc572287 0x7f22cc4bdf0f 0x7f22cc22fbe8 0x7f22cc21c166 0x5f5db9 0x5f698e 0x50b4c7 0x570e46 0x56a0ba 0x5f70bb 0x66600d 0x5f574e 0x56d5f6 0x56a0ba 0x5f6343 0x5f70f7 0x66600d 0x5f574e 0x56d5f6 0x5f6166 0x56bf09 0x56a0ba 0x5f6343 0x50b291 0x5f56c7\n",
      "tcmalloc: large alloc 9529458688 bytes == 0x1da961a000 @  0x7f24f935d680 0x7f24f937e824 0x7f24f937eb8a 0x7f22d18696b7 0x7f22cc560790 0x7f22cc56f414 0x7f22cc572287 0x7f22cc4bdf0f 0x7f22cc22fbe8 0x7f22cc21c166 0x5f5db9 0x5f698e 0x50b4c7 0x570e46 0x56a0ba 0x5f70bb 0x66600d 0x5f574e 0x56d5f6 0x56a0ba 0x5f6343 0x5f70f7 0x66600d 0x5f574e 0x56d5f6 0x5f6166 0x56bf09 0x56a0ba 0x50adf0 0x56cf2a 0x56a0ba\n"
     ]
    },
    {
     "name": "stdout",
     "output_type": "stream",
     "text": [
      "Computing cosine similarities...\n"
     ]
    },
    {
     "name": "stderr",
     "output_type": "stream",
     "text": [
      "100%|██████████| 9208/9208 [00:32<00:00, 284.96it/s]\n"
     ]
    },
    {
     "name": "stdout",
     "output_type": "stream",
     "text": [
      "trim_duplicates.remove_duplicates - Removed images: 3177 (34.5%)\n"
     ]
    },
    {
     "data": {
      "text/html": [
       "<br/>Waiting for W&B process to finish, PID 2121925... <strong style=\"color:green\">(success).</strong>"
      ],
      "text/plain": [
       "<IPython.core.display.HTML object>"
      ]
     },
     "metadata": {},
     "output_type": "display_data"
    },
    {
     "data": {
      "application/vnd.jupyter.widget-view+json": {
       "model_id": "2b53b8cabff14506a750bb3e60ecaa0e",
       "version_major": 2,
       "version_minor": 0
      },
      "text/plain": [
       "VBox(children=(Label(value=' 0.00MB of 0.00MB uploaded (0.00MB deduped)\\r'), FloatProgress(value=1.0, max=1.0)…"
      ]
     },
     "metadata": {},
     "output_type": "display_data"
    },
    {
     "data": {
      "text/html": [
       "<style>\n",
       "    table.wandb td:nth-child(1) { padding: 0 10px; text-align: right }\n",
       "    .wandb-row { display: flex; flex-direction: row; flex-wrap: wrap; width: 100% }\n",
       "    .wandb-col { display: flex; flex-direction: column; flex-basis: 100%; flex: 1; padding: 10px; }\n",
       "    </style>\n",
       "<div class=\"wandb-row\"><div class=\"wandb-col\">\n",
       "<h3>Run history:</h3><br/><table class=\"wandb\"><tr><td>test-after</td><td>▁</td></tr><tr><td>test-before</td><td>▁</td></tr><tr><td>test-duplicates</td><td>▁</td></tr><tr><td>train-after</td><td>▁</td></tr><tr><td>train-before</td><td>▁</td></tr><tr><td>train-duplicates</td><td>▁</td></tr></table><br/></div><div class=\"wandb-col\">\n",
       "<h3>Run summary:</h3><br/><table class=\"wandb\"><tr><td>test-after</td><td>1665</td></tr><tr><td>test-before</td><td>1841</td></tr><tr><td>test-duplicates</td><td>176</td></tr><tr><td>train-after</td><td>4366</td></tr><tr><td>train-before</td><td>7367</td></tr><tr><td>train-duplicates</td><td>3001</td></tr></table>\n",
       "</div></div>\n",
       "Synced 5 W&B file(s), 0 media file(s), 0 artifact file(s) and 0 other file(s)\n",
       "<br/>Synced <strong style=\"color:#cdcd00\">duprem_base_mendeley_CV_3</strong>: <a href=\"https://wandb.ai/usp-covid-xrays/xrays/runs/3r05jtdd\" target=\"_blank\">https://wandb.ai/usp-covid-xrays/xrays/runs/3r05jtdd</a><br/>\n",
       "Find logs at: <code>./wandb/run-20211019_141531-3r05jtdd/logs</code><br/>\n"
      ],
      "text/plain": [
       "<IPython.core.display.HTML object>"
      ]
     },
     "metadata": {},
     "output_type": "display_data"
    },
    {
     "data": {
      "text/html": [
       "\n",
       "                    Syncing run <strong><a href=\"https://wandb.ai/usp-covid-xrays/xrays/runs/v8nyq2c4\" target=\"_blank\">nodups_base_mendeley_CV_3</a></strong> to <a href=\"https://wandb.ai/usp-covid-xrays/xrays\" target=\"_blank\">Weights & Biases</a> (<a href=\"https://docs.wandb.com/integrations/jupyter.html\" target=\"_blank\">docs</a>).<br/>\n",
       "\n",
       "                "
      ],
      "text/plain": [
       "<IPython.core.display.HTML object>"
      ]
     },
     "metadata": {},
     "output_type": "display_data"
    },
    {
     "name": "stderr",
     "output_type": "stream",
     "text": [
      "100%|█████████████████████████████████| 34/34 [00:04<00:00,  7.04it/s, loss=2.55, acc=0.35, val_loss=1.32, val_acc=0.35]\n",
      "100%|█████████████████████████████████| 34/34 [00:04<00:00,  8.32it/s, loss=1.32, acc=0.35, val_loss=1.31, val_acc=0.35]\n",
      "100%|█████████████████████████████████| 34/34 [00:04<00:00,  8.34it/s, loss=1.31, acc=0.35, val_loss=1.30, val_acc=0.35]\n",
      "100%|█████████████████████████████████| 34/34 [00:04<00:00,  8.26it/s, loss=1.27, acc=0.40, val_loss=1.19, val_acc=0.50]\n",
      "100%|█████████████████████████████████| 34/34 [00:04<00:00,  8.25it/s, loss=1.12, acc=0.53, val_loss=1.04, val_acc=0.58]\n",
      "100%|█████████████████████████████████| 34/34 [00:04<00:00,  8.30it/s, loss=0.93, acc=0.64, val_loss=0.94, val_acc=0.62]\n",
      "100%|█████████████████████████████████| 34/34 [00:04<00:00,  8.35it/s, loss=0.85, acc=0.66, val_loss=0.83, val_acc=0.67]\n",
      "100%|█████████████████████████████████| 34/34 [00:04<00:00,  8.31it/s, loss=0.79, acc=0.68, val_loss=0.77, val_acc=0.68]\n",
      "100%|█████████████████████████████████| 34/34 [00:04<00:00,  8.40it/s, loss=0.70, acc=0.72, val_loss=0.71, val_acc=0.72]\n",
      "100%|█████████████████████████████████| 34/34 [00:04<00:00,  8.34it/s, loss=0.61, acc=0.75, val_loss=0.64, val_acc=0.73]\n",
      "100%|█████████████████████████████████| 34/34 [00:04<00:00,  8.29it/s, loss=0.55, acc=0.78, val_loss=0.58, val_acc=0.76]\n",
      "100%|█████████████████████████████████| 34/34 [00:04<00:00,  8.33it/s, loss=0.52, acc=0.79, val_loss=0.57, val_acc=0.77]\n",
      "100%|█████████████████████████████████| 34/34 [00:04<00:00,  7.29it/s, loss=0.52, acc=0.80, val_loss=0.54, val_acc=0.78]\n",
      "100%|█████████████████████████████████| 34/34 [00:04<00:00,  7.91it/s, loss=0.48, acc=0.81, val_loss=0.53, val_acc=0.79]\n",
      "100%|█████████████████████████████████| 34/34 [00:04<00:00,  7.75it/s, loss=0.46, acc=0.81, val_loss=0.51, val_acc=0.79]\n",
      "100%|█████████████████████████████████| 34/34 [00:04<00:00,  7.87it/s, loss=0.45, acc=0.81, val_loss=0.50, val_acc=0.80]\n",
      "100%|█████████████████████████████████| 34/34 [00:04<00:00,  8.32it/s, loss=0.44, acc=0.82, val_loss=0.47, val_acc=0.81]\n",
      "100%|█████████████████████████████████| 34/34 [00:04<00:00,  8.42it/s, loss=0.43, acc=0.82, val_loss=0.50, val_acc=0.80]\n",
      "100%|█████████████████████████████████| 34/34 [00:04<00:00,  7.72it/s, loss=0.42, acc=0.82, val_loss=0.51, val_acc=0.79]\n",
      "100%|█████████████████████████████████| 34/34 [00:03<00:00,  8.86it/s, loss=0.43, acc=0.82, val_loss=0.53, val_acc=0.79]\n",
      "100%|█████████████████████████████████| 34/34 [00:04<00:00,  7.91it/s, loss=0.42, acc=0.83, val_loss=0.51, val_acc=0.80]\n",
      "100%|█████████████████████████████████| 34/34 [00:04<00:00,  7.75it/s, loss=0.41, acc=0.83, val_loss=0.53, val_acc=0.79]\n",
      "100%|█████████████████████████████████| 34/34 [00:04<00:00,  7.79it/s, loss=0.39, acc=0.84, val_loss=0.53, val_acc=0.80]\n",
      "100%|█████████████████████████████████| 34/34 [00:04<00:00,  7.74it/s, loss=0.38, acc=0.84, val_loss=0.50, val_acc=0.81]\n",
      "100%|█████████████████████████████████| 34/34 [00:04<00:00,  7.79it/s, loss=0.36, acc=0.85, val_loss=0.53, val_acc=0.80]\n",
      "100%|█████████████████████████████████| 34/34 [00:04<00:00,  7.67it/s, loss=0.36, acc=0.84, val_loss=0.50, val_acc=0.80]\n",
      "100%|█████████████████████████████████| 34/34 [00:05<00:00,  6.13it/s, loss=0.36, acc=0.85, val_loss=0.53, val_acc=0.81]\n",
      "100%|█████████████████████████████████| 34/34 [00:04<00:00,  7.60it/s, loss=0.35, acc=0.85, val_loss=0.54, val_acc=0.81]\n",
      "100%|█████████████████████████████████| 34/34 [00:04<00:00,  7.30it/s, loss=0.33, acc=0.86, val_loss=0.53, val_acc=0.81]\n",
      "100%|█████████████████████████████████| 34/34 [00:04<00:00,  7.61it/s, loss=0.30, acc=0.87, val_loss=0.51, val_acc=0.82]\n"
     ]
    },
    {
     "name": "stdout",
     "output_type": "stream",
     "text": [
      "Model saved to models/nodups_base_mendeley_CV3.pickle\n"
     ]
    },
    {
     "data": {
      "text/html": [
       "<br/>Waiting for W&B process to finish, PID 2124337... <strong style=\"color:green\">(success).</strong>"
      ],
      "text/plain": [
       "<IPython.core.display.HTML object>"
      ]
     },
     "metadata": {},
     "output_type": "display_data"
    },
    {
     "data": {
      "application/vnd.jupyter.widget-view+json": {
       "model_id": "83b8b8b7a76547b2bf5968a5feafe207",
       "version_major": 2,
       "version_minor": 0
      },
      "text/plain": [
       "VBox(children=(Label(value=' 0.04MB of 0.04MB uploaded (0.00MB deduped)\\r'), FloatProgress(value=1.0, max=1.0)…"
      ]
     },
     "metadata": {},
     "output_type": "display_data"
    },
    {
     "data": {
      "text/html": [
       "<style>\n",
       "    table.wandb td:nth-child(1) { padding: 0 10px; text-align: right }\n",
       "    .wandb-row { display: flex; flex-direction: row; flex-wrap: wrap; width: 100% }\n",
       "    .wandb-col { display: flex; flex-direction: column; flex-basis: 100%; flex: 1; padding: 10px; }\n",
       "    </style>\n",
       "<div class=\"wandb-row\"><div class=\"wandb-col\">\n",
       "<h3>Run history:</h3><br/><table class=\"wandb\"><tr><td>acc</td><td>▃▂▁▁▁▂▃▄▄▅▆▄▆▇▆▆▇▇▇▆▇▆▇▇▇▇▆▆▆▇▇▇▇▇█▇▇▇██</td></tr><tr><td>loss</td><td>█▃▃▃▃▃▃▂▂▂▂▂▂▂▂▂▂▁▁▂▁▂▁▁▁▁▂▂▁▁▁▁▁▁▁▁▁▁▁▁</td></tr><tr><td>val_acc</td><td>▁▁▁▃▅▅▆▆▆▇▇▇██████████████████</td></tr><tr><td>val_loss</td><td>███▇▆▅▄▃▃▂▂▂▂▁▁▁▁▁▁▁▁▁▁▁▁▁▁▂▁▁</td></tr></table><br/></div><div class=\"wandb-col\">\n",
       "<h3>Run summary:</h3><br/><table class=\"wandb\"><tr><td>acc</td><td>0.83594</td></tr><tr><td>loss</td><td>0.36891</td></tr><tr><td>val_acc</td><td>0.8155</td></tr><tr><td>val_loss</td><td>0.51056</td></tr></table>\n",
       "</div></div>\n",
       "Synced 5 W&B file(s), 30 media file(s), 30 artifact file(s) and 1 other file(s)\n",
       "<br/>Synced <strong style=\"color:#cdcd00\">nodups_base_mendeley_CV_3</strong>: <a href=\"https://wandb.ai/usp-covid-xrays/xrays/runs/v8nyq2c4\" target=\"_blank\">https://wandb.ai/usp-covid-xrays/xrays/runs/v8nyq2c4</a><br/>\n",
       "Find logs at: <code>./wandb/run-20211019_141732-v8nyq2c4/logs</code><br/>\n"
      ],
      "text/plain": [
       "<IPython.core.display.HTML object>"
      ]
     },
     "metadata": {},
     "output_type": "display_data"
    },
    {
     "data": {
      "text/html": [
       "\n",
       "                    Syncing run <strong><a href=\"https://wandb.ai/usp-covid-xrays/xrays/runs/3keua5y6\" target=\"_blank\">base_mendeley_CV_4</a></strong> to <a href=\"https://wandb.ai/usp-covid-xrays/xrays\" target=\"_blank\">Weights & Biases</a> (<a href=\"https://docs.wandb.com/integrations/jupyter.html\" target=\"_blank\">docs</a>).<br/>\n",
       "\n",
       "                "
      ],
      "text/plain": [
       "<IPython.core.display.HTML object>"
      ]
     },
     "metadata": {},
     "output_type": "display_data"
    },
    {
     "name": "stderr",
     "output_type": "stream",
     "text": [
      "100%|█████████████████████████████████| 57/57 [00:06<00:00,  8.64it/s, loss=2.11, acc=0.35, val_loss=1.28, val_acc=0.36]\n",
      "100%|█████████████████████████████████| 57/57 [00:06<00:00,  8.75it/s, loss=1.31, acc=0.35, val_loss=1.28, val_acc=0.38]\n",
      "100%|█████████████████████████████████| 57/57 [00:06<00:00,  8.74it/s, loss=1.30, acc=0.36, val_loss=1.28, val_acc=0.38]\n",
      "100%|█████████████████████████████████| 57/57 [00:06<00:00,  8.77it/s, loss=1.29, acc=0.40, val_loss=1.22, val_acc=0.49]\n",
      "100%|█████████████████████████████████| 57/57 [00:06<00:00,  8.75it/s, loss=1.21, acc=0.50, val_loss=1.15, val_acc=0.55]\n",
      "100%|█████████████████████████████████| 57/57 [00:05<00:00,  9.77it/s, loss=1.12, acc=0.56, val_loss=1.07, val_acc=0.59]\n",
      "100%|█████████████████████████████████| 57/57 [00:06<00:00,  8.52it/s, loss=1.00, acc=0.61, val_loss=0.95, val_acc=0.61]\n",
      "100%|█████████████████████████████████| 57/57 [00:09<00:00,  6.05it/s, loss=0.82, acc=0.67, val_loss=0.76, val_acc=0.69]\n",
      "100%|█████████████████████████████████| 57/57 [00:06<00:00,  8.92it/s, loss=0.66, acc=0.73, val_loss=0.59, val_acc=0.75]\n",
      "100%|█████████████████████████████████| 57/57 [00:06<00:00,  9.03it/s, loss=0.56, acc=0.77, val_loss=0.58, val_acc=0.75]\n",
      "100%|█████████████████████████████████| 57/57 [00:05<00:00,  9.93it/s, loss=0.51, acc=0.78, val_loss=0.51, val_acc=0.78]\n",
      "100%|█████████████████████████████████| 57/57 [00:06<00:00,  8.86it/s, loss=0.49, acc=0.79, val_loss=0.49, val_acc=0.79]\n",
      "100%|█████████████████████████████████| 57/57 [00:06<00:00,  8.64it/s, loss=0.47, acc=0.80, val_loss=0.49, val_acc=0.80]\n",
      "100%|█████████████████████████████████| 57/57 [00:06<00:00,  9.37it/s, loss=0.45, acc=0.81, val_loss=0.48, val_acc=0.80]\n",
      "100%|█████████████████████████████████| 57/57 [00:06<00:00,  8.56it/s, loss=0.44, acc=0.81, val_loss=0.47, val_acc=0.81]\n",
      "100%|█████████████████████████████████| 57/57 [00:06<00:00,  8.84it/s, loss=0.42, acc=0.82, val_loss=0.44, val_acc=0.81]\n",
      "100%|█████████████████████████████████| 57/57 [00:06<00:00,  8.80it/s, loss=0.40, acc=0.83, val_loss=0.43, val_acc=0.82]\n",
      "100%|█████████████████████████████████| 57/57 [00:06<00:00,  8.73it/s, loss=0.39, acc=0.84, val_loss=0.43, val_acc=0.83]\n",
      "100%|█████████████████████████████████| 57/57 [00:06<00:00,  9.05it/s, loss=0.38, acc=0.84, val_loss=0.43, val_acc=0.83]\n",
      "100%|█████████████████████████████████| 57/57 [00:06<00:00,  8.89it/s, loss=0.36, acc=0.85, val_loss=0.41, val_acc=0.83]\n",
      "100%|█████████████████████████████████| 57/57 [00:06<00:00,  9.20it/s, loss=0.34, acc=0.86, val_loss=0.41, val_acc=0.83]\n",
      "100%|█████████████████████████████████| 57/57 [00:06<00:00,  8.51it/s, loss=0.33, acc=0.87, val_loss=0.40, val_acc=0.84]\n",
      "100%|█████████████████████████████████| 57/57 [00:06<00:00,  8.63it/s, loss=0.31, acc=0.87, val_loss=0.39, val_acc=0.84]\n",
      "100%|█████████████████████████████████| 57/57 [00:06<00:00,  8.78it/s, loss=0.30, acc=0.88, val_loss=0.40, val_acc=0.84]\n",
      "100%|█████████████████████████████████| 57/57 [00:06<00:00,  8.47it/s, loss=0.28, acc=0.88, val_loss=0.40, val_acc=0.83]\n",
      "100%|█████████████████████████████████| 57/57 [00:06<00:00,  8.32it/s, loss=0.27, acc=0.89, val_loss=0.40, val_acc=0.84]\n",
      "100%|█████████████████████████████████| 57/57 [00:06<00:00,  8.80it/s, loss=0.26, acc=0.89, val_loss=0.39, val_acc=0.84]\n",
      "100%|█████████████████████████████████| 57/57 [00:06<00:00,  8.68it/s, loss=0.25, acc=0.90, val_loss=0.39, val_acc=0.84]\n",
      "100%|█████████████████████████████████| 57/57 [00:06<00:00,  9.07it/s, loss=0.24, acc=0.90, val_loss=0.39, val_acc=0.84]\n",
      "100%|█████████████████████████████████| 57/57 [00:06<00:00,  9.31it/s, loss=0.24, acc=0.91, val_loss=0.39, val_acc=0.84]\n"
     ]
    },
    {
     "name": "stdout",
     "output_type": "stream",
     "text": [
      "Model saved to models/base_mendeley_CV4.pickle\n"
     ]
    },
    {
     "data": {
      "text/html": [
       "<br/>Waiting for W&B process to finish, PID 2125283... <strong style=\"color:green\">(success).</strong>"
      ],
      "text/plain": [
       "<IPython.core.display.HTML object>"
      ]
     },
     "metadata": {},
     "output_type": "display_data"
    },
    {
     "data": {
      "application/vnd.jupyter.widget-view+json": {
       "model_id": "1b8ba5e7296b43f3b5b0c73656c98823",
       "version_major": 2,
       "version_minor": 0
      },
      "text/plain": [
       "VBox(children=(Label(value=' 0.04MB of 0.04MB uploaded (0.00MB deduped)\\r'), FloatProgress(value=1.0, max=1.0)…"
      ]
     },
     "metadata": {},
     "output_type": "display_data"
    },
    {
     "data": {
      "text/html": [
       "<style>\n",
       "    table.wandb td:nth-child(1) { padding: 0 10px; text-align: right }\n",
       "    .wandb-row { display: flex; flex-direction: row; flex-wrap: wrap; width: 100% }\n",
       "    .wandb-col { display: flex; flex-direction: column; flex-basis: 100%; flex: 1; padding: 10px; }\n",
       "    </style>\n",
       "<div class=\"wandb-row\"><div class=\"wandb-col\">\n",
       "<h3>Run history:</h3><br/><table class=\"wandb\"><tr><td>acc</td><td>▁▁▁▁▂▃▄▂▄▄▆▆▆▇▇▇▇▇▇▇▇▇▇▇▇▇▇█▇▇████▇██▇██</td></tr><tr><td>loss</td><td>█████▇▇▇▆▆▅▄▃▃▃▃▂▂▃▃▂▂▂▂▂▂▂▁▂▂▁▂▂▂▂▁▁▂▁▁</td></tr><tr><td>val_acc</td><td>▁▁▁▃▄▄▅▆▇▇▇▇▇▇████████████████</td></tr><tr><td>val_loss</td><td>████▇▆▅▄▃▃▂▂▂▂▂▁▁▁▁▁▁▁▁▁▁▁▁▁▁▁</td></tr></table><br/></div><div class=\"wandb-col\">\n",
       "<h3>Run summary:</h3><br/><table class=\"wandb\"><tr><td>acc</td><td>0.94531</td></tr><tr><td>loss</td><td>0.20292</td></tr><tr><td>val_acc</td><td>0.84152</td></tr><tr><td>val_loss</td><td>0.38745</td></tr></table>\n",
       "</div></div>\n",
       "Synced 5 W&B file(s), 30 media file(s), 30 artifact file(s) and 1 other file(s)\n",
       "<br/>Synced <strong style=\"color:#cdcd00\">base_mendeley_CV_4</strong>: <a href=\"https://wandb.ai/usp-covid-xrays/xrays/runs/3keua5y6\" target=\"_blank\">https://wandb.ai/usp-covid-xrays/xrays/runs/3keua5y6</a><br/>\n",
       "Find logs at: <code>./wandb/run-20211019_142011-3keua5y6/logs</code><br/>\n"
      ],
      "text/plain": [
       "<IPython.core.display.HTML object>"
      ]
     },
     "metadata": {},
     "output_type": "display_data"
    },
    {
     "data": {
      "text/html": [
       "\n",
       "                    Syncing run <strong><a href=\"https://wandb.ai/usp-covid-xrays/xrays/runs/t9qxxcco\" target=\"_blank\">duprem_base_mendeley_CV_4</a></strong> to <a href=\"https://wandb.ai/usp-covid-xrays/xrays\" target=\"_blank\">Weights & Biases</a> (<a href=\"https://docs.wandb.com/integrations/jupyter.html\" target=\"_blank\">docs</a>).<br/>\n",
       "\n",
       "                "
      ],
      "text/plain": [
       "<IPython.core.display.HTML object>"
      ]
     },
     "metadata": {},
     "output_type": "display_data"
    },
    {
     "name": "stdout",
     "output_type": "stream",
     "text": [
      "Calculating embeddings...\n"
     ]
    },
    {
     "name": "stderr",
     "output_type": "stream",
     "text": [
      "100%|███████████████████████████████████████████████████████████████████████████████████| 71/71 [00:29<00:00,  2.41it/s]\n",
      "tcmalloc: large alloc 9529458688 bytes == 0x1da961a000 @  0x7f24f935d680 0x7f24f937e824 0x7f24f937eb8a 0x7f22d18696b7 0x7f22cc560790 0x7f22cc56f414 0x7f22cc572287 0x7f22cc4bdf0f 0x7f22cc22fbe8 0x7f22cc21c166 0x5f5db9 0x5f698e 0x50b4c7 0x570e46 0x56a0ba 0x5f70bb 0x66600d 0x5f574e 0x56d5f6 0x56a0ba 0x5f6343 0x5f70f7 0x66600d 0x5f574e 0x56d5f6 0x5f6166 0x56bf09 0x56a0ba 0x5f6343 0x50b291 0x5f56c7\n",
      "tcmalloc: large alloc 9529458688 bytes == 0x14cfc1a000 @  0x7f24f935d680 0x7f24f937e824 0x7f24f937eb8a 0x7f22d18696b7 0x7f22cc560790 0x7f22cc56f414 0x7f22cc572287 0x7f22cc4bdf0f 0x7f22cc22fbe8 0x7f22cc21c166 0x5f5db9 0x5f698e 0x50b4c7 0x570e46 0x56a0ba 0x5f70bb 0x66600d 0x5f574e 0x56d5f6 0x56a0ba 0x5f6343 0x5f70f7 0x66600d 0x5f574e 0x56d5f6 0x5f6166 0x56bf09 0x56a0ba 0x50adf0 0x56cf2a 0x56a0ba\n"
     ]
    },
    {
     "name": "stdout",
     "output_type": "stream",
     "text": [
      "Computing cosine similarities...\n"
     ]
    },
    {
     "name": "stderr",
     "output_type": "stream",
     "text": [
      "100%|██████████| 9208/9208 [00:33<00:00, 277.86it/s]\n"
     ]
    },
    {
     "name": "stdout",
     "output_type": "stream",
     "text": [
      "trim_duplicates.remove_duplicates - Removed images: 3110 (33.8%)\n"
     ]
    },
    {
     "data": {
      "text/html": [
       "<br/>Waiting for W&B process to finish, PID 2126749... <strong style=\"color:green\">(success).</strong>"
      ],
      "text/plain": [
       "<IPython.core.display.HTML object>"
      ]
     },
     "metadata": {},
     "output_type": "display_data"
    },
    {
     "data": {
      "application/vnd.jupyter.widget-view+json": {
       "model_id": "a3ae9bcf2a044a24ae461d1a0f352d55",
       "version_major": 2,
       "version_minor": 0
      },
      "text/plain": [
       "VBox(children=(Label(value=' 0.00MB of 0.00MB uploaded (0.00MB deduped)\\r'), FloatProgress(value=1.0, max=1.0)…"
      ]
     },
     "metadata": {},
     "output_type": "display_data"
    },
    {
     "data": {
      "text/html": [
       "<style>\n",
       "    table.wandb td:nth-child(1) { padding: 0 10px; text-align: right }\n",
       "    .wandb-row { display: flex; flex-direction: row; flex-wrap: wrap; width: 100% }\n",
       "    .wandb-col { display: flex; flex-direction: column; flex-basis: 100%; flex: 1; padding: 10px; }\n",
       "    </style>\n",
       "<div class=\"wandb-row\"><div class=\"wandb-col\">\n",
       "<h3>Run history:</h3><br/><table class=\"wandb\"><tr><td>test-after</td><td>▁</td></tr><tr><td>test-before</td><td>▁</td></tr><tr><td>test-duplicates</td><td>▁</td></tr><tr><td>train-after</td><td>▁</td></tr><tr><td>train-before</td><td>▁</td></tr><tr><td>train-duplicates</td><td>▁</td></tr></table><br/></div><div class=\"wandb-col\">\n",
       "<h3>Run summary:</h3><br/><table class=\"wandb\"><tr><td>test-after</td><td>1671</td></tr><tr><td>test-before</td><td>1841</td></tr><tr><td>test-duplicates</td><td>170</td></tr><tr><td>train-after</td><td>4427</td></tr><tr><td>train-before</td><td>7367</td></tr><tr><td>train-duplicates</td><td>2940</td></tr></table>\n",
       "</div></div>\n",
       "Synced 5 W&B file(s), 0 media file(s), 0 artifact file(s) and 0 other file(s)\n",
       "<br/>Synced <strong style=\"color:#cdcd00\">duprem_base_mendeley_CV_4</strong>: <a href=\"https://wandb.ai/usp-covid-xrays/xrays/runs/t9qxxcco\" target=\"_blank\">https://wandb.ai/usp-covid-xrays/xrays/runs/t9qxxcco</a><br/>\n",
       "Find logs at: <code>./wandb/run-20211019_142412-t9qxxcco/logs</code><br/>\n"
      ],
      "text/plain": [
       "<IPython.core.display.HTML object>"
      ]
     },
     "metadata": {},
     "output_type": "display_data"
    },
    {
     "data": {
      "text/html": [
       "\n",
       "                    Syncing run <strong><a href=\"https://wandb.ai/usp-covid-xrays/xrays/runs/2p8t8u9h\" target=\"_blank\">nodups_base_mendeley_CV_4</a></strong> to <a href=\"https://wandb.ai/usp-covid-xrays/xrays\" target=\"_blank\">Weights & Biases</a> (<a href=\"https://docs.wandb.com/integrations/jupyter.html\" target=\"_blank\">docs</a>).<br/>\n",
       "\n",
       "                "
      ],
      "text/plain": [
       "<IPython.core.display.HTML object>"
      ]
     },
     "metadata": {},
     "output_type": "display_data"
    },
    {
     "name": "stderr",
     "output_type": "stream",
     "text": [
      "100%|█████████████████████████████████| 34/34 [00:04<00:00,  7.44it/s, loss=2.58, acc=0.35, val_loss=1.30, val_acc=0.37]\n",
      "100%|█████████████████████████████████| 34/34 [00:04<00:00,  8.05it/s, loss=1.31, acc=0.35, val_loss=1.29, val_acc=0.40]\n",
      "100%|█████████████████████████████████| 34/34 [00:04<00:00,  8.14it/s, loss=1.29, acc=0.39, val_loss=1.27, val_acc=0.42]\n",
      "100%|█████████████████████████████████| 34/34 [00:04<00:00,  8.00it/s, loss=1.27, acc=0.40, val_loss=1.25, val_acc=0.46]\n",
      "100%|█████████████████████████████████| 34/34 [00:04<00:00,  7.97it/s, loss=1.20, acc=0.48, val_loss=1.09, val_acc=0.57]\n",
      "100%|█████████████████████████████████| 34/34 [00:04<00:00,  6.96it/s, loss=1.09, acc=0.55, val_loss=1.04, val_acc=0.59]\n",
      "100%|█████████████████████████████████| 34/34 [00:04<00:00,  8.21it/s, loss=0.96, acc=0.63, val_loss=0.87, val_acc=0.65]\n",
      "100%|█████████████████████████████████| 34/34 [00:05<00:00,  5.89it/s, loss=0.81, acc=0.69, val_loss=0.73, val_acc=0.70]\n",
      "100%|█████████████████████████████████| 34/34 [00:04<00:00,  8.21it/s, loss=0.71, acc=0.72, val_loss=0.73, val_acc=0.69]\n",
      "100%|█████████████████████████████████| 34/34 [00:04<00:00,  7.61it/s, loss=0.67, acc=0.73, val_loss=0.63, val_acc=0.72]\n",
      "100%|█████████████████████████████████| 34/34 [00:04<00:00,  8.26it/s, loss=0.62, acc=0.75, val_loss=0.59, val_acc=0.73]\n",
      "100%|█████████████████████████████████| 34/34 [00:03<00:00,  8.65it/s, loss=0.60, acc=0.76, val_loss=0.57, val_acc=0.74]\n",
      "100%|█████████████████████████████████| 34/34 [00:03<00:00,  8.58it/s, loss=0.58, acc=0.76, val_loss=0.58, val_acc=0.74]\n",
      "100%|█████████████████████████████████| 34/34 [00:03<00:00,  8.62it/s, loss=0.57, acc=0.76, val_loss=0.54, val_acc=0.76]\n",
      "100%|█████████████████████████████████| 34/34 [00:04<00:00,  8.36it/s, loss=0.54, acc=0.78, val_loss=0.55, val_acc=0.76]\n",
      "100%|█████████████████████████████████| 34/34 [00:04<00:00,  8.21it/s, loss=0.52, acc=0.79, val_loss=0.50, val_acc=0.80]\n",
      "100%|█████████████████████████████████| 34/34 [00:04<00:00,  8.46it/s, loss=0.50, acc=0.79, val_loss=0.51, val_acc=0.79]\n",
      "100%|█████████████████████████████████| 34/34 [00:04<00:00,  8.20it/s, loss=0.49, acc=0.80, val_loss=0.48, val_acc=0.80]\n",
      "100%|█████████████████████████████████| 34/34 [00:04<00:00,  8.33it/s, loss=0.48, acc=0.80, val_loss=0.47, val_acc=0.81]\n",
      "100%|█████████████████████████████████| 34/34 [00:03<00:00,  8.75it/s, loss=0.45, acc=0.81, val_loss=0.46, val_acc=0.81]\n",
      "100%|█████████████████████████████████| 34/34 [00:03<00:00,  8.72it/s, loss=0.44, acc=0.81, val_loss=0.47, val_acc=0.80]\n",
      "100%|█████████████████████████████████| 34/34 [00:03<00:00,  8.64it/s, loss=0.43, acc=0.82, val_loss=0.48, val_acc=0.82]\n",
      "100%|█████████████████████████████████| 34/34 [00:04<00:00,  8.22it/s, loss=0.40, acc=0.83, val_loss=0.46, val_acc=0.82]\n",
      "100%|█████████████████████████████████| 34/34 [00:04<00:00,  8.39it/s, loss=0.39, acc=0.83, val_loss=0.47, val_acc=0.81]\n",
      "100%|█████████████████████████████████| 34/34 [00:03<00:00,  8.66it/s, loss=0.38, acc=0.83, val_loss=0.45, val_acc=0.81]\n",
      "100%|█████████████████████████████████| 34/34 [00:04<00:00,  7.92it/s, loss=0.37, acc=0.84, val_loss=0.44, val_acc=0.81]\n",
      "100%|█████████████████████████████████| 34/34 [00:04<00:00,  8.40it/s, loss=0.35, acc=0.85, val_loss=0.44, val_acc=0.82]\n",
      "100%|█████████████████████████████████| 34/34 [00:04<00:00,  8.24it/s, loss=0.34, acc=0.85, val_loss=0.43, val_acc=0.83]\n",
      "100%|█████████████████████████████████| 34/34 [00:04<00:00,  8.15it/s, loss=0.32, acc=0.86, val_loss=0.44, val_acc=0.83]\n",
      "100%|█████████████████████████████████| 34/34 [00:04<00:00,  8.38it/s, loss=0.31, acc=0.87, val_loss=0.45, val_acc=0.82]\n"
     ]
    },
    {
     "name": "stdout",
     "output_type": "stream",
     "text": [
      "Model saved to models/nodups_base_mendeley_CV4.pickle\n"
     ]
    },
    {
     "data": {
      "text/html": [
       "<br/>Waiting for W&B process to finish, PID 2128395... <strong style=\"color:green\">(success).</strong>"
      ],
      "text/plain": [
       "<IPython.core.display.HTML object>"
      ]
     },
     "metadata": {},
     "output_type": "display_data"
    },
    {
     "data": {
      "application/vnd.jupyter.widget-view+json": {
       "model_id": "edddcf331d8744318b56e426c6836f24",
       "version_major": 2,
       "version_minor": 0
      },
      "text/plain": [
       "VBox(children=(Label(value=' 0.04MB of 0.04MB uploaded (0.00MB deduped)\\r'), FloatProgress(value=1.0, max=1.0)…"
      ]
     },
     "metadata": {},
     "output_type": "display_data"
    },
    {
     "data": {
      "text/html": [
       "<style>\n",
       "    table.wandb td:nth-child(1) { padding: 0 10px; text-align: right }\n",
       "    .wandb-row { display: flex; flex-direction: row; flex-wrap: wrap; width: 100% }\n",
       "    .wandb-col { display: flex; flex-direction: column; flex-basis: 100%; flex: 1; padding: 10px; }\n",
       "    </style>\n",
       "<div class=\"wandb-row\"><div class=\"wandb-col\">\n",
       "<h3>Run history:</h3><br/><table class=\"wandb\"><tr><td>acc</td><td>▃▁▁▃▂▂▃▃▅▄▆▆▆▇▇▇▆▇▇▆▇▆▇▇▇▇▆█▆███▇▇▇███▇▇</td></tr><tr><td>loss</td><td>█▄▄▄▄▄▄▄▃▃▂▂▂▂▂▂▂▂▂▂▂▂▂▂▁▂▂▁▂▁▁▁▁▁▁▁▁▁▁▁</td></tr><tr><td>val_acc</td><td>▁▁▂▂▄▄▅▆▆▆▆▇▇▇▇▇▇█████████████</td></tr><tr><td>val_loss</td><td>████▆▆▅▃▃▃▂▂▂▂▂▂▂▁▁▁▁▁▁▁▁▁▁▁▁▁</td></tr></table><br/></div><div class=\"wandb-col\">\n",
       "<h3>Run summary:</h3><br/><table class=\"wandb\"><tr><td>acc</td><td>0.83594</td></tr><tr><td>loss</td><td>0.39764</td></tr><tr><td>val_acc</td><td>0.82212</td></tr><tr><td>val_loss</td><td>0.44632</td></tr></table>\n",
       "</div></div>\n",
       "Synced 5 W&B file(s), 30 media file(s), 30 artifact file(s) and 1 other file(s)\n",
       "<br/>Synced <strong style=\"color:#cdcd00\">nodups_base_mendeley_CV_4</strong>: <a href=\"https://wandb.ai/usp-covid-xrays/xrays/runs/2p8t8u9h\" target=\"_blank\">https://wandb.ai/usp-covid-xrays/xrays/runs/2p8t8u9h</a><br/>\n",
       "Find logs at: <code>./wandb/run-20211019_142607-2p8t8u9h/logs</code><br/>\n"
      ],
      "text/plain": [
       "<IPython.core.display.HTML object>"
      ]
     },
     "metadata": {},
     "output_type": "display_data"
    }
   ],
   "source": [
    "dup_thresholds = {\n",
    "    'mendeley': 0.99,\n",
    "    'tawsifur': 0.998\n",
    "}\n",
    "\n",
    "five_fold_cross_validation(\"base_mendeley\", dataset_mendeley, basemodel_process,\n",
    "                            dup_thresh=dup_thresholds['mendeley'], num_epochs=30)\n",
    "#five_fold_cross_validation(\"base_tawsifur\", dataset_tawsifur, basemodel_process,\n",
    "#                            dup_thresh=dup_thresholds['tawsifur'], num_epochs=30)"
   ]
  },
  {
   "cell_type": "code",
   "execution_count": null,
   "metadata": {},
   "outputs": [],
   "source": [
    "basemodel_tawsifur = model.train_model(model_name + \"CV\" + str(i), net_container, process_fn, cv_dataset)\n",
    "sims = trim_duplicates.compute_similarities(dataset_tawsifur, net_container, basemodel_tawsifur)"
   ]
  },
  {
   "cell_type": "code",
   "execution_count": null,
   "metadata": {},
   "outputs": [],
   "source": [
    "thresh = 0.998\n",
    "max_sims = sims.max(axis=1) - thresh\n",
    "y_classes = dataset_tawsifur.y_all[:sims.shape[0]].argmax(1)\n",
    "max_sims_index = sims.argmax(axis=1)\n",
    "mask = (max_sims >= 0) & (max_sims <= 0.0005)\n",
    "indices = np.where(mask)[0]\n",
    "plots.compare_images(dataset_tawsifur.x_all[indices], dataset_tawsifur.x_all[max_sims_index[indices]], rows=10)\n",
    "#trim_duplicates.plot_similarities(dataset_tawsifur, sims, threshold=0.99)"
   ]
  },
  {
   "cell_type": "code",
   "execution_count": null,
   "metadata": {},
   "outputs": [],
   "source": [
    "trim_duplicates.plot_similarities(dataset_tawsifur, sims, threshold=thresh)\n",
    "dataset_tawsifur_curated = trim_duplicates.remove_duplicates(dataset_tawsifur, sims, threshold=thresh)"
   ]
  },
  {
   "cell_type": "code",
   "execution_count": null,
   "metadata": {},
   "outputs": [],
   "source": [
    "print(dataset_tawsifur_curated.x_train.shape, dataset_tawsifur.x_train.shape)"
   ]
  },
  {
   "cell_type": "code",
   "execution_count": null,
   "metadata": {},
   "outputs": [],
   "source": [
    "basemodel_tawsifur_curated = model.train_model(\"basemodel_tawsifur_curated\", net_container, basemodel_process, dataset_tawsifur_curated)\n",
    "y_pred_tawsifur_curated = net_container.predict(basemodel_tawsifur_curated.params, basemodel_tawsifur_curated.state, dataset_tawsifur_curated.x_test)\n",
    "plots.confusion_matrix(dataset_tawsifur_curated, y_pred_tawsifur_curated, \"Tawsifur - Curated\")"
   ]
  },
  {
   "cell_type": "markdown",
   "metadata": {},
   "source": [
    "# Transfer learning test"
   ]
  },
  {
   "cell_type": "code",
   "execution_count": null,
   "metadata": {},
   "outputs": [],
   "source": [
    "rng = jax.random.PRNGKey(SEED)\n",
    "dataset_mendeley = Dataset.load(\"mendeley\", rng=rng)\n",
    "\n",
    "net, optim = model.init_net_and_optim(dataset_mendeley.x_train, NUM_CLASSES, BATCH_SIZE)\n",
    "\n",
    "# Gets functions for the model\n",
    "net_container = network.create(net, optim, BATCH_SIZE, shape = (10, 256, 256, 3))"
   ]
  },
  {
   "cell_type": "code",
   "execution_count": null,
   "metadata": {},
   "outputs": [],
   "source": [
    "# Test of tawsifur on mendeley\n",
    "\n",
    "basemodel_tawsifur = model.train_model(\"basemodel_tawsifurCV0\", net_container, basemodel_process, dataset_mendeley)\n",
    "y_test_pred = net_container.predict(basemodel_tawsifur.params, basemodel_tawsifur.state, dataset_mendeley.x_test)\n",
    "matrix = sklearn.metrics.confusion_matrix(\n",
    "        dataset_mendeley.y_test[0:y_test_pred.shape[0],].argmax(1),\n",
    "        y_test_pred.argmax(1), normalize = 'true'\n",
    "    )\n",
    "plots.heatmatrix(matrix, \"Transfer learning from tawsifur to mendeley\")"
   ]
  }
 ],
 "metadata": {
  "interpreter": {
   "hash": "916dbcbb3f70747c44a77c7bcd40155683ae19c65e1c03b4aa3499c5328201f1"
  },
  "kernelspec": {
   "display_name": "Python 3.8.10 64-bit",
   "name": "python3"
  },
  "language_info": {
   "codemirror_mode": {
    "name": "ipython",
    "version": 3
   },
   "file_extension": ".py",
   "mimetype": "text/x-python",
   "name": "python",
   "nbconvert_exporter": "python",
   "pygments_lexer": "ipython3",
   "version": "3.8.10"
  }
 },
 "nbformat": 4,
 "nbformat_minor": 4
}
