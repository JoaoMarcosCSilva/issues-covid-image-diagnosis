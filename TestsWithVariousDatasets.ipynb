{
 "cells": [
  {
   "cell_type": "code",
   "execution_count": null,
   "source": [
    "# Starts the autoreload extension, which allows editing the .py files with the notebook running and automatically imports the latest changes\n",
    "\n",
    "%load_ext autoreload\n",
    "%autoreload 2\n",
    "\n",
    "import trim_duplicates, model, network, utils, gradcam, plots\n",
    "from dataset import Dataset\n",
    "import haiku as hk\n",
    "import jax.numpy as jnp\n",
    "import numpy as np\n",
    "import jax"
   ],
   "outputs": [],
   "metadata": {}
  },
  {
   "cell_type": "code",
   "execution_count": null,
   "source": [
    "assert jax.local_device_count() >= 8"
   ],
   "outputs": [],
   "metadata": {}
  },
  {
   "cell_type": "code",
   "execution_count": null,
   "source": [
    "NUM_CLASSES = 4\n",
    "SEED = 12\n",
    "BATCH_SIZE = 128"
   ],
   "outputs": [],
   "metadata": {}
  },
  {
   "cell_type": "code",
   "execution_count": null,
   "source": [
    "rng = jax.random.PRNGKey(SEED)\n",
    "dataset_tawsifur = Dataset.load(\"tawsifur_kaggle\", rng=rng)"
   ],
   "outputs": [],
   "metadata": {}
  },
  {
   "cell_type": "code",
   "execution_count": null,
   "source": [
    "net, optim = model.init_net_and_optim(dataset_tawsifur.x_train, NUM_CLASSES, BATCH_SIZE)\n",
    "\n",
    "# Gets functions for the model\n",
    "net_container = network.create(net, optim, BATCH_SIZE, shape = (10, 256, 256, 3))"
   ],
   "outputs": [],
   "metadata": {}
  },
  {
   "cell_type": "code",
   "execution_count": null,
   "source": [
    "def basemodel_process(x): return x\n",
    "basemodel_tawsifur = model.train_model(\"basemodel_tawsifur\", net_container, basemodel_process, dataset_tawsifur)\n",
    "y_test_pred_tawsifur = net_container.predict(basemodel_tawsifur.params, basemodel_tawsifur.state, dataset_tawsifur.x_test)\n",
    "plots.confusion_matrix(dataset_tawsifur, y_test_pred_tawsifur, \"Tawsifur - Not curated\")"
   ],
   "outputs": [],
   "metadata": {}
  },
  {
   "cell_type": "code",
   "execution_count": null,
   "source": [
    "sims = trim_duplicates.compute_similarities(dataset_tawsifur, net_container, basemodel_tawsifur)"
   ],
   "outputs": [],
   "metadata": {}
  },
  {
   "cell_type": "code",
   "execution_count": null,
   "source": [
    "trim_duplicates.plot_similarities(dataset_tawsifur, sims, threshold=0.99)\n",
    "dataset_tawsifur_curated = trim_duplicates.remove_duplicates(dataset_tawsifur, sims, threshold=0.99)"
   ],
   "outputs": [],
   "metadata": {}
  },
  {
   "cell_type": "code",
   "execution_count": null,
   "source": [
    "print(dataset_tawsifur_curated.x_train.shape, dataset_tawsifur.x_train.shape)"
   ],
   "outputs": [],
   "metadata": {}
  },
  {
   "cell_type": "code",
   "execution_count": null,
   "source": [
    "basemodel_tawsifur_curated = model.train_model(\"basemodel_tawsifur_curated\", net_container, basemodel_process, dataset_tawsifur_curated)\n",
    "y_pred_tawsifur_curated = net_container.predict(basemodel_tawsifur_curated.params, basemodel_tawsifur_curated.state, dataset_tawsifur_curated.x_test)\n",
    "plots.confusion_matrix(dataset_tawsifur_curated, y_pred_tawsifur_curated, \"Tawsifur - Curated\")"
   ],
   "outputs": [],
   "metadata": {}
  }
 ],
 "metadata": {
  "orig_nbformat": 4,
  "language_info": {
   "name": "python",
   "version": "3.8.10",
   "mimetype": "text/x-python",
   "codemirror_mode": {
    "name": "ipython",
    "version": 3
   },
   "pygments_lexer": "ipython3",
   "nbconvert_exporter": "python",
   "file_extension": ".py"
  },
  "kernelspec": {
   "name": "python3",
   "display_name": "Python 3.8.10 64-bit"
  },
  "interpreter": {
   "hash": "916dbcbb3f70747c44a77c7bcd40155683ae19c65e1c03b4aa3499c5328201f1"
  }
 },
 "nbformat": 4,
 "nbformat_minor": 2
}