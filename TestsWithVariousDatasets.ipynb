{
 "cells": [
  {
   "cell_type": "code",
   "execution_count": null,
   "metadata": {},
   "outputs": [],
   "source": [
    "# Starts the autoreload extension, which allows editing the .py files with the notebook running and automatically imports the latest changes\n",
    "\n",
    "%load_ext autoreload\n",
    "%autoreload 2\n",
    "\n",
    "import trim_duplicates, model, network, utils, gradcam, plots\n",
    "from dataset import Dataset\n",
    "import haiku as hk\n",
    "import jax.numpy as jnp\n",
    "import numpy as np\n",
    "import jax\n",
    "import wandb"
   ]
  },
  {
   "cell_type": "code",
   "execution_count": null,
   "metadata": {},
   "outputs": [],
   "source": [
    "assert jax.local_device_count() >= 8"
   ]
  },
  {
   "cell_type": "code",
   "execution_count": null,
   "metadata": {},
   "outputs": [],
   "source": [
    "NUM_CLASSES = 4\n",
    "SEED = 12\n",
    "BATCH_SIZE = 128"
   ]
  },
  {
   "cell_type": "code",
   "execution_count": null,
   "metadata": {},
   "outputs": [],
   "source": [
    "rng = jax.random.PRNGKey(SEED)\n",
    "dataset_tawsifur = Dataset.load(\"tawsifur_kaggle\", rng=rng)"
   ]
  },
  {
   "cell_type": "code",
   "execution_count": null,
   "metadata": {},
   "outputs": [],
   "source": [
    "net, optim = model.init_net_and_optim(dataset_tawsifur.x_train, NUM_CLASSES, BATCH_SIZE)\n",
    "\n",
    "# Gets functions for the model\n",
    "net_container = network.create(net, optim, BATCH_SIZE, shape = (10, 256, 256, 3))"
   ]
  },
  {
   "cell_type": "code",
   "execution_count": null,
   "metadata": {},
   "outputs": [],
   "source": [
    "config = {'dataset' : 'tawsifur',\n",
    "         'image_resolution' : 256}\n",
    "\n",
    "wandb.init(project='xrays', entity='usp-covid-xrays', reinit=True)\n",
    "\n",
    "\n",
    "def basemodel_process(x): return x\n",
    "basemodel_tawsifur = model.train_model(\"basemodel_tawsifur\", net_container, basemodel_process, dataset_tawsifur)\n",
    "y_test_pred_tawsifur = net_container.predict(basemodel_tawsifur.params, basemodel_tawsifur.state, dataset_tawsifur.x_test)\n",
    "plots.confusion_matrix(dataset_tawsifur, y_test_pred_tawsifur, \"Tawsifur - Not curated\")\n",
    "\n",
    "\n",
    "wandb.finish()"
   ]
  },
  {
   "cell_type": "code",
   "execution_count": null,
   "metadata": {},
   "outputs": [],
   "source": [
    "sims = trim_duplicates.compute_similarities(dataset_tawsifur, net_container, basemodel_tawsifur)"
   ]
  },
  {
   "cell_type": "code",
   "execution_count": null,
   "metadata": {},
   "outputs": [],
   "source": [
    "thresh = 0.998\n",
    "max_sims = sims.max(axis=1) - thresh\n",
    "y_classes = dataset_tawsifur.y_all[:sims.shape[0]].argmax(1)\n",
    "max_sims_index = sims.argmax(axis=1)\n",
    "mask = (max_sims >= 0) & (max_sims <= 0.0005)\n",
    "indices = np.where(mask)[0]\n",
    "plots.compare_images(dataset_tawsifur.x_all[indices], dataset_tawsifur.x_all[max_sims_index[indices]], rows=10)\n",
    "#trim_duplicates.plot_similarities(dataset_tawsifur, sims, threshold=0.99)"
   ]
  },
  {
   "cell_type": "code",
   "execution_count": null,
   "metadata": {},
   "outputs": [],
   "source": [
    "trim_duplicates.plot_similarities(dataset_tawsifur, sims, threshold=thresh)\n",
    "dataset_tawsifur_curated = trim_duplicates.remove_duplicates(dataset_tawsifur, sims, threshold=thresh)"
   ]
  },
  {
   "cell_type": "code",
   "execution_count": null,
   "metadata": {},
   "outputs": [],
   "source": [
    "print(dataset_tawsifur_curated.x_train.shape, dataset_tawsifur.x_train.shape)"
   ]
  },
  {
   "cell_type": "code",
   "execution_count": null,
   "metadata": {},
   "outputs": [],
   "source": [
    "basemodel_tawsifur_curated = model.train_model(\"basemodel_tawsifur_curated\", net_container, basemodel_process, dataset_tawsifur_curated)\n",
    "y_pred_tawsifur_curated = net_container.predict(basemodel_tawsifur_curated.params, basemodel_tawsifur_curated.state, dataset_tawsifur_curated.x_test)\n",
    "plots.confusion_matrix(dataset_tawsifur_curated, y_pred_tawsifur_curated, \"Tawsifur - Curated\")"
   ]
  }
 ],
 "metadata": {
  "interpreter": {
   "hash": "916dbcbb3f70747c44a77c7bcd40155683ae19c65e1c03b4aa3499c5328201f1"
  },
  "kernelspec": {
   "display_name": "Python 3 (ipykernel)",
   "language": "python",
   "name": "python3"
  },
  "language_info": {
   "codemirror_mode": {
    "name": "ipython",
    "version": 3
   },
   "file_extension": ".py",
   "mimetype": "text/x-python",
   "name": "python",
   "nbconvert_exporter": "python",
   "pygments_lexer": "ipython3",
   "version": "3.8.10"
  }
 },
 "nbformat": 4,
 "nbformat_minor": 4
}
