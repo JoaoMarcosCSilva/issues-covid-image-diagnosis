{
 "cells": [
  {
   "cell_type": "code",
   "execution_count": 1,
   "metadata": {},
   "outputs": [],
   "source": [
    "# Starts the autoreload extension, which allows editing the .py files with the notebook running and automatically imports the latest changes\n",
    "\n",
    "%load_ext autoreload\n",
    "%autoreload 2\n",
    "\n",
    "import trim_duplicates, model, network, utils, gradcam, plots\n",
    "from dataset import Dataset\n",
    "import haiku as hk\n",
    "import jax.numpy as jnp\n",
    "import numpy as np\n",
    "import jax\n",
    "import sklearn\n",
    "import wandb\n",
    "\n",
    "assert jax.local_device_count() >= 8\n",
    "\n",
    "NUM_CLASSES = 4\n",
    "SEED = 12\n",
    "BATCH_SIZE = 128\n",
    "\n",
    "def basemodel_process(x): return x"
   ]
  },
  {
   "cell_type": "code",
   "execution_count": 2,
   "metadata": {},
   "outputs": [
    {
     "name": "stderr",
     "output_type": "stream",
     "text": [
      "tcmalloc: large alloc 7241465856 bytes == 0x867b2000 @  0x7f98d1c7f680 0x7f98d1ca0824 0x7f98c70464ce 0x7f98c709c00e 0x7f98c709cc4f 0x7f98c713e924 0x5f5db9 0x5f698e 0x57195c 0x56a0ba 0x5f6343 0x56cf2a 0x56a0ba 0x5f6343 0x570e46 0x56a0ba 0x5f6343 0x56cf2a 0x56a0ba 0x68d5b7 0x600f54 0x5c5530 0x56bddd 0x5004f8 0x56d80c 0x5004f8 0x56d80c 0x5004f8 0x5042c6 0x56bf09 0x5f6166\n",
      "tcmalloc: large alloc 7241465856 bytes == 0x23ffc8000 @  0x7f98d1c7f680 0x7f98d1ca0824 0x7f98d1ca0b8a 0x7f96a970b6b7 0x7f96a4402790 0x7f96a4411414 0x7f96a4414287 0x7f96a435ff0f 0x7f96a40d1be8 0x7f96a40be166 0x5f5db9 0x5f698e 0x50b4c7 0x570e46 0x56a0ba 0x5f70bb 0x66600d 0x5f574e 0x56d5f6 0x56a0ba 0x5f6343 0x5f70f7 0x66600d 0x5f574e 0x56d5f6 0x5f6166 0x56bf09 0x56a0ba 0x50adf0 0x56cf2a 0x56a0ba\n",
      "tcmalloc: large alloc 7241465856 bytes == 0x3f274e000 @  0x7f98d1c7f680 0x7f98d1ca0824 0x7f98d1ca0b8a 0x7f96a970b6b7 0x7f96a4402790 0x7f96a4411414 0x7f96a4414287 0x7f96a435ff0f 0x7f96a40d1be8 0x7f96a40be166 0x5f5db9 0x5f698e 0x50b4c7 0x570e46 0x56a0ba 0x5f70bb 0x66600d 0x5f574e 0x56d5f6 0x56a0ba 0x5f6343 0x5f70f7 0x66600d 0x5f574e 0x56d5f6 0x5f6166 0x56bf09 0x56a0ba 0x50adf0 0x56cf2a 0x5f6166\n",
      "tcmalloc: large alloc 5793644544 bytes == 0x23ffc8000 @  0x7f98d1c7f680 0x7f98d1ca0824 0x7f98d1ca0b8a 0x7f96a970b6b7 0x7f96a4402790 0x7f96a4411414 0x7f96a4414287 0x7f96a435ff0f 0x7f96a40d1be8 0x7f96a40be166 0x5f5db9 0x5f698e 0x50b4c7 0x570e46 0x56a0ba 0x5f70bb 0x66600d 0x5f574e 0x56d5f6 0x56a0ba 0x5f6343 0x5f70f7 0x66600d 0x5f574e 0x56d5f6 0x5f6166 0x56bf09 0x56a0ba 0x50adf0 0x56cf2a 0x56a0ba\n",
      "tcmalloc: large alloc 5793644544 bytes == 0x5a294e000 @  0x7f98d1c7f680 0x7f98d1ca0824 0x7f98d1ca0b8a 0x7f96a970b6b7 0x7f96a4402790 0x7f96a4411414 0x7f96a4414287 0x7f96a435ff0f 0x7f96a40d1be8 0x7f96a40be166 0x5f5db9 0x5f698e 0x50b4c7 0x570e46 0x56a0ba 0x5f70bb 0x66600d 0x5f574e 0x56d5f6 0x56a0ba 0x5f6343 0x5f70f7 0x66600d 0x5f574e 0x56d5f6 0x5f6166 0x56bf09 0x56a0ba 0x50adf0 0x56cf2a 0x5f6166\n",
      "tcmalloc: large alloc 7241465856 bytes == 0x23ffc8000 @  0x7f98d1c7f680 0x7f98d1ca0824 0x7f98d1ca0b8a 0x7f96a970b6b7 0x7f96a4402790 0x7f96a4411414 0x7f96a4414287 0x7f96a435ff0f 0x7f96a40d1be8 0x7f96a40be166 0x5f5db9 0x5f698e 0x50b4c7 0x570e46 0x56a0ba 0x5f70bb 0x66600d 0x5f574e 0x56d5f6 0x56a0ba 0x5f6343 0x5f70f7 0x66600d 0x5f574e 0x56d5f6 0x5f6166 0x56bf09 0x56a0ba 0x5f6343 0x50ad7c 0x5f56c7\n",
      "tcmalloc: large alloc 16644833280 bytes == 0x6fc68e000 @  0x7f98d1c7f680 0x7f98d1ca0824 0x7f98c70464ce 0x7f98c709c00e 0x7f98c709cc4f 0x7f98c713e924 0x5f5db9 0x5f698e 0x57195c 0x56a0ba 0x5f6343 0x56cf2a 0x56a0ba 0x5f6343 0x570e46 0x56a0ba 0x5f6343 0x56cf2a 0x56a0ba 0x68d5b7 0x600f54 0x5c5530 0x56bddd 0x5004f8 0x56d80c 0x5004f8 0x56d80c 0x5004f8 0x5042c6 0x56bf09 0x5f6166\n",
      "tcmalloc: large alloc 16644833280 bytes == 0xadd84e000 @  0x7f98d1c7f680 0x7f98d1ca0824 0x7f98d1ca0b8a 0x7f96a970b6b7 0x7f96a4402790 0x7f96a4411414 0x7f96a4414287 0x7f96a435ff0f 0x7f96a40d1be8 0x7f96a40be166 0x5f5db9 0x5f698e 0x50b4c7 0x570e46 0x56a0ba 0x5f70bb 0x66600d 0x5f574e 0x56d5f6 0x56a0ba 0x5f6343 0x5f70f7 0x66600d 0x5f574e 0x56d5f6 0x5f6166 0x56bf09 0x56a0ba 0x50adf0 0x56cf2a 0x56a0ba\n",
      "tcmalloc: large alloc 16644833280 bytes == 0xebea0e000 @  0x7f98d1c7f680 0x7f98d1ca0824 0x7f98d1ca0b8a 0x7f96a970b6b7 0x7f96a4402790 0x7f96a4411414 0x7f96a4414287 0x7f96a435ff0f 0x7f96a40d1be8 0x7f96a40be166 0x5f5db9 0x5f698e 0x50b4c7 0x570e46 0x56a0ba 0x5f70bb 0x66600d 0x5f574e 0x56d5f6 0x56a0ba 0x5f6343 0x5f70f7 0x66600d 0x5f574e 0x56d5f6 0x5f6166 0x56bf09 0x56a0ba 0x50adf0 0x56cf2a 0x5f6166\n",
      "tcmalloc: large alloc 3328966656 bytes == 0x133132000 @  0x7f98d1c7f680 0x7f98d1ca0824 0x7f98d1ca0b8a 0x7f96a970b6b7 0x7f96a4402790 0x7f96a4411414 0x7f96a4414287 0x7f96a435ff0f 0x7f96a40d1be8 0x7f96a40be166 0x5f5db9 0x5f698e 0x50b4c7 0x570e46 0x56a0ba 0x5f70bb 0x66600d 0x5f574e 0x56d5f6 0x56a0ba 0x5f6343 0x5f70f7 0x66600d 0x5f574e 0x56d5f6 0x5f6166 0x56bf09 0x56a0ba 0x50adf0 0x56cf2a 0x56a0ba\n",
      "tcmalloc: large alloc 13315866624 bytes == 0x6fc68e000 @  0x7f98d1c7f680 0x7f98d1ca0824 0x7f98d1ca0b8a 0x7f96a970b6b7 0x7f96a4402790 0x7f96a4411414 0x7f96a4414287 0x7f96a435ff0f 0x7f96a40d1be8 0x7f96a40be166 0x5f5db9 0x5f698e 0x50b4c7 0x570e46 0x56a0ba 0x5f70bb 0x66600d 0x5f574e 0x56d5f6 0x56a0ba 0x5f6343 0x5f70f7 0x66600d 0x5f574e 0x56d5f6 0x5f6166 0x56bf09 0x56a0ba 0x50adf0 0x56cf2a 0x56a0ba\n",
      "tcmalloc: large alloc 13315866624 bytes == 0xadd84e000 @  0x7f98d1c7f680 0x7f98d1ca0824 0x7f98d1ca0b8a 0x7f96a970b6b7 0x7f96a4402790 0x7f96a4411414 0x7f96a4414287 0x7f96a435ff0f 0x7f96a40d1be8 0x7f96a40be166 0x5f5db9 0x5f698e 0x50b4c7 0x570e46 0x56a0ba 0x5f70bb 0x66600d 0x5f574e 0x56d5f6 0x56a0ba 0x5f6343 0x5f70f7 0x66600d 0x5f574e 0x56d5f6 0x5f6166 0x56bf09 0x56a0ba 0x50adf0 0x56cf2a 0x5f6166\n",
      "tcmalloc: large alloc 16644833280 bytes == 0x6fc68e000 @  0x7f98d1c7f680 0x7f98d1ca0824 0x7f98d1ca0b8a 0x7f96a970b6b7 0x7f96a4402790 0x7f96a4411414 0x7f96a4414287 0x7f96a435ff0f 0x7f96a40d1be8 0x7f96a40be166 0x5f5db9 0x5f698e 0x50b4c7 0x570e46 0x56a0ba 0x5f70bb 0x66600d 0x5f574e 0x56d5f6 0x56a0ba 0x5f6343 0x5f70f7 0x66600d 0x5f574e 0x56d5f6 0x5f6166 0x56bf09 0x56a0ba 0x5f6343 0x50ad7c 0x5f56c7\n"
     ]
    }
   ],
   "source": [
    "rng = jax.random.PRNGKey(SEED)\n",
    "dataset_mendeley = Dataset.load(\"mendeley\", rng=rng)\n",
    "dataset_tawsifur = Dataset.load(\"tawsifur\", rng=rng)"
   ]
  },
  {
   "cell_type": "code",
   "execution_count": 3,
   "metadata": {},
   "outputs": [],
   "source": [
    "net, optim = model.init_net_and_optim(dataset_mendeley.x_train, NUM_CLASSES, BATCH_SIZE)\n",
    "\n",
    "# Gets functions for the model\n",
    "net_container = network.create(net, optim, BATCH_SIZE, shape = (10, 256, 256, 3))"
   ]
  },
  {
   "cell_type": "code",
   "execution_count": 4,
   "metadata": {},
   "outputs": [],
   "source": [
    "def five_fold_cross_validation(model_name, original_dataset, process_fn, class_names, seed=12, num_epochs=30):\n",
    "    config = { 'dataset' : original_dataset.name,\n",
    "               'random_seed' : seed,\n",
    "               'batch_size' : BATCH_SIZE,\n",
    "               'resolution' : 256 }\n",
    "\n",
    "    group = model_name + '_CV'\n",
    "\n",
    "    for i in range(5):\n",
    "        job_type = 'train_and_eval'\n",
    "\n",
    "        run = wandb.init(project='xrays', entity='usp-covid-xrays',\n",
    "                         group=group,\n",
    "                         job_type=job_type,\n",
    "                         name=model_name + \"_CV_\" + str(i),\n",
    "                         reinit=True, config = config)\n",
    "\n",
    "        cv_dataset = original_dataset.five_fold(i)\n",
    "\n",
    "        model.train_model(model_name + \"_CV\" + str(i),\n",
    "                          net_container, process_fn,\n",
    "                          cv_dataset, masks = None,\n",
    "                          class_names = class_names,\n",
    "                          num_epochs = num_epochs,\n",
    "                          wandb_run=run)\n",
    "\n",
    "        run.finish()\n"
   ]
  },
  {
   "cell_type": "code",
   "execution_count": 5,
   "metadata": {},
   "outputs": [
    {
     "name": "stderr",
     "output_type": "stream",
     "text": [
      "ERROR:wandb.jupyter:Failed to detect the name of this notebook, you can set it manually with the WANDB_NOTEBOOK_NAME environment variable to enable code saving.\n",
      "wandb: Currently logged in as: pedromartelleto (use `wandb login --relogin` to force relogin)\n"
     ]
    },
    {
     "data": {
      "text/html": [
       "\n",
       "                    Syncing run <strong><a href=\"https://wandb.ai/usp-covid-xrays/xrays/runs/35p28ppk\" target=\"_blank\">base_mendeley_CV_0</a></strong> to <a href=\"https://wandb.ai/usp-covid-xrays/xrays\" target=\"_blank\">Weights & Biases</a> (<a href=\"https://docs.wandb.com/integrations/jupyter.html\" target=\"_blank\">docs</a>).<br/>\n",
       "\n",
       "                "
      ],
      "text/plain": [
       "<IPython.core.display.HTML object>"
      ]
     },
     "metadata": {},
     "output_type": "display_data"
    },
    {
     "name": "stderr",
     "output_type": "stream",
     "text": [
      "tcmalloc: large alloc 5793644544 bytes == 0xebea0e000 @  0x7f98d1c7f680 0x7f98d1ca0824 0x7f98d1ca0b8a 0x7f96a970b6b7 0x7f96a4402790 0x7f96a4411414 0x7f96a4414287 0x7f96a435ff0f 0x7f96a40d1be8 0x7f96a40be166 0x5f5db9 0x5f698e 0x50b4c7 0x570e46 0x56a0ba 0x5f70bb 0x66600d 0x5f574e 0x56d5f6 0x56a0ba 0x5f6343 0x5f70f7 0x66600d 0x5f574e 0x56d5f6 0x5f6166 0x56bf09 0x56a0ba 0x50adf0 0x56cf2a 0x56a0ba\n",
      "tcmalloc: large alloc 5793644544 bytes == 0x1017f4e000 @  0x7f98d1c7f680 0x7f98d1ca0824 0x7f98d1ca0b8a 0x7f96a970b6b7 0x7f96a4402790 0x7f96a4411414 0x7f96a4414287 0x7f96a435ff0f 0x7f96a40d1be8 0x7f96a40be166 0x5f5db9 0x5f698e 0x50b4c7 0x570e46 0x56a0ba 0x5f70bb 0x66600d 0x5f574e 0x56d5f6 0x56a0ba 0x5f6343 0x5f70f7 0x66600d 0x5f574e 0x56d5f6 0x5f6166 0x56bf09 0x56a0ba 0x50adf0 0x56cf2a 0x5f6166\n",
      "tcmalloc: large alloc 7241465856 bytes == 0x129fbce000 @  0x7f98d1c7f680 0x7f98d1ca0824 0x7f98d1ca0b8a 0x7f96a970b6b7 0x7f96a4402790 0x7f96a4411414 0x7f96a4414287 0x7f96a435ff0f 0x7f96a40d1be8 0x7f96a40be166 0x5f5db9 0x5f698e 0x50b4c7 0x570e46 0x56a0ba 0x5f70bb 0x66600d 0x5f574e 0x56d5f6 0x56a0ba 0x5f6343 0x5f70f7 0x66600d 0x5f574e 0x56d5f6 0x5f6166 0x56bf09 0x56a0ba 0x5f6343 0x50ad7c 0x5f56c7\n",
      "100%|█████████████████████████████████| 57/57 [00:35<00:00,  1.59it/s, loss=1.79, acc=0.35, val_loss=1.30, val_acc=0.36]\n",
      "100%|█████████████████████████████████| 57/57 [00:09<00:00,  6.28it/s, loss=1.21, acc=0.40, val_loss=1.12, val_acc=0.47]\n",
      "100%|█████████████████████████████████| 57/57 [00:06<00:00,  8.78it/s, loss=1.01, acc=0.56, val_loss=0.91, val_acc=0.64]\n",
      "100%|█████████████████████████████████| 57/57 [00:06<00:00,  8.92it/s, loss=0.75, acc=0.70, val_loss=0.73, val_acc=0.71]\n",
      "100%|█████████████████████████████████| 57/57 [00:06<00:00,  8.93it/s, loss=0.63, acc=0.75, val_loss=0.61, val_acc=0.75]\n",
      "100%|█████████████████████████████████| 57/57 [00:07<00:00,  7.83it/s, loss=0.57, acc=0.77, val_loss=0.58, val_acc=0.76]\n",
      "100%|█████████████████████████████████| 57/57 [00:06<00:00,  8.92it/s, loss=0.53, acc=0.79, val_loss=0.53, val_acc=0.78]\n",
      "100%|█████████████████████████████████| 57/57 [00:08<00:00,  6.51it/s, loss=0.48, acc=0.80, val_loss=0.50, val_acc=0.79]\n",
      "100%|█████████████████████████████████| 57/57 [00:06<00:00,  9.14it/s, loss=0.45, acc=0.81, val_loss=0.49, val_acc=0.80]\n",
      "100%|█████████████████████████████████| 57/57 [00:06<00:00,  9.12it/s, loss=0.44, acc=0.82, val_loss=0.48, val_acc=0.80]\n",
      "100%|█████████████████████████████████| 57/57 [00:06<00:00,  9.47it/s, loss=0.42, acc=0.83, val_loss=0.47, val_acc=0.80]\n",
      "100%|█████████████████████████████████| 57/57 [00:06<00:00,  8.77it/s, loss=0.41, acc=0.83, val_loss=0.47, val_acc=0.80]\n",
      "100%|█████████████████████████████████| 57/57 [00:06<00:00,  8.94it/s, loss=0.39, acc=0.84, val_loss=0.46, val_acc=0.80]\n",
      "100%|█████████████████████████████████| 57/57 [00:06<00:00,  9.31it/s, loss=0.38, acc=0.84, val_loss=0.43, val_acc=0.82]\n",
      "100%|█████████████████████████████████| 57/57 [00:06<00:00,  8.66it/s, loss=0.37, acc=0.85, val_loss=0.42, val_acc=0.83]\n",
      "100%|█████████████████████████████████| 57/57 [00:06<00:00,  9.13it/s, loss=0.35, acc=0.85, val_loss=0.42, val_acc=0.83]\n",
      "100%|█████████████████████████████████| 57/57 [00:06<00:00,  9.13it/s, loss=0.34, acc=0.86, val_loss=0.42, val_acc=0.83]\n",
      "100%|█████████████████████████████████| 57/57 [00:06<00:00,  8.68it/s, loss=0.32, acc=0.87, val_loss=0.43, val_acc=0.83]\n",
      "100%|█████████████████████████████████| 57/57 [00:06<00:00,  9.13it/s, loss=0.30, acc=0.88, val_loss=0.45, val_acc=0.83]\n",
      "100%|█████████████████████████████████| 57/57 [00:06<00:00,  8.97it/s, loss=0.28, acc=0.89, val_loss=0.44, val_acc=0.83]\n",
      "100%|█████████████████████████████████| 57/57 [00:06<00:00,  8.76it/s, loss=0.25, acc=0.89, val_loss=0.45, val_acc=0.83]\n",
      "100%|█████████████████████████████████| 57/57 [00:06<00:00,  8.55it/s, loss=0.24, acc=0.90, val_loss=0.44, val_acc=0.85]\n",
      "100%|█████████████████████████████████| 57/57 [00:06<00:00,  8.88it/s, loss=0.22, acc=0.91, val_loss=0.43, val_acc=0.84]\n",
      "100%|█████████████████████████████████| 57/57 [00:06<00:00,  8.75it/s, loss=0.20, acc=0.92, val_loss=0.46, val_acc=0.84]\n",
      "100%|█████████████████████████████████| 57/57 [00:06<00:00,  8.39it/s, loss=0.19, acc=0.92, val_loss=0.45, val_acc=0.85]\n",
      "100%|█████████████████████████████████| 57/57 [00:06<00:00,  8.87it/s, loss=0.15, acc=0.95, val_loss=0.45, val_acc=0.85]\n",
      "100%|█████████████████████████████████| 57/57 [00:06<00:00,  8.77it/s, loss=0.13, acc=0.96, val_loss=0.44, val_acc=0.86]\n",
      "100%|█████████████████████████████████| 57/57 [00:06<00:00,  8.64it/s, loss=0.12, acc=0.96, val_loss=0.44, val_acc=0.86]\n",
      "100%|█████████████████████████████████| 57/57 [00:06<00:00,  8.30it/s, loss=0.10, acc=0.97, val_loss=0.44, val_acc=0.86]\n",
      "100%|█████████████████████████████████| 57/57 [00:06<00:00,  8.58it/s, loss=0.09, acc=0.97, val_loss=0.44, val_acc=0.86]\n"
     ]
    },
    {
     "name": "stdout",
     "output_type": "stream",
     "text": [
      "Model saved to models/base_mendeley_CV0.pickle\n"
     ]
    },
    {
     "data": {
      "text/html": [
       "<br/>Waiting for W&B process to finish, PID 1018218... <strong style=\"color:green\">(success).</strong>"
      ],
      "text/plain": [
       "<IPython.core.display.HTML object>"
      ]
     },
     "metadata": {},
     "output_type": "display_data"
    },
    {
     "data": {
      "application/vnd.jupyter.widget-view+json": {
       "model_id": "21b22ac704634e65b552c1ebe85242e3",
       "version_major": 2,
       "version_minor": 0
      },
      "text/plain": [
       "VBox(children=(Label(value=' 0.04MB of 0.04MB uploaded (0.00MB deduped)\\r'), FloatProgress(value=1.0, max=1.0)…"
      ]
     },
     "metadata": {},
     "output_type": "display_data"
    },
    {
     "data": {
      "text/html": [
       "<style>\n",
       "    table.wandb td:nth-child(1) { padding: 0 10px; text-align: right }\n",
       "    .wandb-row { display: flex; flex-direction: row; flex-wrap: wrap; width: 100% }\n",
       "    .wandb-col { display: flex; flex-direction: column; flex-basis: 100%; flex: 1; padding: 10px; }\n",
       "    </style>\n",
       "<div class=\"wandb-row\"><div class=\"wandb-col\">\n",
       "<h3>Run history:</h3><br/><table class=\"wandb\"><tr><td>acc</td><td>▁▁▂▃▄▆▅▄▆▆▆▆▆▆▆▅▆▆▆▇▆▇▇▇▇▇▇▇▇▇▇▇▇▇██████</td></tr><tr><td>loss</td><td>▇█▇▇▅▄▄▄▄▃▃▃▃▃▃▃▃▃▃▃▃▂▂▃▂▂▂▂▂▂▂▂▂▂▁▁▁▁▁▁</td></tr><tr><td>val_acc</td><td>▁▃▅▆▆▇▇▇▇▇▇▇▇▇████████████████</td></tr><tr><td>val_loss</td><td>█▇▅▃▃▂▂▂▂▁▁▁▁▁▁▁▁▁▁▁▁▁▁▁▁▁▁▁▁▁</td></tr></table><br/></div><div class=\"wandb-col\">\n",
       "<h3>Run summary:</h3><br/><table class=\"wandb\"><tr><td>acc</td><td>0.97656</td></tr><tr><td>loss</td><td>0.07913</td></tr><tr><td>val_acc</td><td>0.85658</td></tr><tr><td>val_loss</td><td>0.43877</td></tr></table>\n",
       "</div></div>\n",
       "Synced 5 W&B file(s), 30 media file(s), 30 artifact file(s) and 1 other file(s)\n",
       "<br/>Synced <strong style=\"color:#cdcd00\">base_mendeley_CV_0</strong>: <a href=\"https://wandb.ai/usp-covid-xrays/xrays/runs/35p28ppk\" target=\"_blank\">https://wandb.ai/usp-covid-xrays/xrays/runs/35p28ppk</a><br/>\n",
       "Find logs at: <code>./wandb/run-20211018_183012-35p28ppk/logs</code><br/>\n"
      ],
      "text/plain": [
       "<IPython.core.display.HTML object>"
      ]
     },
     "metadata": {},
     "output_type": "display_data"
    },
    {
     "data": {
      "text/html": [
       "\n",
       "                    Syncing run <strong><a href=\"https://wandb.ai/usp-covid-xrays/xrays/runs/35cilty4\" target=\"_blank\">base_mendeley_CV_1</a></strong> to <a href=\"https://wandb.ai/usp-covid-xrays/xrays\" target=\"_blank\">Weights & Biases</a> (<a href=\"https://docs.wandb.com/integrations/jupyter.html\" target=\"_blank\">docs</a>).<br/>\n",
       "\n",
       "                "
      ],
      "text/plain": [
       "<IPython.core.display.HTML object>"
      ]
     },
     "metadata": {},
     "output_type": "display_data"
    },
    {
     "name": "stderr",
     "output_type": "stream",
     "text": [
      "tcmalloc: large alloc 7241465856 bytes == 0x15a9b0e000 @  0x7f98d1c7f680 0x7f98d1ca0824 0x7f98d1ca0b8a 0x7f96a970b6b7 0x7f96a4402790 0x7f96a4411414 0x7f96a4414287 0x7f96a435ff0f 0x7f96a40d1be8 0x7f96a40be166 0x5f5db9 0x5f698e 0x50b4c7 0x570e46 0x56a0ba 0x5f70bb 0x66600d 0x5f574e 0x56d5f6 0x56a0ba 0x5f6343 0x5f70f7 0x66600d 0x5f574e 0x56d5f6 0x5f6166 0x56bf09 0x56a0ba 0x5f6343 0x50ad7c 0x5f56c7\n",
      "100%|█████████████████████████████████| 57/57 [00:07<00:00,  7.99it/s, loss=1.81, acc=0.35, val_loss=1.33, val_acc=0.34]\n",
      "100%|█████████████████████████████████| 57/57 [00:07<00:00,  8.11it/s, loss=1.30, acc=0.36, val_loss=1.31, val_acc=0.34]\n",
      "100%|█████████████████████████████████| 57/57 [00:06<00:00,  9.11it/s, loss=1.20, acc=0.41, val_loss=1.12, val_acc=0.49]\n",
      "100%|█████████████████████████████████| 57/57 [00:06<00:00,  9.03it/s, loss=0.91, acc=0.63, val_loss=0.76, val_acc=0.69]\n",
      "100%|█████████████████████████████████| 57/57 [00:06<00:00,  8.94it/s, loss=0.69, acc=0.72, val_loss=0.65, val_acc=0.73]\n",
      "100%|█████████████████████████████████| 57/57 [00:06<00:00,  9.03it/s, loss=0.59, acc=0.76, val_loss=0.57, val_acc=0.76]\n",
      "100%|█████████████████████████████████| 57/57 [00:07<00:00,  7.92it/s, loss=0.53, acc=0.78, val_loss=0.52, val_acc=0.78]\n",
      "100%|█████████████████████████████████| 57/57 [00:06<00:00,  8.85it/s, loss=0.48, acc=0.80, val_loss=0.50, val_acc=0.79]\n",
      "100%|█████████████████████████████████| 57/57 [00:06<00:00,  8.95it/s, loss=0.46, acc=0.81, val_loss=0.49, val_acc=0.79]\n",
      "100%|█████████████████████████████████| 57/57 [00:06<00:00,  9.09it/s, loss=0.43, acc=0.82, val_loss=0.46, val_acc=0.81]\n",
      "100%|█████████████████████████████████| 57/57 [00:07<00:00,  7.87it/s, loss=0.41, acc=0.83, val_loss=0.47, val_acc=0.81]\n",
      "100%|█████████████████████████████████| 57/57 [00:06<00:00,  9.47it/s, loss=0.40, acc=0.83, val_loss=0.47, val_acc=0.81]\n",
      "100%|█████████████████████████████████| 57/57 [00:06<00:00,  9.49it/s, loss=0.39, acc=0.84, val_loss=0.43, val_acc=0.83]\n",
      "100%|█████████████████████████████████| 57/57 [00:06<00:00,  9.43it/s, loss=0.37, acc=0.84, val_loss=0.43, val_acc=0.83]\n",
      "100%|█████████████████████████████████| 57/57 [00:06<00:00,  9.15it/s, loss=0.35, acc=0.85, val_loss=0.44, val_acc=0.83]\n",
      "100%|█████████████████████████████████| 57/57 [00:05<00:00,  9.54it/s, loss=0.34, acc=0.86, val_loss=0.46, val_acc=0.82]\n",
      "100%|█████████████████████████████████| 57/57 [00:05<00:00,  9.57it/s, loss=0.33, acc=0.86, val_loss=0.44, val_acc=0.82]\n",
      "100%|█████████████████████████████████| 57/57 [00:05<00:00,  9.53it/s, loss=0.32, acc=0.87, val_loss=0.46, val_acc=0.82]\n",
      "100%|█████████████████████████████████| 57/57 [00:06<00:00,  9.50it/s, loss=0.30, acc=0.88, val_loss=0.49, val_acc=0.82]\n",
      "100%|█████████████████████████████████| 57/57 [00:06<00:00,  9.42it/s, loss=0.28, acc=0.89, val_loss=0.49, val_acc=0.82]\n",
      "100%|█████████████████████████████████| 57/57 [00:06<00:00,  9.40it/s, loss=0.25, acc=0.90, val_loss=0.46, val_acc=0.83]\n",
      "100%|█████████████████████████████████| 57/57 [00:06<00:00,  9.49it/s, loss=0.22, acc=0.91, val_loss=0.43, val_acc=0.84]\n",
      "100%|█████████████████████████████████| 57/57 [00:05<00:00,  9.74it/s, loss=0.20, acc=0.92, val_loss=0.42, val_acc=0.84]\n",
      "100%|█████████████████████████████████| 57/57 [00:06<00:00,  9.40it/s, loss=0.19, acc=0.93, val_loss=0.44, val_acc=0.84]\n",
      "100%|█████████████████████████████████| 57/57 [00:06<00:00,  9.08it/s, loss=0.17, acc=0.94, val_loss=0.42, val_acc=0.84]\n",
      "100%|█████████████████████████████████| 57/57 [00:05<00:00,  9.71it/s, loss=0.13, acc=0.96, val_loss=0.42, val_acc=0.85]\n",
      "100%|█████████████████████████████████| 57/57 [00:06<00:00,  9.45it/s, loss=0.11, acc=0.97, val_loss=0.40, val_acc=0.85]\n",
      "100%|█████████████████████████████████| 57/57 [00:06<00:00,  9.19it/s, loss=0.09, acc=0.98, val_loss=0.41, val_acc=0.85]\n",
      "100%|█████████████████████████████████| 57/57 [00:06<00:00,  9.04it/s, loss=0.07, acc=0.99, val_loss=0.41, val_acc=0.85]\n",
      "100%|█████████████████████████████████| 57/57 [00:06<00:00,  9.25it/s, loss=0.07, acc=0.99, val_loss=0.41, val_acc=0.85]\n"
     ]
    },
    {
     "name": "stdout",
     "output_type": "stream",
     "text": [
      "Model saved to models/base_mendeley_CV1.pickle\n"
     ]
    },
    {
     "data": {
      "text/html": [
       "<br/>Waiting for W&B process to finish, PID 1020060... <strong style=\"color:green\">(success).</strong>"
      ],
      "text/plain": [
       "<IPython.core.display.HTML object>"
      ]
     },
     "metadata": {},
     "output_type": "display_data"
    },
    {
     "data": {
      "application/vnd.jupyter.widget-view+json": {
       "model_id": "4559b8d05d48400b820dc10f124aa1c3",
       "version_major": 2,
       "version_minor": 0
      },
      "text/plain": [
       "VBox(children=(Label(value=' 11.25MB of 1023.80MB uploaded (0.00MB deduped)\\r'), FloatProgress(value=0.0109899…"
      ]
     },
     "metadata": {},
     "output_type": "display_data"
    },
    {
     "data": {
      "text/html": [
       "<style>\n",
       "    table.wandb td:nth-child(1) { padding: 0 10px; text-align: right }\n",
       "    .wandb-row { display: flex; flex-direction: row; flex-wrap: wrap; width: 100% }\n",
       "    .wandb-col { display: flex; flex-direction: column; flex-basis: 100%; flex: 1; padding: 10px; }\n",
       "    </style>\n",
       "<div class=\"wandb-row\"><div class=\"wandb-col\">\n",
       "<h3>Run history:</h3><br/><table class=\"wandb\"><tr><td>acc</td><td>▁▂▁▁▄▅▅▅▅▅▅▆▆▆▆▅▆▆▇▇▆▆▇▇▆▇▇▇▆▇▇▇▇▇███▇██</td></tr><tr><td>loss</td><td>███▇▆▅▄▄▄▄▄▃▃▃▃▃▃▃▂▂▃▃▂▂▃▂▂▂▃▂▂▂▂▁▁▁▁▁▁▁</td></tr><tr><td>val_acc</td><td>▁▁▃▆▆▇▇▇▇▇▇▇██████████████████</td></tr><tr><td>val_loss</td><td>██▆▄▃▂▂▂▂▁▁▁▁▁▁▁▁▁▂▂▁▁▁▁▁▁▁▁▁▁</td></tr></table><br/></div><div class=\"wandb-col\">\n",
       "<h3>Run summary:</h3><br/><table class=\"wandb\"><tr><td>acc</td><td>1.0</td></tr><tr><td>loss</td><td>0.04744</td></tr><tr><td>val_acc</td><td>0.8471</td></tr><tr><td>val_loss</td><td>0.40586</td></tr></table>\n",
       "</div></div>\n",
       "Synced 5 W&B file(s), 30 media file(s), 30 artifact file(s) and 1 other file(s)\n",
       "<br/>Synced <strong style=\"color:#cdcd00\">base_mendeley_CV_1</strong>: <a href=\"https://wandb.ai/usp-covid-xrays/xrays/runs/35cilty4\" target=\"_blank\">https://wandb.ai/usp-covid-xrays/xrays/runs/35cilty4</a><br/>\n",
       "Find logs at: <code>./wandb/run-20211018_183452-35cilty4/logs</code><br/>\n"
      ],
      "text/plain": [
       "<IPython.core.display.HTML object>"
      ]
     },
     "metadata": {},
     "output_type": "display_data"
    },
    {
     "data": {
      "text/html": [
       "\n",
       "                    Syncing run <strong><a href=\"https://wandb.ai/usp-covid-xrays/xrays/runs/3q7l04n2\" target=\"_blank\">base_mendeley_CV_2</a></strong> to <a href=\"https://wandb.ai/usp-covid-xrays/xrays\" target=\"_blank\">Weights & Biases</a> (<a href=\"https://docs.wandb.com/integrations/jupyter.html\" target=\"_blank\">docs</a>).<br/>\n",
       "\n",
       "                "
      ],
      "text/plain": [
       "<IPython.core.display.HTML object>"
      ]
     },
     "metadata": {},
     "output_type": "display_data"
    },
    {
     "name": "stderr",
     "output_type": "stream",
     "text": [
      "100%|█████████████████████████████████| 57/57 [00:06<00:00,  9.32it/s, loss=1.81, acc=0.35, val_loss=1.31, val_acc=0.35]\n",
      "100%|█████████████████████████████████| 57/57 [00:05<00:00,  9.69it/s, loss=1.30, acc=0.36, val_loss=1.28, val_acc=0.35]\n",
      "100%|█████████████████████████████████| 57/57 [00:05<00:00,  9.81it/s, loss=1.16, acc=0.45, val_loss=1.09, val_acc=0.54]\n",
      "100%|█████████████████████████████████| 57/57 [00:05<00:00,  9.89it/s, loss=0.87, acc=0.66, val_loss=0.76, val_acc=0.70]\n",
      "100%|█████████████████████████████████| 57/57 [00:05<00:00,  9.91it/s, loss=0.65, acc=0.74, val_loss=0.65, val_acc=0.72]\n",
      "100%|█████████████████████████████████| 57/57 [00:05<00:00,  9.89it/s, loss=0.57, acc=0.76, val_loss=0.54, val_acc=0.77]\n",
      "100%|█████████████████████████████████| 57/57 [00:05<00:00,  9.95it/s, loss=0.52, acc=0.79, val_loss=0.52, val_acc=0.78]\n",
      "100%|█████████████████████████████████| 57/57 [00:05<00:00,  9.95it/s, loss=0.49, acc=0.80, val_loss=0.52, val_acc=0.79]\n",
      "100%|█████████████████████████████████| 57/57 [00:06<00:00,  9.49it/s, loss=0.46, acc=0.81, val_loss=0.49, val_acc=0.79]\n",
      "100%|█████████████████████████████████| 57/57 [00:05<00:00,  9.83it/s, loss=0.44, acc=0.82, val_loss=0.48, val_acc=0.80]\n",
      "100%|█████████████████████████████████| 57/57 [00:05<00:00,  9.52it/s, loss=0.42, acc=0.83, val_loss=0.48, val_acc=0.80]\n",
      "100%|█████████████████████████████████| 57/57 [00:06<00:00,  9.20it/s, loss=0.40, acc=0.83, val_loss=0.51, val_acc=0.79]\n",
      "100%|█████████████████████████████████| 57/57 [00:06<00:00,  8.90it/s, loss=0.38, acc=0.84, val_loss=0.47, val_acc=0.80]\n",
      "100%|█████████████████████████████████| 57/57 [00:06<00:00,  9.12it/s, loss=0.37, acc=0.85, val_loss=0.45, val_acc=0.81]\n",
      "100%|█████████████████████████████████| 57/57 [00:06<00:00,  8.99it/s, loss=0.35, acc=0.85, val_loss=0.45, val_acc=0.80]\n",
      "100%|█████████████████████████████████| 57/57 [00:05<00:00,  9.51it/s, loss=0.34, acc=0.86, val_loss=0.45, val_acc=0.80]\n",
      "100%|█████████████████████████████████| 57/57 [00:05<00:00,  9.59it/s, loss=0.32, acc=0.87, val_loss=0.47, val_acc=0.81]\n",
      "100%|█████████████████████████████████| 57/57 [00:06<00:00,  9.25it/s, loss=0.31, acc=0.87, val_loss=0.47, val_acc=0.81]\n",
      "100%|█████████████████████████████████| 57/57 [00:06<00:00,  9.18it/s, loss=0.30, acc=0.87, val_loss=0.45, val_acc=0.82]\n",
      "100%|█████████████████████████████████| 57/57 [00:06<00:00,  9.13it/s, loss=0.28, acc=0.89, val_loss=0.45, val_acc=0.82]\n",
      "100%|█████████████████████████████████| 57/57 [00:06<00:00,  8.87it/s, loss=0.26, acc=0.89, val_loss=0.46, val_acc=0.81]\n",
      "100%|█████████████████████████████████| 57/57 [00:06<00:00,  8.80it/s, loss=0.23, acc=0.91, val_loss=0.46, val_acc=0.82]\n",
      "100%|█████████████████████████████████| 57/57 [00:06<00:00,  8.87it/s, loss=0.20, acc=0.92, val_loss=0.45, val_acc=0.83]\n",
      "100%|█████████████████████████████████| 57/57 [00:06<00:00,  8.75it/s, loss=0.18, acc=0.93, val_loss=0.45, val_acc=0.84]\n",
      "100%|█████████████████████████████████| 57/57 [00:06<00:00,  9.09it/s, loss=0.16, acc=0.94, val_loss=0.44, val_acc=0.84]\n",
      "100%|█████████████████████████████████| 57/57 [00:06<00:00,  8.50it/s, loss=0.14, acc=0.95, val_loss=0.44, val_acc=0.85]\n",
      "100%|█████████████████████████████████| 57/57 [00:06<00:00,  8.41it/s, loss=0.11, acc=0.97, val_loss=0.44, val_acc=0.86]\n",
      "100%|█████████████████████████████████| 57/57 [00:05<00:00,  9.55it/s, loss=0.09, acc=0.97, val_loss=0.44, val_acc=0.86]\n",
      "100%|█████████████████████████████████| 57/57 [00:06<00:00,  8.57it/s, loss=0.08, acc=0.98, val_loss=0.44, val_acc=0.86]\n",
      "100%|█████████████████████████████████| 57/57 [00:06<00:00,  8.53it/s, loss=0.07, acc=0.98, val_loss=0.44, val_acc=0.86]\n"
     ]
    },
    {
     "name": "stdout",
     "output_type": "stream",
     "text": [
      "Model saved to models/base_mendeley_CV2.pickle\n"
     ]
    },
    {
     "data": {
      "text/html": [
       "<br/>Waiting for W&B process to finish, PID 1021131... <strong style=\"color:green\">(success).</strong>"
      ],
      "text/plain": [
       "<IPython.core.display.HTML object>"
      ]
     },
     "metadata": {},
     "output_type": "display_data"
    },
    {
     "data": {
      "application/vnd.jupyter.widget-view+json": {
       "model_id": "53560f73fe8842e092474838b31196ae",
       "version_major": 2,
       "version_minor": 0
      },
      "text/plain": [
       "VBox(children=(Label(value=' 0.04MB of 0.04MB uploaded (0.00MB deduped)\\r'), FloatProgress(value=1.0, max=1.0)…"
      ]
     },
     "metadata": {},
     "output_type": "display_data"
    },
    {
     "data": {
      "text/html": [
       "<style>\n",
       "    table.wandb td:nth-child(1) { padding: 0 10px; text-align: right }\n",
       "    .wandb-row { display: flex; flex-direction: row; flex-wrap: wrap; width: 100% }\n",
       "    .wandb-col { display: flex; flex-direction: column; flex-basis: 100%; flex: 1; padding: 10px; }\n",
       "    </style>\n",
       "<div class=\"wandb-row\"><div class=\"wandb-col\">\n",
       "<h3>Run history:</h3><br/><table class=\"wandb\"><tr><td>acc</td><td>▁▂▁▂▄▆▅▆▅▅▅▆▆▆▆▇▇▆▇▆▇▇▇▇▆▇▇▇▇▇▆▇▇▇██████</td></tr><tr><td>loss</td><td>███▇▆▄▄▃▄▄▄▄▃▃▃▃▂▃▃▂▂▂▂▂▃▂▂▂▂▂▂▂▂▂▂▁▁▁▁▁</td></tr><tr><td>val_acc</td><td>▁▁▄▆▆▇▇▇▇▇▇▇▇▇▇▇▇▇▇▇▇▇████████</td></tr><tr><td>val_loss</td><td>██▆▄▃▂▂▂▁▁▁▂▁▁▁▁▁▁▁▁▁▁▁▁▁▁▁▁▁▁</td></tr></table><br/></div><div class=\"wandb-col\">\n",
       "<h3>Run summary:</h3><br/><table class=\"wandb\"><tr><td>acc</td><td>0.97656</td></tr><tr><td>loss</td><td>0.07789</td></tr><tr><td>val_acc</td><td>0.85714</td></tr><tr><td>val_loss</td><td>0.4379</td></tr></table>\n",
       "</div></div>\n",
       "Synced 5 W&B file(s), 30 media file(s), 30 artifact file(s) and 1 other file(s)\n",
       "<br/>Synced <strong style=\"color:#cdcd00\">base_mendeley_CV_2</strong>: <a href=\"https://wandb.ai/usp-covid-xrays/xrays/runs/3q7l04n2\" target=\"_blank\">https://wandb.ai/usp-covid-xrays/xrays/runs/3q7l04n2</a><br/>\n",
       "Find logs at: <code>./wandb/run-20211018_183837-3q7l04n2/logs</code><br/>\n"
      ],
      "text/plain": [
       "<IPython.core.display.HTML object>"
      ]
     },
     "metadata": {},
     "output_type": "display_data"
    },
    {
     "data": {
      "text/html": [
       "\n",
       "                    Syncing run <strong><a href=\"https://wandb.ai/usp-covid-xrays/xrays/runs/3f2kgg05\" target=\"_blank\">base_mendeley_CV_3</a></strong> to <a href=\"https://wandb.ai/usp-covid-xrays/xrays\" target=\"_blank\">Weights & Biases</a> (<a href=\"https://docs.wandb.com/integrations/jupyter.html\" target=\"_blank\">docs</a>).<br/>\n",
       "\n",
       "                "
      ],
      "text/plain": [
       "<IPython.core.display.HTML object>"
      ]
     },
     "metadata": {},
     "output_type": "display_data"
    },
    {
     "name": "stderr",
     "output_type": "stream",
     "text": [
      "100%|█████████████████████████████████| 57/57 [00:06<00:00,  9.04it/s, loss=1.80, acc=0.35, val_loss=1.32, val_acc=0.36]\n",
      "100%|█████████████████████████████████| 57/57 [00:06<00:00,  9.26it/s, loss=1.30, acc=0.35, val_loss=1.29, val_acc=0.36]\n",
      "100%|█████████████████████████████████| 57/57 [00:06<00:00,  9.22it/s, loss=1.17, acc=0.45, val_loss=1.05, val_acc=0.56]\n",
      "100%|█████████████████████████████████| 57/57 [00:06<00:00,  9.47it/s, loss=0.92, acc=0.63, val_loss=0.83, val_acc=0.64]\n",
      "100%|█████████████████████████████████| 57/57 [00:06<00:00,  9.22it/s, loss=0.74, acc=0.70, val_loss=0.68, val_acc=0.71]\n",
      "100%|█████████████████████████████████| 57/57 [00:06<00:00,  9.07it/s, loss=0.61, acc=0.75, val_loss=0.56, val_acc=0.76]\n",
      "100%|█████████████████████████████████| 57/57 [00:05<00:00,  9.70it/s, loss=0.54, acc=0.78, val_loss=0.58, val_acc=0.76]\n",
      "100%|█████████████████████████████████| 57/57 [00:06<00:00,  8.81it/s, loss=0.50, acc=0.80, val_loss=0.51, val_acc=0.78]\n",
      "100%|█████████████████████████████████| 57/57 [00:06<00:00,  9.02it/s, loss=0.47, acc=0.81, val_loss=0.52, val_acc=0.78]\n",
      "100%|█████████████████████████████████| 57/57 [00:05<00:00,  9.73it/s, loss=0.45, acc=0.82, val_loss=0.50, val_acc=0.79]\n",
      "100%|█████████████████████████████████| 57/57 [00:05<00:00,  9.60it/s, loss=0.43, acc=0.82, val_loss=0.48, val_acc=0.79]\n",
      "100%|█████████████████████████████████| 57/57 [00:05<00:00,  9.64it/s, loss=0.41, acc=0.83, val_loss=0.46, val_acc=0.80]\n",
      "100%|█████████████████████████████████| 57/57 [00:06<00:00,  9.29it/s, loss=0.39, acc=0.84, val_loss=0.46, val_acc=0.81]\n",
      "100%|█████████████████████████████████| 57/57 [00:06<00:00,  9.47it/s, loss=0.38, acc=0.84, val_loss=0.45, val_acc=0.81]\n",
      "100%|█████████████████████████████████| 57/57 [00:06<00:00,  9.18it/s, loss=0.37, acc=0.85, val_loss=0.44, val_acc=0.82]\n",
      "100%|█████████████████████████████████| 57/57 [00:05<00:00,  9.51it/s, loss=0.35, acc=0.85, val_loss=0.44, val_acc=0.81]\n",
      "100%|█████████████████████████████████| 57/57 [00:05<00:00,  9.50it/s, loss=0.33, acc=0.86, val_loss=0.43, val_acc=0.82]\n",
      "100%|█████████████████████████████████| 57/57 [00:05<00:00,  9.52it/s, loss=0.31, acc=0.87, val_loss=0.45, val_acc=0.82]\n",
      "100%|█████████████████████████████████| 57/57 [00:06<00:00,  9.19it/s, loss=0.29, acc=0.87, val_loss=0.45, val_acc=0.81]\n",
      "100%|█████████████████████████████████| 57/57 [00:05<00:00,  9.60it/s, loss=0.27, acc=0.89, val_loss=0.42, val_acc=0.82]\n",
      "100%|█████████████████████████████████| 57/57 [00:06<00:00,  9.10it/s, loss=0.25, acc=0.90, val_loss=0.43, val_acc=0.84]\n",
      "100%|█████████████████████████████████| 57/57 [00:06<00:00,  9.12it/s, loss=0.23, acc=0.91, val_loss=0.43, val_acc=0.83]\n",
      "100%|█████████████████████████████████| 57/57 [00:06<00:00,  9.23it/s, loss=0.22, acc=0.91, val_loss=0.42, val_acc=0.83]\n",
      "100%|█████████████████████████████████| 57/57 [00:06<00:00,  9.34it/s, loss=0.20, acc=0.92, val_loss=0.45, val_acc=0.84]\n",
      "100%|█████████████████████████████████| 57/57 [00:06<00:00,  9.46it/s, loss=0.16, acc=0.94, val_loss=0.42, val_acc=0.84]\n",
      "100%|█████████████████████████████████| 57/57 [00:05<00:00,  9.57it/s, loss=0.13, acc=0.95, val_loss=0.43, val_acc=0.84]\n",
      "100%|█████████████████████████████████| 57/57 [00:06<00:00,  9.48it/s, loss=0.11, acc=0.97, val_loss=0.41, val_acc=0.85]\n",
      "100%|█████████████████████████████████| 57/57 [00:05<00:00,  9.68it/s, loss=0.09, acc=0.97, val_loss=0.40, val_acc=0.86]\n",
      "100%|█████████████████████████████████| 57/57 [00:06<00:00,  9.41it/s, loss=0.08, acc=0.98, val_loss=0.40, val_acc=0.85]\n",
      "100%|█████████████████████████████████| 57/57 [00:05<00:00,  9.67it/s, loss=0.07, acc=0.98, val_loss=0.40, val_acc=0.85]\n"
     ]
    },
    {
     "name": "stdout",
     "output_type": "stream",
     "text": [
      "Model saved to models/base_mendeley_CV3.pickle\n"
     ]
    },
    {
     "data": {
      "text/html": [
       "<br/>Waiting for W&B process to finish, PID 1022576... <strong style=\"color:green\">(success).</strong>"
      ],
      "text/plain": [
       "<IPython.core.display.HTML object>"
      ]
     },
     "metadata": {},
     "output_type": "display_data"
    },
    {
     "data": {
      "application/vnd.jupyter.widget-view+json": {
       "model_id": "0e3ec772a8814a51ba9382b37126cc35",
       "version_major": 2,
       "version_minor": 0
      },
      "text/plain": [
       "VBox(children=(Label(value=' 0.04MB of 0.04MB uploaded (0.00MB deduped)\\r'), FloatProgress(value=1.0, max=1.0)…"
      ]
     },
     "metadata": {},
     "output_type": "display_data"
    },
    {
     "data": {
      "text/html": [
       "<style>\n",
       "    table.wandb td:nth-child(1) { padding: 0 10px; text-align: right }\n",
       "    .wandb-row { display: flex; flex-direction: row; flex-wrap: wrap; width: 100% }\n",
       "    .wandb-col { display: flex; flex-direction: column; flex-basis: 100%; flex: 1; padding: 10px; }\n",
       "    </style>\n",
       "<div class=\"wandb-row\"><div class=\"wandb-col\">\n",
       "<h3>Run history:</h3><br/><table class=\"wandb\"><tr><td>acc</td><td>▂▂▁▃▅▅▅▆▅▆▅▆▆▇▆▇▇▆▆▆▇▆▇▇▆▇▇▇▇▇█▆█▇██████</td></tr><tr><td>loss</td><td>███▇▆▅▄▄▄▄▄▄▃▃▃▃▃▃▃▃▂▃▂▂▃▂▂▂▂▂▁▃▁▂▁▁▁▁▁▁</td></tr><tr><td>val_acc</td><td>▁▁▄▅▆▇▇▇▇▇▇▇▇▇▇▇▇▇▇███████████</td></tr><tr><td>val_loss</td><td>██▆▄▃▂▂▂▂▂▂▂▂▁▁▁▁▁▁▁▁▁▁▁▁▁▁▁▁▁</td></tr></table><br/></div><div class=\"wandb-col\">\n",
       "<h3>Run summary:</h3><br/><table class=\"wandb\"><tr><td>acc</td><td>1.0</td></tr><tr><td>loss</td><td>0.06714</td></tr><tr><td>val_acc</td><td>0.85435</td></tr><tr><td>val_loss</td><td>0.39558</td></tr></table>\n",
       "</div></div>\n",
       "Synced 5 W&B file(s), 30 media file(s), 30 artifact file(s) and 1 other file(s)\n",
       "<br/>Synced <strong style=\"color:#cdcd00\">base_mendeley_CV_3</strong>: <a href=\"https://wandb.ai/usp-covid-xrays/xrays/runs/3f2kgg05\" target=\"_blank\">https://wandb.ai/usp-covid-xrays/xrays/runs/3f2kgg05</a><br/>\n",
       "Find logs at: <code>./wandb/run-20211018_184220-3f2kgg05/logs</code><br/>\n"
      ],
      "text/plain": [
       "<IPython.core.display.HTML object>"
      ]
     },
     "metadata": {},
     "output_type": "display_data"
    },
    {
     "data": {
      "text/html": [
       "\n",
       "                    Syncing run <strong><a href=\"https://wandb.ai/usp-covid-xrays/xrays/runs/30p0k3ju\" target=\"_blank\">base_mendeley_CV_4</a></strong> to <a href=\"https://wandb.ai/usp-covid-xrays/xrays\" target=\"_blank\">Weights & Biases</a> (<a href=\"https://docs.wandb.com/integrations/jupyter.html\" target=\"_blank\">docs</a>).<br/>\n",
       "\n",
       "                "
      ],
      "text/plain": [
       "<IPython.core.display.HTML object>"
      ]
     },
     "metadata": {},
     "output_type": "display_data"
    },
    {
     "name": "stderr",
     "output_type": "stream",
     "text": [
      "100%|█████████████████████████████████| 57/57 [00:06<00:00,  9.42it/s, loss=1.80, acc=0.35, val_loss=1.31, val_acc=0.37]\n",
      "100%|█████████████████████████████████| 57/57 [00:05<00:00,  9.69it/s, loss=1.30, acc=0.35, val_loss=1.27, val_acc=0.38]\n",
      "100%|█████████████████████████████████| 57/57 [00:05<00:00,  9.58it/s, loss=1.17, acc=0.46, val_loss=1.02, val_acc=0.61]\n",
      "100%|█████████████████████████████████| 57/57 [00:08<00:00,  6.48it/s, loss=0.93, acc=0.61, val_loss=0.76, val_acc=0.69]\n",
      "100%|█████████████████████████████████| 57/57 [00:05<00:00,  9.67it/s, loss=0.70, acc=0.71, val_loss=0.59, val_acc=0.76]\n",
      "100%|█████████████████████████████████| 57/57 [00:05<00:00,  9.71it/s, loss=0.56, acc=0.77, val_loss=0.49, val_acc=0.80]\n",
      "100%|█████████████████████████████████| 57/57 [00:05<00:00,  9.76it/s, loss=0.50, acc=0.79, val_loss=0.48, val_acc=0.81]\n",
      "100%|█████████████████████████████████| 57/57 [00:05<00:00,  9.81it/s, loss=0.48, acc=0.80, val_loss=0.46, val_acc=0.81]\n",
      "100%|█████████████████████████████████| 57/57 [00:05<00:00,  9.64it/s, loss=0.46, acc=0.81, val_loss=0.44, val_acc=0.82]\n",
      "100%|█████████████████████████████████| 57/57 [00:05<00:00,  9.97it/s, loss=0.44, acc=0.82, val_loss=0.43, val_acc=0.82]\n",
      "100%|█████████████████████████████████| 57/57 [00:06<00:00,  8.43it/s, loss=0.42, acc=0.82, val_loss=0.44, val_acc=0.82]\n",
      "100%|█████████████████████████████████| 57/57 [00:05<00:00,  9.56it/s, loss=0.41, acc=0.83, val_loss=0.43, val_acc=0.83]\n",
      "100%|█████████████████████████████████| 57/57 [00:06<00:00,  9.38it/s, loss=0.39, acc=0.83, val_loss=0.42, val_acc=0.83]\n",
      "100%|█████████████████████████████████| 57/57 [00:05<00:00,  9.63it/s, loss=0.37, acc=0.84, val_loss=0.43, val_acc=0.83]\n",
      "100%|█████████████████████████████████| 57/57 [00:05<00:00,  9.80it/s, loss=0.36, acc=0.84, val_loss=0.43, val_acc=0.83]\n",
      "100%|█████████████████████████████████| 57/57 [00:05<00:00,  9.71it/s, loss=0.35, acc=0.85, val_loss=0.42, val_acc=0.83]\n",
      "100%|█████████████████████████████████| 57/57 [00:05<00:00,  9.55it/s, loss=0.33, acc=0.86, val_loss=0.42, val_acc=0.83]\n",
      "100%|█████████████████████████████████| 57/57 [00:05<00:00,  9.67it/s, loss=0.32, acc=0.87, val_loss=0.42, val_acc=0.83]\n",
      "100%|█████████████████████████████████| 57/57 [00:06<00:00,  9.35it/s, loss=0.30, acc=0.88, val_loss=0.43, val_acc=0.84]\n",
      "100%|█████████████████████████████████| 57/57 [00:05<00:00,  9.59it/s, loss=0.27, acc=0.89, val_loss=0.42, val_acc=0.85]\n",
      "100%|█████████████████████████████████| 57/57 [00:05<00:00,  9.79it/s, loss=0.26, acc=0.89, val_loss=0.42, val_acc=0.84]\n",
      "100%|█████████████████████████████████| 57/57 [00:05<00:00,  9.81it/s, loss=0.23, acc=0.90, val_loss=0.43, val_acc=0.84]\n",
      "100%|█████████████████████████████████| 57/57 [00:05<00:00,  9.89it/s, loss=0.20, acc=0.92, val_loss=0.44, val_acc=0.84]\n",
      "100%|█████████████████████████████████| 57/57 [00:06<00:00,  9.47it/s, loss=0.17, acc=0.94, val_loss=0.45, val_acc=0.85]\n",
      "100%|█████████████████████████████████| 57/57 [00:05<00:00,  9.70it/s, loss=0.14, acc=0.95, val_loss=0.45, val_acc=0.85]\n",
      "100%|█████████████████████████████████| 57/57 [00:06<00:00,  9.13it/s, loss=0.11, acc=0.96, val_loss=0.46, val_acc=0.85]\n",
      "100%|█████████████████████████████████| 57/57 [00:05<00:00,  9.66it/s, loss=0.09, acc=0.97, val_loss=0.47, val_acc=0.85]\n",
      "100%|█████████████████████████████████| 57/57 [00:05<00:00,  9.58it/s, loss=0.07, acc=0.98, val_loss=0.46, val_acc=0.85]\n",
      "100%|█████████████████████████████████| 57/57 [00:05<00:00,  9.66it/s, loss=0.06, acc=0.99, val_loss=0.46, val_acc=0.86]\n",
      "100%|█████████████████████████████████| 57/57 [00:07<00:00,  7.43it/s, loss=0.06, acc=0.99, val_loss=0.46, val_acc=0.86]\n"
     ]
    },
    {
     "name": "stdout",
     "output_type": "stream",
     "text": [
      "Model saved to models/base_mendeley_CV4.pickle\n"
     ]
    },
    {
     "data": {
      "text/html": [
       "<br/>Waiting for W&B process to finish, PID 1024044... <strong style=\"color:green\">(success).</strong>"
      ],
      "text/plain": [
       "<IPython.core.display.HTML object>"
      ]
     },
     "metadata": {},
     "output_type": "display_data"
    },
    {
     "data": {
      "application/vnd.jupyter.widget-view+json": {
       "model_id": "1fa4ccbe3c37485cba3584bf111bd970",
       "version_major": 2,
       "version_minor": 0
      },
      "text/plain": [
       "VBox(children=(Label(value=' 0.04MB of 0.04MB uploaded (0.00MB deduped)\\r'), FloatProgress(value=1.0, max=1.0)…"
      ]
     },
     "metadata": {},
     "output_type": "display_data"
    },
    {
     "data": {
      "text/html": [
       "<style>\n",
       "    table.wandb td:nth-child(1) { padding: 0 10px; text-align: right }\n",
       "    .wandb-row { display: flex; flex-direction: row; flex-wrap: wrap; width: 100% }\n",
       "    .wandb-col { display: flex; flex-direction: column; flex-basis: 100%; flex: 1; padding: 10px; }\n",
       "    </style>\n",
       "<div class=\"wandb-row\"><div class=\"wandb-col\">\n",
       "<h3>Run history:</h3><br/><table class=\"wandb\"><tr><td>acc</td><td>▂▂▁▄▄▅▅▆▅▆▆▆▇▇▆▇▇▆▆▆▇▇▇▇▆▇▇█▇▇▇▇▇███████</td></tr><tr><td>loss</td><td>███▇▆▅▄▃▄▃▄▃▃▃▃▃▃▃▃▃▂▂▂▂▃▂▂▂▂▂▂▂▂▂▁▁▁▁▁▁</td></tr><tr><td>val_acc</td><td>▁▁▄▆▇▇▇▇▇▇▇███████████████████</td></tr><tr><td>val_loss</td><td>██▆▄▂▂▁▁▁▁▁▁▁▁▁▁▁▁▁▁▁▁▁▁▁▁▁▁▁▁</td></tr></table><br/></div><div class=\"wandb-col\">\n",
       "<h3>Run summary:</h3><br/><table class=\"wandb\"><tr><td>acc</td><td>0.98438</td></tr><tr><td>loss</td><td>0.06906</td></tr><tr><td>val_acc</td><td>0.85993</td></tr><tr><td>val_loss</td><td>0.45859</td></tr></table>\n",
       "</div></div>\n",
       "Synced 5 W&B file(s), 30 media file(s), 30 artifact file(s) and 1 other file(s)\n",
       "<br/>Synced <strong style=\"color:#cdcd00\">base_mendeley_CV_4</strong>: <a href=\"https://wandb.ai/usp-covid-xrays/xrays/runs/30p0k3ju\" target=\"_blank\">https://wandb.ai/usp-covid-xrays/xrays/runs/30p0k3ju</a><br/>\n",
       "Find logs at: <code>./wandb/run-20211018_184605-30p0k3ju/logs</code><br/>\n"
      ],
      "text/plain": [
       "<IPython.core.display.HTML object>"
      ]
     },
     "metadata": {},
     "output_type": "display_data"
    }
   ],
   "source": [
    "mendeley_class_names = ['Normal', 'Pneumonia Bacteriana', 'COVID-19', 'Pneumonia Viral']\n",
    "five_fold_cross_validation(\"base_mendeley\", dataset_mendeley, basemodel_process, mendeley_class_names)"
   ]
  },
  {
   "cell_type": "code",
   "execution_count": null,
   "metadata": {},
   "outputs": [],
   "source": [
    "matrices_array = np.asarray(matrices)\n",
    "plots.heatmatrix(matrices_array.mean(axis=0), \"Mean heatmap\")\n",
    "plots.heatmatrix(matrices_array.std(axis=0), \"Std heatmap\")"
   ]
  },
  {
   "cell_type": "code",
   "execution_count": null,
   "metadata": {},
   "outputs": [],
   "source": [
    "basemodel_tawsifur = model.train_model(model_name + \"CV\" + str(i), net_container, process_fn, cv_dataset)\n",
    "sims = trim_duplicates.compute_similarities(dataset_tawsifur, net_container, basemodel_tawsifur)"
   ]
  },
  {
   "cell_type": "code",
   "execution_count": null,
   "metadata": {},
   "outputs": [],
   "source": [
    "thresh = 0.998\n",
    "max_sims = sims.max(axis=1) - thresh\n",
    "y_classes = dataset_tawsifur.y_all[:sims.shape[0]].argmax(1)\n",
    "max_sims_index = sims.argmax(axis=1)\n",
    "mask = (max_sims >= 0) & (max_sims <= 0.0005)\n",
    "indices = np.where(mask)[0]\n",
    "plots.compare_images(dataset_tawsifur.x_all[indices], dataset_tawsifur.x_all[max_sims_index[indices]], rows=10)\n",
    "#trim_duplicates.plot_similarities(dataset_tawsifur, sims, threshold=0.99)"
   ]
  },
  {
   "cell_type": "code",
   "execution_count": null,
   "metadata": {},
   "outputs": [],
   "source": [
    "trim_duplicates.plot_similarities(dataset_tawsifur, sims, threshold=thresh)\n",
    "dataset_tawsifur_curated = trim_duplicates.remove_duplicates(dataset_tawsifur, sims, threshold=thresh)"
   ]
  },
  {
   "cell_type": "code",
   "execution_count": null,
   "metadata": {},
   "outputs": [],
   "source": [
    "print(dataset_tawsifur_curated.x_train.shape, dataset_tawsifur.x_train.shape)"
   ]
  },
  {
   "cell_type": "code",
   "execution_count": null,
   "metadata": {},
   "outputs": [],
   "source": [
    "basemodel_tawsifur_curated = model.train_model(\"basemodel_tawsifur_curated\", net_container, basemodel_process, dataset_tawsifur_curated)\n",
    "y_pred_tawsifur_curated = net_container.predict(basemodel_tawsifur_curated.params, basemodel_tawsifur_curated.state, dataset_tawsifur_curated.x_test)\n",
    "plots.confusion_matrix(dataset_tawsifur_curated, y_pred_tawsifur_curated, \"Tawsifur - Curated\")"
   ]
  },
  {
   "cell_type": "markdown",
   "metadata": {},
   "source": [
    "# Transfer learning test"
   ]
  },
  {
   "cell_type": "code",
   "execution_count": null,
   "metadata": {},
   "outputs": [],
   "source": [
    "rng = jax.random.PRNGKey(SEED)\n",
    "dataset_mendeley = Dataset.load(\"mendeley\", rng=rng)\n",
    "\n",
    "net, optim = model.init_net_and_optim(dataset_mendeley.x_train, NUM_CLASSES, BATCH_SIZE)\n",
    "\n",
    "# Gets functions for the model\n",
    "net_container = network.create(net, optim, BATCH_SIZE, shape = (10, 256, 256, 3))"
   ]
  },
  {
   "cell_type": "code",
   "execution_count": null,
   "metadata": {},
   "outputs": [],
   "source": [
    "# Test of tawsifur on mendeley\n",
    "\n",
    "basemodel_tawsifur = model.train_model(\"basemodel_tawsifurCV0\", net_container, basemodel_process, dataset_mendeley)\n",
    "y_test_pred = net_container.predict(basemodel_tawsifur.params, basemodel_tawsifur.state, dataset_mendeley.x_test)\n",
    "matrix = sklearn.metrics.confusion_matrix(\n",
    "        dataset_mendeley.y_test[0:y_test_pred.shape[0],].argmax(1),\n",
    "        y_test_pred.argmax(1), normalize = 'true'\n",
    "    )\n",
    "plots.heatmatrix(matrix, \"Transfer learning from tawsifur to mendeley\")"
   ]
  }
 ],
 "metadata": {
  "interpreter": {
   "hash": "916dbcbb3f70747c44a77c7bcd40155683ae19c65e1c03b4aa3499c5328201f1"
  },
  "kernelspec": {
   "display_name": "Python 3.8.10 64-bit",
   "name": "python3"
  },
  "language_info": {
   "codemirror_mode": {
    "name": "ipython",
    "version": 3
   },
   "file_extension": ".py",
   "mimetype": "text/x-python",
   "name": "python",
   "nbconvert_exporter": "python",
   "pygments_lexer": "ipython3",
   "version": "3.8.10"
  }
 },
 "nbformat": 4,
 "nbformat_minor": 4
}
