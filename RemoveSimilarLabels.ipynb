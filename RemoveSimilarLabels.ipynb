{
 "cells": [
  {
   "cell_type": "code",
   "execution_count": 15,
   "id": "937e1ac7",
   "metadata": {},
   "outputs": [
    {
     "name": "stdout",
     "output_type": "stream",
     "text": [
      "The autoreload extension is already loaded. To reload it, use:\n",
      "  %reload_ext autoreload\n"
     ]
    }
   ],
   "source": [
    "# Starts the autoreload extension, which allows editing the .py files with the notebook running and automatically imports the latest changes\n",
    "\n",
    "%load_ext autoreload\n",
    "%autoreload 2\n",
    "\n",
    "import trim_duplicates, model, network, gradcam, plots\n",
    "from dataset import Dataset\n",
    "import jax.numpy as jnp\n",
    "import numpy as np\n",
    "import jax\n",
    "import sklearn\n",
    "import wandb\n",
    "from trim_duplicates import DuplicatesData\n",
    "import matplotlib.pyplot as plt\n",
    "\n",
    "assert jax.local_device_count() >= 8\n",
    "#jax.config.update('jax_platform_name', 'cpu')\n",
    "\n",
    "NUM_CLASSES = 4\n",
    "SEED = 14\n",
    "BATCH_SIZE = 128"
   ]
  },
  {
   "cell_type": "code",
   "execution_count": 16,
   "id": "4e903130",
   "metadata": {},
   "outputs": [
    {
     "name": "stderr",
     "output_type": "stream",
     "text": [
      "tcmalloc: large alloc 16644833280 bytes == 0x62dafa000 @  0x7fdca28e2680 0x7fdca2903824 0x7fdc97f794ce 0x7fdc97fcf00e 0x7fdc97fcfc4f 0x7fdc98071924 0x5f2fb9 0x5f3446 0x56fb02 0x56822a 0x5f6033 0x56b115 0x56822a 0x5f6033 0x56ef97 0x56822a 0x5f6033 0x56b115 0x56822a 0x68c1e7 0x5ff1f4 0x5c3cb0 0x569f5e 0x5002e8 0x56b95e 0x5002e8 0x56b95e 0x5002e8 0x503f46 0x56a136 0x5f5e56\n",
      "tcmalloc: large alloc 16644833280 bytes == 0xa0f414000 @  0x7fdca28e2680 0x7fdca2903824 0x7fdca2903b8a 0x7fd9cf60837c 0x7fd9cb09c520 0x7fd9cb0ac228 0x7fd9cb0afaac 0x7fd9cafecfb2 0x7fd9cadc4c88 0x7fd9cadac991 0x5f2fb9 0x5f3446 0x50aa8b 0x56ef97 0x56822a 0x5f6033 0x5f5869 0x664d7d 0x5f2c0e 0x56b7b0 0x56822a 0x5f6033 0x5f2b87 0x56b7b0 0x56822a 0x5f6033 0x5f5869 0x664d7d 0x5f2c0e 0x56b7b0 0x5f5e56\n",
      "tcmalloc: large alloc 13315866624 bytes == 0x637228000 @  0x7fdca28e2680 0x7fdca2903824 0x7fdca2903b8a 0x7fd9cf60837c 0x7fd9cb09c520 0x7fd9cb0ac228 0x7fd9cb0afaac 0x7fd9cafecfb2 0x7fd9cadc4c88 0x7fd9cadac991 0x5f2fb9 0x5f3446 0x50aa8b 0x56ef97 0x56822a 0x5f6033 0x5f5869 0x664d7d 0x5f2c0e 0x56b7b0 0x56822a 0x5f6033 0x5f2b87 0x56b7b0 0x56822a 0x5f6033 0x5f5869 0x664d7d 0x5f2c0e 0x56b7b0 0x5f5e56\n",
      "tcmalloc: large alloc 3328966656 bytes == 0xdf05d4000 @  0x7fdca28e2680 0x7fdca2903824 0x7fdca2903b8a 0x7fd9cf60837c 0x7fd9cb09c520 0x7fd9cb0ac228 0x7fd9cb0afaac 0x7fd9cafecfb2 0x7fd9cadc4c88 0x7fd9cadac991 0x5f2fb9 0x5f3446 0x50aa8b 0x56ef97 0x56822a 0x5f6033 0x5f5869 0x664d7d 0x5f2c0e 0x56b7b0 0x56822a 0x5f6033 0x5f2b87 0x56b7b0 0x56822a 0x5f6033 0x5f5869 0x664d7d 0x5f2c0e 0x56b7b0 0x5f5e56\n",
      "tcmalloc: large alloc 16644833280 bytes == 0xeb7494000 @  0x7fdca28e2680 0x7fdca2903824 0x7fdca2903b8a 0x7fd9cf60837c 0x7fd9cb09c520 0x7fd9cb0ac228 0x7fd9cb0afaac 0x7fd9cafecfb2 0x7fd9cadc4c88 0x7fd9cadac991 0x5f2fb9 0x5f3446 0x50aa8b 0x56ef97 0x56822a 0x5f6033 0x5f5869 0x664d7d 0x5f2c0e 0x56b7b0 0x56822a 0x5f6033 0x5f2b87 0x56b7b0 0x56822a 0x5f6033 0x5f5869 0x664d7d 0x5f2c0e 0x56b7b0 0x5f5e56\n"
     ]
    }
   ],
   "source": [
    "rng = jax.random.split(jax.random.PRNGKey(1))[0]\n",
    "ds = Dataset.load(\"tawsifur\", rng=rng)"
   ]
  },
  {
   "cell_type": "code",
   "execution_count": 17,
   "id": "9067b628",
   "metadata": {},
   "outputs": [
    {
     "name": "stderr",
     "output_type": "stream",
     "text": [
      "tcmalloc: large alloc 16644833280 bytes == 0xa0f414000 @  0x7fdca28e2680 0x7fdca2903824 0x7fdca2903b8a 0x7fd9cf60837c 0x7fd9cb09c520 0x7fd9cb0ac228 0x7fd9cb0afaac 0x7fd9cafecfb2 0x7fd9cadc4c88 0x7fd9cadac991 0x5f2fb9 0x5f3446 0x50aa8b 0x56ef97 0x56822a 0x5f6033 0x5f5869 0x664d7d 0x5f2c0e 0x56b7b0 0x56822a 0x5f6033 0x5f2b87 0x56b7b0 0x56822a 0x5f6033 0x5f5869 0x664d7d 0x5f2c0e 0x56b7b0 0x5f5e56\n"
     ]
    }
   ],
   "source": [
    "from functools import partial\n",
    "\n",
    "@partial(jax.vmap, in_axes = (None, 0))\n",
    "@partial(jax.vmap, in_axes = (0, None))\n",
    "def cosine_similarity(x,y):\n",
    "    return jnp.dot(x,y) / jnp.sqrt(jnp.dot(x,x) * jnp.dot(y,y))\n",
    "\n",
    "embeddings = ds.x_all.reshape(ds.x_all.shape[0], -1)\n",
    "\n",
    "sims = cosine_similarity(embeddings, embeddings)\n",
    "sims = sims - np.eye(sims.shape[0])"
   ]
  },
  {
   "cell_type": "code",
   "execution_count": 18,
   "id": "54e09b5a",
   "metadata": {},
   "outputs": [],
   "source": [
    "y_all = ds.y_all.argmax(axis=1)\n",
    "D = np.tile(y_all, (y_all.shape[0], 1))"
   ]
  },
  {
   "cell_type": "code",
   "execution_count": 19,
   "id": "1b7d7d9e",
   "metadata": {},
   "outputs": [
    {
     "data": {
      "text/plain": [
       "array([[1, 0, 3, ..., 3, 1, 2],\n",
       "       [1, 0, 3, ..., 3, 1, 2],\n",
       "       [1, 0, 3, ..., 3, 1, 2],\n",
       "       ...,\n",
       "       [1, 0, 3, ..., 3, 1, 2],\n",
       "       [1, 0, 3, ..., 3, 1, 2],\n",
       "       [1, 0, 3, ..., 3, 1, 2]], dtype=int32)"
      ]
     },
     "execution_count": 19,
     "metadata": {},
     "output_type": "execute_result"
    }
   ],
   "source": [
    "D"
   ]
  },
  {
   "cell_type": "code",
   "execution_count": 20,
   "id": "103b8082",
   "metadata": {},
   "outputs": [],
   "source": [
    "diff = D != D.T\n",
    "sims_diff = jnp.multiply(sims, diff)"
   ]
  },
  {
   "cell_type": "code",
   "execution_count": 23,
   "id": "5a0c3f1a",
   "metadata": {},
   "outputs": [
    {
     "data": {
      "text/plain": [
       "<AxesSubplot:ylabel='Count'>"
      ]
     },
     "execution_count": 23,
     "metadata": {},
     "output_type": "execute_result"
    },
    {
     "data": {
      "image/png": "[encoded data removed]",
      "text/plain": [
       "<Figure size 432x288 with 1 Axes>"
      ]
     },
     "metadata": {
      "needs_background": "light"
     },
     "output_type": "display_data"
    }
   ],
   "source": [
    "import matplotlib.pyplot as plt\n",
    "import seaborn as sns\n",
    "\n",
    "max_sims = sims_diff.max(axis=0)\n",
    "sns.histplot(max_sims[max_sims > 0.95])"
   ]
  }
 ],
 "metadata": {
  "kernelspec": {
   "display_name": "Python 3 (ipykernel)",
   "language": "python",
   "name": "python3"
  },
  "language_info": {
   "codemirror_mode": {
    "name": "ipython",
    "version": 3
   },
   "file_extension": ".py",
   "mimetype": "text/x-python",
   "name": "python",
   "nbconvert_exporter": "python",
   "pygments_lexer": "ipython3",
   "version": "3.8.5"
  }
 },
 "nbformat": 4,
 "nbformat_minor": 5
}
